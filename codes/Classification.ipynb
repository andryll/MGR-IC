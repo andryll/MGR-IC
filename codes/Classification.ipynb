{
  "nbformat": 4,
  "nbformat_minor": 0,
  "metadata": {
    "colab": {
      "provenance": [],
      "collapsed_sections": [
        "rpmy2VTrFBRE"
      ],
      "authorship_tag": "ABX9TyPdRZxxRiDwSGLIi8396d6Q",
      "include_colab_link": true
    },
    "kernelspec": {
      "name": "python3",
      "display_name": "Python 3"
    },
    "language_info": {
      "name": "python"
    }
  },
  "cells": [
    {
      "cell_type": "markdown",
      "metadata": {
        "id": "view-in-github",
        "colab_type": "text"
      },
      "source": [
        "<a href=\"https://colab.research.google.com/github/andryll/MGR-IC/blob/main/codes/Classification.ipynb\" target=\"_parent\"><img src=\"https://colab.research.google.com/assets/colab-badge.svg\" alt=\"Open In Colab\"/></a>"
      ]
    },
    {
      "cell_type": "code",
      "execution_count": 10,
      "metadata": {
        "id": "4J4j_vYHEVhw"
      },
      "outputs": [],
      "source": [
        "# Importando as Bibliotecas\n",
        "\n",
        "import numpy as np\n",
        "import matplotlib.pyplot as plt\n",
        "import pandas as pd\n",
        "import os\n",
        "from sklearn.model_selection import train_test_split\n",
        "from sklearn import neighbors\n",
        "from sklearn import tree\n",
        "from sklearn import ensemble\n",
        "from sklearn import metrics\n",
        "from sklearn import preprocessing\n",
        "from sklearn.model_selection import StratifiedKFold\n",
        "from sklearn.metrics import f1_score\n",
        "from sklearn.metrics import balanced_accuracy_score\n",
        "from numba import jit, cuda"
      ]
    },
    {
      "cell_type": "markdown",
      "source": [
        "### Algoritmos"
      ],
      "metadata": {
        "id": "rpmy2VTrFBRE"
      }
    },
    {
      "cell_type": "code",
      "source": [
        "@jit(target_backend='cuda')\n",
        "def KFoldCrossValidation(dataframe, n_splits, seed):\n",
        "\n",
        "    target = 'Classe'\n",
        "    X_columns = dataframe.columns[dataframe.columns != target]\n",
        "    X = dataframe[X_columns]\n",
        "    Y = dataframe[target]\n",
        "\n",
        "    skf = StratifiedKFold(n_splits = n_splits, shuffle=True, random_state = seed)\n",
        "\n",
        "    X_train_list = []\n",
        "    X_test_list = []\n",
        "    Y_train_list = []\n",
        "    Y_test_list = []\n",
        "\n",
        "    for train_index, test_index in skf.split(X, Y):\n",
        "        X_train, X_test = X.iloc[train_index], X.iloc[test_index]\n",
        "        Y_train, Y_test = Y.iloc[train_index], Y.iloc[test_index]\n",
        "\n",
        "        # Armazenar os vetores de treino e teste nas listas\n",
        "        X_train_list.append(X_train.values.tolist())\n",
        "        X_test_list.append(X_test.values.tolist())\n",
        "        Y_train_list.append(Y_train.to_list())\n",
        "        Y_test_list.append(Y_test.to_list())\n",
        "\n",
        "    return X_train_list, X_test_list, Y_train_list, Y_test_list"
      ],
      "metadata": {
        "colab": {
          "base_uri": "https://localhost:8080/"
        },
        "id": "WKTwk1PaErcw",
        "outputId": "e4190672-a4cb-4804-aabf-689d362c59fa"
      },
      "execution_count": 11,
      "outputs": [
        {
          "output_type": "stream",
          "name": "stderr",
          "text": [
            "C:\\Users\\andry\\AppData\\Local\\Temp\\ipykernel_16252\\3613784337.py:1: NumbaDeprecationWarning: \u001b[1mThe 'nopython' keyword argument was not supplied to the 'numba.jit' decorator. The implicit default value for this argument is currently False, but it will be changed to True in Numba 0.59.0. See https://numba.readthedocs.io/en/stable/reference/deprecation.html#deprecation-of-object-mode-fall-back-behaviour-when-using-jit for details.\u001b[0m\n",
            "  @jit(target_backend='cuda')\n"
          ]
        }
      ]
    },
    {
      "cell_type": "code",
      "source": [
        "@jit(target_backend='cuda')\n",
        "def elbowKNN(dflist, n_neigh, seed):\n",
        "\n",
        "\n",
        "  scorelist = []\n",
        "\n",
        "  for df in dflist:\n",
        "    neigh = neighbors.KNeighborsClassifier(n_neighbors= n_neigh)\n",
        "\n",
        "    X_train, X_test, Y_train, Y_test = KFoldCrossValidation(df, n_splits = 10, seed = seed)\n",
        "\n",
        "    auxlist = []\n",
        "\n",
        "    for i in range(10):\n",
        "\n",
        "        neigh.fit(X_train[i], Y_train[i])\n",
        "        Y_predict = neigh.predict(X_test[i])\n",
        "        auxlist.append(balanced_accuracy_score(Y_test[i], Y_predict))\n",
        "\n",
        "    scorelist.append(np.mean(np.array(auxlist), axis = 0))\n",
        "\n",
        "  return scorelist"
      ],
      "metadata": {
        "colab": {
          "base_uri": "https://localhost:8080/"
        },
        "id": "1Y9jjj0ZEw3W",
        "outputId": "95c31352-9664-48b5-bd2c-ccf321cc8f02"
      },
      "execution_count": 12,
      "outputs": [
        {
          "output_type": "stream",
          "name": "stderr",
          "text": [
            "C:\\Users\\andry\\AppData\\Local\\Temp\\ipykernel_16252\\2177307423.py:1: NumbaDeprecationWarning: \u001b[1mThe 'nopython' keyword argument was not supplied to the 'numba.jit' decorator. The implicit default value for this argument is currently False, but it will be changed to True in Numba 0.59.0. See https://numba.readthedocs.io/en/stable/reference/deprecation.html#deprecation-of-object-mode-fall-back-behaviour-when-using-jit for details.\u001b[0m\n",
            "  @jit(target_backend='cuda')\n"
          ]
        }
      ]
    },
    {
      "cell_type": "code",
      "source": [
        "@jit(target_backend='cuda')\n",
        "def elbowTree(dflist, seed):\n",
        "\n",
        "  scorelist = []\n",
        "\n",
        "  for df in dflist:\n",
        "    clf = tree.DecisionTreeClassifier(random_state = seed)\n",
        "\n",
        "    X_train, X_test, Y_train, Y_test = KFoldCrossValidation(df, n_splits = 10, seed = seed)\n",
        "\n",
        "    auxlist = []\n",
        "\n",
        "    for i in range(10):\n",
        "\n",
        "        clf.fit(X_train[i], Y_train[i])\n",
        "        Y_predict = clf.predict(X_test[i])\n",
        "        auxlist.append(balanced_accuracy_score(Y_test[i], Y_predict))\n",
        "\n",
        "    scorelist.append(np.mean(np.array(auxlist), axis = 0))\n",
        "\n",
        "  return scorelist"
      ],
      "metadata": {
        "colab": {
          "base_uri": "https://localhost:8080/"
        },
        "id": "N_HfCAYSE2nO",
        "outputId": "3675dafc-8c8c-4877-b2d3-7284341a53c7"
      },
      "execution_count": 13,
      "outputs": [
        {
          "output_type": "stream",
          "name": "stderr",
          "text": [
            "C:\\Users\\andry\\AppData\\Local\\Temp\\ipykernel_16252\\62381797.py:1: NumbaDeprecationWarning: \u001b[1mThe 'nopython' keyword argument was not supplied to the 'numba.jit' decorator. The implicit default value for this argument is currently False, but it will be changed to True in Numba 0.59.0. See https://numba.readthedocs.io/en/stable/reference/deprecation.html#deprecation-of-object-mode-fall-back-behaviour-when-using-jit for details.\u001b[0m\n",
            "  @jit(target_backend='cuda')\n"
          ]
        }
      ]
    },
    {
      "cell_type": "code",
      "source": [
        "@jit(target_backend='cuda')\n",
        "def elbowRF(dflist, seed):\n",
        "\n",
        "  scorelist = []\n",
        "\n",
        "  for df in dflist:\n",
        "    rf = ensemble.RandomForestClassifier(random_state = seed)\n",
        "\n",
        "    X_train, X_test, Y_train, Y_test = KFoldCrossValidation(df, n_splits = 10, seed = seed)\n",
        "\n",
        "    auxlist = []\n",
        "\n",
        "    for i in range(10):\n",
        "\n",
        "        rf.fit(X_train[i], Y_train[i])\n",
        "        Y_predict = rf.predict(X_test[i])\n",
        "        auxlist.append(balanced_accuracy_score(Y_test[i], Y_predict))\n",
        "\n",
        "    scorelist.append(np.mean(np.array(auxlist), axis = 0))\n",
        "\n",
        "  return scorelist"
      ],
      "metadata": {
        "colab": {
          "base_uri": "https://localhost:8080/"
        },
        "id": "KjZ-9quaE59d",
        "outputId": "7d67cf75-2dab-40d2-ec71-bd1270193e08"
      },
      "execution_count": 14,
      "outputs": [
        {
          "output_type": "stream",
          "name": "stderr",
          "text": [
            "C:\\Users\\andry\\AppData\\Local\\Temp\\ipykernel_16252\\3856245840.py:1: NumbaDeprecationWarning: \u001b[1mThe 'nopython' keyword argument was not supplied to the 'numba.jit' decorator. The implicit default value for this argument is currently False, but it will be changed to True in Numba 0.59.0. See https://numba.readthedocs.io/en/stable/reference/deprecation.html#deprecation-of-object-mode-fall-back-behaviour-when-using-jit for details.\u001b[0m\n",
            "  @jit(target_backend='cuda')\n"
          ]
        }
      ]
    },
    {
      "cell_type": "markdown",
      "source": [
        "### Testes"
      ],
      "metadata": {
        "id": "-7ZlzWiIFDeX"
      }
    },
    {
      "cell_type": "code",
      "source": [
        "#Ler CSVs\n",
        "dflist = []\n",
        "\n",
        "csvnames = ['3s_256.csv', '3s_512.csv','3s_1024.csv','3s_2048.csv','3s_4096.csv','3s8192.csv']\n",
        "\n",
        "for i in csvnames:\n",
        "  dir_path = os.path.join('C:/Users/andry/OneDrive/Documentos/GitHub/MGR-IC/csv/3s', i)\n",
        "  dflist.append(pd.read_csv(dir_path, sep=',', encoding='utf-8'))\n"
      ],
      "metadata": {
        "id": "FzPdU8ybFJNu"
      },
      "execution_count": 15,
      "outputs": []
    },
    {
      "cell_type": "code",
      "source": [
        "# Executa os algoritmos com as features desejadas e salva os valores de score nas listas\n",
        "\n",
        "knnscores3 = []\n",
        "knnscores5 = []\n",
        "knnscores7 = []\n",
        "dtscores = []\n",
        "rfscores = []\n",
        "seeds = [14, 42, 60, 87, 113, 156, 211, 456, 917, 1001]\n",
        "\n",
        "for seed in seeds:\n",
        "  knnscores3.append(elbowKNN(dflist, n_neigh = 3, seed = seed))\n",
        "  knnscores5.append(elbowKNN(dflist, n_neigh = 5, seed = seed))\n",
        "  knnscores7.append(elbowKNN(dflist, n_neigh = 7, seed = seed))\n",
        "\n",
        "  dtscores.append(elbowTree(dflist, seed = seed))\n",
        "  rfscores.append(elbowRF(dflist, seed = seed))"
      ],
      "metadata": {
        "id": "cO27pReaFF1T"
      },
      "execution_count": null,
      "outputs": []
    },
    {
      "cell_type": "code",
      "source": [
        "dflist[0].head()"
      ],
      "metadata": {
        "colab": {
          "base_uri": "https://localhost:8080/",
          "height": 255
        },
        "id": "9FU9i_fAGdyU",
        "outputId": "e7b39a89-7118-406a-a794-bb61f20d8c55"
      },
      "execution_count": 16,
      "outputs": [
        {
          "output_type": "execute_result",
          "data": {
            "text/plain": [
              "           0          1          2         3         4          5          6  \\\n",
              "0 -20.688195 -15.563616  11.024441  6.300637  2.720501  -1.461462  -2.481581   \n",
              "1 -17.148029 -18.341591  13.967555 -2.546769 -2.210408 -10.990512   0.409712   \n",
              "2 -17.871651 -25.287646   4.934050 -2.223498 -0.528786   5.334189 -11.190531   \n",
              "3 -22.203998 -18.371562  10.690622  7.654427  2.757939  -9.246004   3.065002   \n",
              "4 -19.590753 -25.200270  12.150546  8.771361 -6.932462  -9.501620   6.665839   \n",
              "\n",
              "          7         8          9  ...      2340      2341      2342      2343  \\\n",
              "0  3.013037  3.301681  10.494421  ... -0.020549  0.560870  0.086272  0.312128   \n",
              "1 -5.064557  0.441479   4.129603  ... -0.578477 -0.397951  0.544994  0.090800   \n",
              "2 -6.720784  3.638049   3.988944  ... -0.157147  0.203619  0.011141 -0.464636   \n",
              "3 -4.063709  2.663137  11.768292  ... -0.783000  0.306016  0.245675  0.063714   \n",
              "4 -8.990351  4.862323  19.508107  ... -0.556695 -0.533519 -0.104776 -0.102103   \n",
              "\n",
              "       2344      2345      2346      2347      2348  Classe  \n",
              "0 -0.411977 -0.556065  0.167012 -0.196036 -0.368304   blues  \n",
              "1  0.095346 -0.092977 -0.511703 -0.140599  0.391927   blues  \n",
              "2  0.312627  0.571983  0.362834 -0.040493 -0.247875   blues  \n",
              "3  0.729193  0.674194 -0.127692 -0.089252 -0.412341   blues  \n",
              "4  0.060199  0.363140 -0.285000  0.271610  0.082675   blues  \n",
              "\n",
              "[5 rows x 2350 columns]"
            ],
            "text/html": [
              "<div>\n",
              "<style scoped>\n",
              "    .dataframe tbody tr th:only-of-type {\n",
              "        vertical-align: middle;\n",
              "    }\n",
              "\n",
              "    .dataframe tbody tr th {\n",
              "        vertical-align: top;\n",
              "    }\n",
              "\n",
              "    .dataframe thead th {\n",
              "        text-align: right;\n",
              "    }\n",
              "</style>\n",
              "<table border=\"1\" class=\"dataframe\">\n",
              "  <thead>\n",
              "    <tr style=\"text-align: right;\">\n",
              "      <th></th>\n",
              "      <th>0</th>\n",
              "      <th>1</th>\n",
              "      <th>2</th>\n",
              "      <th>3</th>\n",
              "      <th>4</th>\n",
              "      <th>5</th>\n",
              "      <th>6</th>\n",
              "      <th>7</th>\n",
              "      <th>8</th>\n",
              "      <th>9</th>\n",
              "      <th>...</th>\n",
              "      <th>2340</th>\n",
              "      <th>2341</th>\n",
              "      <th>2342</th>\n",
              "      <th>2343</th>\n",
              "      <th>2344</th>\n",
              "      <th>2345</th>\n",
              "      <th>2346</th>\n",
              "      <th>2347</th>\n",
              "      <th>2348</th>\n",
              "      <th>Classe</th>\n",
              "    </tr>\n",
              "  </thead>\n",
              "  <tbody>\n",
              "    <tr>\n",
              "      <th>0</th>\n",
              "      <td>-20.688195</td>\n",
              "      <td>-15.563616</td>\n",
              "      <td>11.024441</td>\n",
              "      <td>6.300637</td>\n",
              "      <td>2.720501</td>\n",
              "      <td>-1.461462</td>\n",
              "      <td>-2.481581</td>\n",
              "      <td>3.013037</td>\n",
              "      <td>3.301681</td>\n",
              "      <td>10.494421</td>\n",
              "      <td>...</td>\n",
              "      <td>-0.020549</td>\n",
              "      <td>0.560870</td>\n",
              "      <td>0.086272</td>\n",
              "      <td>0.312128</td>\n",
              "      <td>-0.411977</td>\n",
              "      <td>-0.556065</td>\n",
              "      <td>0.167012</td>\n",
              "      <td>-0.196036</td>\n",
              "      <td>-0.368304</td>\n",
              "      <td>blues</td>\n",
              "    </tr>\n",
              "    <tr>\n",
              "      <th>1</th>\n",
              "      <td>-17.148029</td>\n",
              "      <td>-18.341591</td>\n",
              "      <td>13.967555</td>\n",
              "      <td>-2.546769</td>\n",
              "      <td>-2.210408</td>\n",
              "      <td>-10.990512</td>\n",
              "      <td>0.409712</td>\n",
              "      <td>-5.064557</td>\n",
              "      <td>0.441479</td>\n",
              "      <td>4.129603</td>\n",
              "      <td>...</td>\n",
              "      <td>-0.578477</td>\n",
              "      <td>-0.397951</td>\n",
              "      <td>0.544994</td>\n",
              "      <td>0.090800</td>\n",
              "      <td>0.095346</td>\n",
              "      <td>-0.092977</td>\n",
              "      <td>-0.511703</td>\n",
              "      <td>-0.140599</td>\n",
              "      <td>0.391927</td>\n",
              "      <td>blues</td>\n",
              "    </tr>\n",
              "    <tr>\n",
              "      <th>2</th>\n",
              "      <td>-17.871651</td>\n",
              "      <td>-25.287646</td>\n",
              "      <td>4.934050</td>\n",
              "      <td>-2.223498</td>\n",
              "      <td>-0.528786</td>\n",
              "      <td>5.334189</td>\n",
              "      <td>-11.190531</td>\n",
              "      <td>-6.720784</td>\n",
              "      <td>3.638049</td>\n",
              "      <td>3.988944</td>\n",
              "      <td>...</td>\n",
              "      <td>-0.157147</td>\n",
              "      <td>0.203619</td>\n",
              "      <td>0.011141</td>\n",
              "      <td>-0.464636</td>\n",
              "      <td>0.312627</td>\n",
              "      <td>0.571983</td>\n",
              "      <td>0.362834</td>\n",
              "      <td>-0.040493</td>\n",
              "      <td>-0.247875</td>\n",
              "      <td>blues</td>\n",
              "    </tr>\n",
              "    <tr>\n",
              "      <th>3</th>\n",
              "      <td>-22.203998</td>\n",
              "      <td>-18.371562</td>\n",
              "      <td>10.690622</td>\n",
              "      <td>7.654427</td>\n",
              "      <td>2.757939</td>\n",
              "      <td>-9.246004</td>\n",
              "      <td>3.065002</td>\n",
              "      <td>-4.063709</td>\n",
              "      <td>2.663137</td>\n",
              "      <td>11.768292</td>\n",
              "      <td>...</td>\n",
              "      <td>-0.783000</td>\n",
              "      <td>0.306016</td>\n",
              "      <td>0.245675</td>\n",
              "      <td>0.063714</td>\n",
              "      <td>0.729193</td>\n",
              "      <td>0.674194</td>\n",
              "      <td>-0.127692</td>\n",
              "      <td>-0.089252</td>\n",
              "      <td>-0.412341</td>\n",
              "      <td>blues</td>\n",
              "    </tr>\n",
              "    <tr>\n",
              "      <th>4</th>\n",
              "      <td>-19.590753</td>\n",
              "      <td>-25.200270</td>\n",
              "      <td>12.150546</td>\n",
              "      <td>8.771361</td>\n",
              "      <td>-6.932462</td>\n",
              "      <td>-9.501620</td>\n",
              "      <td>6.665839</td>\n",
              "      <td>-8.990351</td>\n",
              "      <td>4.862323</td>\n",
              "      <td>19.508107</td>\n",
              "      <td>...</td>\n",
              "      <td>-0.556695</td>\n",
              "      <td>-0.533519</td>\n",
              "      <td>-0.104776</td>\n",
              "      <td>-0.102103</td>\n",
              "      <td>0.060199</td>\n",
              "      <td>0.363140</td>\n",
              "      <td>-0.285000</td>\n",
              "      <td>0.271610</td>\n",
              "      <td>0.082675</td>\n",
              "      <td>blues</td>\n",
              "    </tr>\n",
              "  </tbody>\n",
              "</table>\n",
              "<p>5 rows × 2350 columns</p>\n",
              "</div>"
            ]
          },
          "metadata": {},
          "execution_count": 16
        }
      ]
    }
  ]
}