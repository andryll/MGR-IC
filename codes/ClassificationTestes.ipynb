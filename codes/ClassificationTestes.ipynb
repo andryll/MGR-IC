{
  "nbformat": 4,
  "nbformat_minor": 0,
  "metadata": {
    "colab": {
      "provenance": [],
      "collapsed_sections": [
        "rpmy2VTrFBRE"
      ],
      "authorship_tag": "ABX9TyMMCviNeh2thGhOqxqJBQKa",
      "include_colab_link": true
    },
    "kernelspec": {
      "name": "python3",
      "display_name": "Python 3"
    },
    "language_info": {
      "name": "python"
    }
  },
  "cells": [
    {
      "cell_type": "markdown",
      "metadata": {
        "id": "view-in-github",
        "colab_type": "text"
      },
      "source": [
        "<a href=\"https://colab.research.google.com/github/andryll/MGR-IC/blob/main/codes/ClassificationTestes.ipynb\" target=\"_parent\"><img src=\"https://colab.research.google.com/assets/colab-badge.svg\" alt=\"Open In Colab\"/></a>"
      ]
    },
    {
      "cell_type": "code",
      "execution_count": 9,
      "metadata": {
        "id": "4J4j_vYHEVhw"
      },
      "outputs": [],
      "source": [
        "# Importando as Bibliotecas\n",
        "\n",
        "import numpy as np\n",
        "import matplotlib.pyplot as plt\n",
        "import pandas as pd\n",
        "import os\n",
        "from sklearn.model_selection import train_test_split\n",
        "from sklearn import neighbors\n",
        "from sklearn import tree\n",
        "from sklearn import ensemble\n",
        "from sklearn import metrics\n",
        "from sklearn import preprocessing\n",
        "from sklearn.model_selection import StratifiedKFold\n",
        "from sklearn.metrics import f1_score\n",
        "from sklearn.metrics import balanced_accuracy_score\n",
        "import random\n",
        "from collections import Counter"
      ]
    },
    {
      "cell_type": "markdown",
      "source": [
        "### Algoritmos"
      ],
      "metadata": {
        "id": "rpmy2VTrFBRE"
      }
    },
    {
      "cell_type": "code",
      "source": [
        "def KFoldCrossValidation(dataframe, n_splits, seed):\n",
        "\n",
        "    X_columns = dataframe.columns[dataframe.columns != 'Classe']\n",
        "    X = dataframe[X_columns]\n",
        "    Y = dataframe['Classe']\n",
        "\n",
        "    skf = StratifiedKFold(n_splits = n_splits, shuffle=True, random_state = seed)\n",
        "\n",
        "    X_train_list = []\n",
        "    X_test_list = []\n",
        "    Y_train_list = []\n",
        "    Y_test_list = []\n",
        "\n",
        "    for train_index, test_index in skf.split(X, Y):\n",
        "        X_train, X_test = X.iloc[train_index], X.iloc[test_index]\n",
        "        Y_train, Y_test = Y.iloc[train_index], Y.iloc[test_index]\n",
        "\n",
        "        # Armazenar os vetores de treino e teste nas listas\n",
        "        X_train_list.append(X_train.values.tolist())\n",
        "        X_test_list.append(X_test.values.tolist())\n",
        "        Y_train_list.append(Y_train.to_list())\n",
        "        Y_test_list.append(Y_test.to_list())\n",
        "\n",
        "    return X_train_list, X_test_list, Y_train_list, Y_test_list"
      ],
      "metadata": {
        "id": "WKTwk1PaErcw"
      },
      "execution_count": 2,
      "outputs": []
    },
    {
      "cell_type": "code",
      "source": [
        "def BlockSplit(dataframe, n_splits, seed, n_songs):\n",
        "\n",
        "  random.seed(seed)\n",
        "  n_block = round(dataframe.shape[0] / n_songs)\n",
        "  songs_per_genre = round(n_songs/10)\n",
        "  n_test = round(songs_per_genre * 0.1)\n",
        "\n",
        "  test_list = []\n",
        "  definitive_test_list = []\n",
        "\n",
        "\n",
        "  for i in range(10):\n",
        "    r = random.sample(range(i*songs_per_genre, (i+1)*songs_per_genre), n_test)\n",
        "    for j in r:\n",
        "      test_list.append(j)\n",
        "\n",
        "  test_list.sort()\n",
        "  for i in test_list:\n",
        "    for j in range(n_block):\n",
        "      definitive_test_list.append(round((i*n_block)+j))\n",
        "\n",
        "  return definitive_test_list"
      ],
      "metadata": {
        "id": "bLA5Wy-9dryw"
      },
      "execution_count": 3,
      "outputs": []
    },
    {
      "cell_type": "code",
      "source": [
        "def blockBalancedScore(Y_real, Y_predict, n_songs):\n",
        "\n",
        "  #print(type(Y_real))\n",
        "\n",
        "  n_samples = len(Y_predict)\n",
        "  samples_per_song = (n_samples*10)/n_songs\n",
        "\n",
        "  block_predict = []\n",
        "  block_true = []\n",
        "\n",
        "  # print('N_songs:', n_songs)\n",
        "  # print('N_samples:', len(Y_predict))\n",
        "  # print('samples_per_song:', samples_per_song)\n",
        "\n",
        "  predict_groups = [Y_predict[i:i+int(samples_per_song)] for i in range(0, n_samples, int(samples_per_song))]\n",
        "\n",
        "  for group in predict_groups:\n",
        "    count = Counter(group)\n",
        "    block_predict.append(count.most_common(1)[0][0])\n",
        "\n",
        "  indexes = range(0, n_samples, int(samples_per_song))\n",
        "  block_true = Y_real.iloc[indexes].tolist()\n",
        "\n",
        "  return balanced_accuracy_score(block_true, block_predict)"
      ],
      "metadata": {
        "id": "i_Fzmz5-trYU"
      },
      "execution_count": 53,
      "outputs": []
    },
    {
      "cell_type": "code",
      "source": [
        "def elbowKNN(dflist, n_neigh, seed, n_songs):\n",
        "\n",
        "\n",
        "  scorelist = []\n",
        "\n",
        "  for df in dflist:\n",
        "    neigh = neighbors.KNeighborsClassifier(n_neighbors= n_neigh)\n",
        "\n",
        "    test = BlockSplit(df, n_splits = 10, seed = seed, n_songs=n_songs)\n",
        "\n",
        "    target = 'Classe'\n",
        "    X_columns = df.columns[df.columns != target]\n",
        "    X = df[X_columns]\n",
        "    Y = df[target]\n",
        "\n",
        "    neigh.fit(X.iloc[~X.index.isin(test),:], Y.iloc[~Y.index.isin(test)])\n",
        "    Y_predict = neigh.predict(X.iloc[X.index.isin(test),:])\n",
        "\n",
        "    scorelist.append(balanced_accuracy_score(Y.iloc[test], Y_predict))\n",
        "\n",
        "  return scorelist"
      ],
      "metadata": {
        "id": "1Y9jjj0ZEw3W"
      },
      "execution_count": 4,
      "outputs": []
    },
    {
      "cell_type": "code",
      "source": [
        "def elbowTree(dflist, seed, n_songs):\n",
        "\n",
        "  scorelist = []\n",
        "\n",
        "  for df in dflist:\n",
        "    clf = tree.DecisionTreeClassifier(random_state = seed)\n",
        "\n",
        "    test = BlockSplit(df, n_splits = 10, seed = seed, n_songs=n_songs)\n",
        "\n",
        "    target = 'Classe'\n",
        "    X_columns = df.columns[df.columns != target]\n",
        "    X = df[X_columns]\n",
        "    Y = df[target]\n",
        "\n",
        "    clf.fit(X.iloc[~X.index.isin(test),:], Y.iloc[~Y.index.isin(test)])\n",
        "    Y_predict = clf.predict(X.iloc[X.index.isin(test),:])\n",
        "\n",
        "    scorelist.append(balanced_accuracy_score(Y.iloc[test], Y_predict))\n",
        "\n",
        "  return scorelist"
      ],
      "metadata": {
        "id": "N_HfCAYSE2nO"
      },
      "execution_count": 5,
      "outputs": []
    },
    {
      "cell_type": "code",
      "source": [
        "def elbowRF(dflist, seed, n_songs):\n",
        "\n",
        "  scorelist = []\n",
        "\n",
        "  for df in dflist:\n",
        "    rf = ensemble.RandomForestClassifier(random_state = seed)\n",
        "\n",
        "    test = BlockSplit(df, n_splits = 10, seed = seed, n_songs=n_songs)\n",
        "\n",
        "    target = 'Classe'\n",
        "    X_columns = df.columns[df.columns != target]\n",
        "    X = df[X_columns]\n",
        "    Y = df[target]\n",
        "\n",
        "    rf.fit(X.iloc[~X.index.isin(test),:], Y.iloc[~Y.index.isin(test)])\n",
        "    Y_predict = rf.predict(X.iloc[X.index.isin(test),:])\n",
        "\n",
        "    scorelist.append(balanced_accuracy_score(Y.iloc[test], Y_predict))\n",
        "\n",
        "  return scorelist"
      ],
      "metadata": {
        "id": "KjZ-9quaE59d"
      },
      "execution_count": 6,
      "outputs": []
    },
    {
      "cell_type": "code",
      "source": [
        "def elbowAll(dflist, seed, n_songs, block_score = True):\n",
        "  scorelistKNN3 = []\n",
        "  scorelistKNN5 = []\n",
        "  scorelistKNN7 = []\n",
        "  scorelistDT = []\n",
        "  scorelistRF = []\n",
        "\n",
        "  for df in dflist:\n",
        "    neigh3 = neighbors.KNeighborsClassifier(n_neighbors= 3)\n",
        "    neigh5 = neighbors.KNeighborsClassifier(n_neighbors= 5)\n",
        "    neigh7 = neighbors.KNeighborsClassifier(n_neighbors= 7)\n",
        "    clf = tree.DecisionTreeClassifier(random_state = seed)\n",
        "    rf = ensemble.RandomForestClassifier(random_state = seed)\n",
        "\n",
        "    test = BlockSplit(df, n_splits = 10, seed = seed, n_songs=n_songs)\n",
        "\n",
        "    target = 'Classe'\n",
        "    X_columns = df.columns[df.columns != target]\n",
        "    X = df[X_columns]\n",
        "    Y = df[target]\n",
        "\n",
        "    neigh3.fit(X.iloc[~X.index.isin(test),:], Y.iloc[~Y.index.isin(test)])\n",
        "    Y_predict3 = neigh3.predict(X.iloc[X.index.isin(test),:])\n",
        "\n",
        "    neigh5.fit(X.iloc[~X.index.isin(test),:], Y.iloc[~Y.index.isin(test)])\n",
        "    Y_predict5 = neigh5.predict(X.iloc[X.index.isin(test),:])\n",
        "\n",
        "    neigh7.fit(X.iloc[~X.index.isin(test),:], Y.iloc[~Y.index.isin(test)])\n",
        "    Y_predict7 = neigh7.predict(X.iloc[X.index.isin(test),:])\n",
        "\n",
        "    clf.fit(X.iloc[~X.index.isin(test),:], Y.iloc[~Y.index.isin(test)])\n",
        "    Y_predictDT = clf.predict(X.iloc[X.index.isin(test),:])\n",
        "\n",
        "    rf.fit(X.iloc[~X.index.isin(test),:], Y.iloc[~Y.index.isin(test)])\n",
        "    Y_predictRF = rf.predict(X.iloc[X.index.isin(test),:])\n",
        "\n",
        "    if block_score == False:\n",
        "      scorelistKNN3.append(balanced_accuracy_score(Y.iloc[test], Y_predict3))\n",
        "      scorelistKNN5.append(balanced_accuracy_score(Y.iloc[test], Y_predict5))\n",
        "      scorelistKNN7.append(balanced_accuracy_score(Y.iloc[test], Y_predict7))\n",
        "      scorelistDT.append(balanced_accuracy_score(Y.iloc[test], Y_predictDT))\n",
        "      scorelistRF.append(balanced_accuracy_score(Y.iloc[test], Y_predictRF))\n",
        "    else:\n",
        "      scorelistKNN3.append(blockBalancedScore(Y.iloc[test], Y_predict3, n_songs))\n",
        "      scorelistKNN5.append(blockBalancedScore(Y.iloc[test], Y_predict5, n_songs))\n",
        "      scorelistKNN7.append(blockBalancedScore(Y.iloc[test], Y_predict7, n_songs))\n",
        "      scorelistDT.append(blockBalancedScore(Y.iloc[test], Y_predictDT, n_songs))\n",
        "      scorelistRF.append(blockBalancedScore(Y.iloc[test], Y_predictRF, n_songs))\n",
        "\n",
        "  return scorelistKNN3, scorelistKNN5, scorelistKNN7, scorelistDT, scorelistRF"
      ],
      "metadata": {
        "id": "2hzS-g2GHOGu"
      },
      "execution_count": 21,
      "outputs": []
    },
    {
      "cell_type": "markdown",
      "source": [
        "### Testes"
      ],
      "metadata": {
        "id": "-7ZlzWiIFDeX"
      }
    },
    {
      "cell_type": "code",
      "source": [
        "#Ler CSVs\n",
        "dflist = []\n",
        "\n",
        "csvnames = ['3s_512.csv','3s_1024.csv','3s_2048.csv','3s_4096.csv','3s8192.csv']\n",
        "\n",
        "for i in csvnames:\n",
        "  dir_path = os.path.join('F:/Documentos/UTFPR/IC/csvs/3s', i)\n",
        "  dflist.append(pd.read_csv(dir_path, sep=',', encoding='utf-8'))\n"
      ],
      "metadata": {
        "id": "FzPdU8ybFJNu"
      },
      "execution_count": 64,
      "outputs": []
    },
    {
      "cell_type": "code",
      "source": [
        "# Executa os algoritmos com as features desejadas e salva os valores de score nas listas\n",
        "\n",
        "knnscores3 = []\n",
        "knnscores5 = []\n",
        "knnscores7 = []\n",
        "dtscores = []\n",
        "rfscores = []\n",
        "seeds = [14, 42, 60, 87, 113, 156, 211, 456, 917, 1001]\n",
        "# seeds = [14, 42, 60]\n",
        "\n",
        "\n",
        "# for seed in seeds:\n",
        "#   knnscores3.append(elbowKNN(dflist, n_neigh = 3, seed = seed, n_songs=500))\n",
        "#   knnscores5.append(elbowKNN(dflist, n_neigh = 5, seed = seed, n_songs=500))\n",
        "#   knnscores7.append(elbowKNN(dflist, n_neigh = 7, seed = seed, n_songs=500))\n",
        "\n",
        "#   dtscores.append(elbowTree(dflist, seed = seed, n_songs=500))\n",
        "#   rfscores.append(elbowRF(dflist, seed = seed, n_songs=500))\n",
        "\n",
        "for seed in seeds:\n",
        "  knn3, knn5, knn7, dt, rf = elbowAll(dflist, seed = seed, n_songs=500, block_score=True)\n",
        "\n",
        "  knnscores3.append(knn3)\n",
        "  knnscores5.append(knn5)\n",
        "  knnscores7.append(knn7)\n",
        "  dtscores.append(dt)\n",
        "  rfscores.append(rf)"
      ],
      "metadata": {
        "id": "cO27pReaFF1T"
      },
      "execution_count": 65,
      "outputs": []
    },
    {
      "cell_type": "code",
      "source": [
        "# Coloca as listas de score em uma outra lista a cria listas com as médias e os sds.\n",
        "\n",
        "scoreslist = []\n",
        "scoresmeans = []\n",
        "scoressds = []\n",
        "\n",
        "scoreslist.append(np.array(knnscores3))\n",
        "scoreslist.append(np.array(knnscores5))\n",
        "scoreslist.append(np.array(knnscores7))\n",
        "scoreslist.append(np.array(dtscores))\n",
        "scoreslist.append(np.array(rfscores))\n",
        "\n",
        "# KNN3 = 0 / KNN5 = 1 / KNN7 = 2 / DT = 3 / RF = 4\n",
        "\n",
        "for score in scoreslist:\n",
        "  scoresmeans.append(np.mean(score, axis=0))\n",
        "  scoressds.append(np.std(score, axis=0))"
      ],
      "metadata": {
        "id": "9FU9i_fAGdyU"
      },
      "execution_count": 66,
      "outputs": []
    },
    {
      "cell_type": "code",
      "source": [
        "#  Plota o gráfico com as médias das seeds e os desvios padrão\n",
        "\n",
        "frame_lenghts = [512, 1024, 2048, 4096, 8192]\n",
        "labels = ['KNN k = 3', 'KNN k = 5', 'KNN k = 7', 'Decision Trees', 'Random Forest']\n",
        "markers = ['o', '^', 's', '*', 'P']\n",
        "\n",
        "for i in range(len(scoresmeans)):\n",
        "  plt.plot(frame_lenghts, scoresmeans[i], label = labels[i], marker = markers[i])\n",
        "  plt.fill_between(frame_lenghts, scoresmeans[i] + scoressds[i], scoresmeans[i] - scoressds[i], alpha = 0.2)\n",
        "\n",
        "plt.legend()\n",
        "plt.grid()\n",
        "plt.ylabel('Balanced Accuracy')\n",
        "plt.xlabel('Frame Lenghts')\n",
        "plt.title('Gráfico de Cotovelo - Features Combinadas | Score em bloco | Splits de 3s')\n",
        "\n",
        "# Nome do arquivo pra salvar\n",
        "plt.savefig('3s_block.pdf')\n",
        "plt.show()"
      ],
      "metadata": {
        "colab": {
          "base_uri": "https://localhost:8080/",
          "height": 472
        },
        "id": "zV9dSdt8WGB4",
        "outputId": "2cf565ce-27ac-4713-f7d4-3c734f11e1de"
      },
      "execution_count": 67,
      "outputs": [
        {
          "output_type": "display_data",
          "data": {
            "text/plain": [
              "<Figure size 640x480 with 1 Axes>"
            ],
            "image/png": "[encoded data removed]"
          },
          "metadata": {}
        }
      ]
    },
    {
      "cell_type": "code",
      "source": [
        "print(scoresmeans)"
      ],
      "metadata": {
        "id": "RI7EYZP0Gwsd",
        "outputId": "bdbaf088-ae9f-4ea7-90fd-6036723c29c0",
        "colab": {
          "base_uri": "https://localhost:8080/"
        }
      },
      "execution_count": 68,
      "outputs": [
        {
          "output_type": "stream",
          "name": "stdout",
          "text": [
            "[array([0.48 , 0.478, 0.492, 0.51 , 0.512]), array([0.496, 0.486, 0.498, 0.498, 0.5  ]), array([0.476, 0.492, 0.508, 0.508, 0.502]), array([0.668, 0.656, 0.658, 0.612, 0.632]), array([0.636, 0.64 , 0.61 , 0.628, 0.632])]\n"
          ]
        }
      ]
    },
    {
      "cell_type": "markdown",
      "source": [
        "### Testezao"
      ],
      "metadata": {
        "id": "FvxyVPeSgEqp"
      }
    },
    {
      "cell_type": "code",
      "source": [
        "print(df.iloc[:,df.columns.get_loc('Classe')].shape)\n",
        "print(len(all_rock))\n",
        "dflist[0].shape"
      ],
      "metadata": {
        "id": "AB6TD53hFCyT",
        "outputId": "2daf3738-2170-4f40-9155-8e3c8da52d50",
        "colab": {
          "base_uri": "https://localhost:8080/"
        }
      },
      "execution_count": null,
      "outputs": [
        {
          "output_type": "stream",
          "name": "stdout",
          "text": [
            "(5000,)\n",
            "1\n"
          ]
        },
        {
          "output_type": "execute_result",
          "data": {
            "text/plain": [
              "(5000, 2114)"
            ]
          },
          "metadata": {},
          "execution_count": 36
        }
      ]
    },
    {
      "cell_type": "code",
      "source": [
        "same_scores = []\n",
        "random_scores = []\n",
        "\n",
        "genres = ['blues', 'classical', 'country', 'disco', 'hiphop', 'jazz', 'metal', 'pop', 'reggae', 'rock']\n",
        "\n",
        "for df in dflist:\n",
        "  all_rock = ['rock' for _ in range(df.shape[0])]\n",
        "  all_random = [random.choice(genres) for _ in range(df.shape[0])]\n",
        "  same_scores.append(balanced_accuracy_score(df.iloc[:,df.columns.get_loc('Classe')], all_rock))\n",
        "  random_scores.append(balanced_accuracy_score(df.iloc[:,df.columns.get_loc('Classe')], all_random))\n",
        "\n",
        "print(same_scores)\n",
        "print(random_scores)\n"
      ],
      "metadata": {
        "id": "J9A27YrNCDUE",
        "outputId": "337792dc-8948-4643-ab29-48216127fc93",
        "colab": {
          "base_uri": "https://localhost:8080/"
        }
      },
      "execution_count": null,
      "outputs": [
        {
          "output_type": "stream",
          "name": "stdout",
          "text": [
            "[0.1, 0.1, 0.1, 0.1, 0.1]\n",
            "[0.1024, 0.09759999999999999, 0.1026, 0.0968, 0.1004]\n"
          ]
        }
      ]
    },
    {
      "cell_type": "code",
      "source": [
        "all_rock = ['rock']*dflist[0].shape[0]"
      ],
      "metadata": {
        "id": "nF8SLEmyCohX"
      },
      "execution_count": null,
      "outputs": []
    },
    {
      "cell_type": "code",
      "source": [
        "Y_predict = [1,2,3,4,4,5,6,7,8,4,1,1,1,1,1,1,1,1,1,1,2,3,4,5,3,3,3,3,7,8]\n",
        "\n",
        "Y_real = 0\n",
        "\n",
        "blockBalancedScore(Y_predict, Y_real, 3)"
      ],
      "metadata": {
        "id": "WAEIv2J6CyLf",
        "outputId": "100d5d17-d030-41ea-c917-f1e0f30683cd",
        "colab": {
          "base_uri": "https://localhost:8080/"
        }
      },
      "execution_count": 18,
      "outputs": [
        {
          "output_type": "stream",
          "name": "stdout",
          "text": [
            "[4, 1, 3]\n"
          ]
        }
      ]
    },
    {
      "cell_type": "code",
      "source": [
        "len(Y_predict)"
      ],
      "metadata": {
        "id": "t8vI2qJpxBBj",
        "outputId": "73b0c37f-7de4-4523-960b-5d1af64a0d4d",
        "colab": {
          "base_uri": "https://localhost:8080/"
        }
      },
      "execution_count": 12,
      "outputs": [
        {
          "output_type": "execute_result",
          "data": {
            "text/plain": [
              "30"
            ]
          },
          "metadata": {},
          "execution_count": 12
        }
      ]
    }
  ]
}