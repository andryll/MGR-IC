{
  "nbformat": 4,
  "nbformat_minor": 0,
  "metadata": {
    "colab": {
      "provenance": [],
      "collapsed_sections": [
        "rpmy2VTrFBRE"
      ],
      "authorship_tag": "ABX9TyOwjKp0aCSMaYcF7cNaAY87",
      "include_colab_link": true
    },
    "kernelspec": {
      "name": "python3",
      "display_name": "Python 3"
    },
    "language_info": {
      "name": "python"
    }
  },
  "cells": [
    {
      "cell_type": "markdown",
      "metadata": {
        "id": "view-in-github",
        "colab_type": "text"
      },
      "source": [
        "<a href=\"https://colab.research.google.com/github/andryll/MGR-IC/blob/main/codes/ClassificationTestes.ipynb\" target=\"_parent\"><img src=\"https://colab.research.google.com/assets/colab-badge.svg\" alt=\"Open In Colab\"/></a>"
      ]
    },
    {
      "cell_type": "code",
      "source": [
        "pip show scikit-learn"
      ],
      "metadata": {
        "id": "x584VGl3ZLuS",
        "outputId": "ae220158-fff0-4f94-e3a5-64e9de0d2fd3",
        "colab": {
          "base_uri": "https://localhost:8080/"
        }
      },
      "execution_count": null,
      "outputs": [
        {
          "output_type": "stream",
          "name": "stdout",
          "text": [
            "Name: scikit-learn\n",
            "Version: 1.2.2\n",
            "Summary: A set of python modules for machine learning and data mining\n",
            "Home-page: http://scikit-learn.org\n",
            "Author: \n",
            "Author-email: \n",
            "License: new BSD\n",
            "Location: C:\\Users\\andry\\anaconda3\\Lib\\site-packages\n",
            "Requires: joblib, numpy, scipy, threadpoolctl\n",
            "Required-by: librosa\n",
            "Note: you may need to restart the kernel to use updated packages.\n"
          ]
        }
      ]
    },
    {
      "cell_type": "code",
      "execution_count": 1,
      "metadata": {
        "id": "4J4j_vYHEVhw"
      },
      "outputs": [],
      "source": [
        "# Importando as Bibliotecas\n",
        "\n",
        "import numpy as np\n",
        "import matplotlib.pyplot as plt\n",
        "import pandas as pd\n",
        "import os\n",
        "from sklearn.model_selection import train_test_split\n",
        "from sklearn import neighbors\n",
        "from sklearn import tree\n",
        "from sklearn import ensemble\n",
        "from sklearn import metrics\n",
        "from sklearn import preprocessing\n",
        "from sklearn.model_selection import StratifiedKFold\n",
        "from sklearn.metrics import f1_score\n",
        "from sklearn.metrics import balanced_accuracy_score\n",
        "import random"
      ]
    },
    {
      "cell_type": "markdown",
      "source": [
        "### Algoritmos"
      ],
      "metadata": {
        "id": "rpmy2VTrFBRE"
      }
    },
    {
      "cell_type": "code",
      "source": [
        "def KFoldCrossValidation(dataframe, n_splits, seed):\n",
        "\n",
        "    X_columns = dataframe.columns[dataframe.columns != 'Classe']\n",
        "    X = dataframe[X_columns]\n",
        "    Y = dataframe['Classe']\n",
        "\n",
        "    skf = StratifiedKFold(n_splits = n_splits, shuffle=True, random_state = seed)\n",
        "\n",
        "    X_train_list = []\n",
        "    X_test_list = []\n",
        "    Y_train_list = []\n",
        "    Y_test_list = []\n",
        "\n",
        "    for train_index, test_index in skf.split(X, Y):\n",
        "        X_train, X_test = X.iloc[train_index], X.iloc[test_index]\n",
        "        Y_train, Y_test = Y.iloc[train_index], Y.iloc[test_index]\n",
        "\n",
        "        # Armazenar os vetores de treino e teste nas listas\n",
        "        X_train_list.append(X_train.values.tolist())\n",
        "        X_test_list.append(X_test.values.tolist())\n",
        "        Y_train_list.append(Y_train.to_list())\n",
        "        Y_test_list.append(Y_test.to_list())\n",
        "\n",
        "    return X_train_list, X_test_list, Y_train_list, Y_test_list"
      ],
      "metadata": {
        "id": "WKTwk1PaErcw"
      },
      "execution_count": 7,
      "outputs": []
    },
    {
      "cell_type": "code",
      "source": [
        "def BlockSplit(dataframe, n_splits, seed, n_songs):\n",
        "\n",
        "  random.seed(seed)\n",
        "  n_block = round(dataframe.shape[0] / n_songs)\n",
        "  songs_per_genre = round(n_songs/10)\n",
        "  n_test = round(songs_per_genre * 0.1)\n",
        "\n",
        "  test_list = []\n",
        "  definitive_test_list = []\n",
        "\n",
        "\n",
        "  for i in range(10):\n",
        "    r = random.sample(range(i*songs_per_genre, (i+1)*songs_per_genre), n_test)\n",
        "    for j in r:\n",
        "      test_list.append(j)\n",
        "\n",
        "  test_list.sort()\n",
        "  for i in test_list:\n",
        "    for j in range(n_block):\n",
        "      definitive_test_list.append(round((i*n_block)+j))\n",
        "\n",
        "  return definitive_test_list"
      ],
      "metadata": {
        "id": "bLA5Wy-9dryw"
      },
      "execution_count": 8,
      "outputs": []
    },
    {
      "cell_type": "code",
      "source": [
        "def elbowKNN(dflist, n_neigh, seed, n_songs):\n",
        "\n",
        "\n",
        "  scorelist = []\n",
        "\n",
        "  for df in dflist:\n",
        "    neigh = neighbors.KNeighborsClassifier(n_neighbors= n_neigh)\n",
        "\n",
        "    test = BlockSplit(df, n_splits = 10, seed = seed, n_songs=n_songs)\n",
        "\n",
        "    target = 'Classe'\n",
        "    X_columns = df.columns[df.columns != target]\n",
        "    X = df[X_columns]\n",
        "    Y = df[target]\n",
        "\n",
        "    neigh.fit(X.iloc[~X.index.isin(test),:], Y.iloc[~Y.index.isin(test)])\n",
        "    Y_predict = neigh.predict(X.iloc[X.index.isin(test),:])\n",
        "\n",
        "    scorelist.append(balanced_accuracy_score(Y.iloc[test], Y_predict))\n",
        "\n",
        "  return scorelist"
      ],
      "metadata": {
        "id": "1Y9jjj0ZEw3W"
      },
      "execution_count": 9,
      "outputs": []
    },
    {
      "cell_type": "code",
      "source": [
        "def elbowTree(dflist, seed, n_songs):\n",
        "\n",
        "  scorelist = []\n",
        "\n",
        "  for df in dflist:\n",
        "    clf = tree.DecisionTreeClassifier(random_state = seed)\n",
        "\n",
        "    test = BlockSplit(df, n_splits = 10, seed = seed, n_songs=n_songs)\n",
        "\n",
        "    target = 'Classe'\n",
        "    X_columns = df.columns[df.columns != target]\n",
        "    X = df[X_columns]\n",
        "    Y = df[target]\n",
        "\n",
        "    clf.fit(X.iloc[~X.index.isin(test),:], Y.iloc[~Y.index.isin(test)])\n",
        "    Y_predict = clf.predict(X.iloc[X.index.isin(test),:])\n",
        "\n",
        "    scorelist.append(balanced_accuracy_score(Y.iloc[test], Y_predict))\n",
        "\n",
        "  return scorelist"
      ],
      "metadata": {
        "id": "N_HfCAYSE2nO"
      },
      "execution_count": 10,
      "outputs": []
    },
    {
      "cell_type": "code",
      "source": [
        "def elbowRF(dflist, seed, n_songs):\n",
        "\n",
        "  scorelist = []\n",
        "\n",
        "  for df in dflist:\n",
        "    rf = ensemble.RandomForestClassifier(random_state = seed)\n",
        "\n",
        "    test = BlockSplit(df, n_splits = 10, seed = seed, n_songs=n_songs)\n",
        "\n",
        "    target = 'Classe'\n",
        "    X_columns = df.columns[df.columns != target]\n",
        "    X = df[X_columns]\n",
        "    Y = df[target]\n",
        "\n",
        "    rf.fit(X.iloc[~X.index.isin(test),:], Y.iloc[~Y.index.isin(test)])\n",
        "    Y_predict = rf.predict(X.iloc[X.index.isin(test),:])\n",
        "\n",
        "    scorelist.append(balanced_accuracy_score(Y.iloc[test], Y_predict))\n",
        "\n",
        "  return scorelist"
      ],
      "metadata": {
        "id": "KjZ-9quaE59d"
      },
      "execution_count": 11,
      "outputs": []
    },
    {
      "cell_type": "code",
      "source": [
        "def elbowAll(dflist, seed, n_songs):\n",
        "  scorelistKNN3 = []\n",
        "  scorelistKNN5 = []\n",
        "  scorelistKNN7 = []\n",
        "  scorelistDT = []\n",
        "  scorelistRF = []\n",
        "\n",
        "  for df in dflist:\n",
        "    neigh3 = neighbors.KNeighborsClassifier(n_neighbors= 3)\n",
        "    neigh5 = neighbors.KNeighborsClassifier(n_neighbors= 5)\n",
        "    neigh7 = neighbors.KNeighborsClassifier(n_neighbors= 7)\n",
        "    clf = tree.DecisionTreeClassifier(random_state = seed)\n",
        "    rf = ensemble.RandomForestClassifier(random_state = seed)\n",
        "\n",
        "    test = BlockSplit(df, n_splits = 10, seed = seed, n_songs=n_songs)\n",
        "\n",
        "    target = 'Classe'\n",
        "    X_columns = df.columns[df.columns != target]\n",
        "    X = df[X_columns]\n",
        "    Y = df[target]\n",
        "\n",
        "    neigh3.fit(X.iloc[~X.index.isin(test),:], Y.iloc[~Y.index.isin(test)])\n",
        "    Y_predict = neigh3.predict(X.iloc[X.index.isin(test),:])\n",
        "    scorelistKNN3.append(balanced_accuracy_score(Y.iloc[test], Y_predict))\n",
        "\n",
        "    neigh5.fit(X.iloc[~X.index.isin(test),:], Y.iloc[~Y.index.isin(test)])\n",
        "    Y_predict = neigh5.predict(X.iloc[X.index.isin(test),:])\n",
        "    scorelistKNN5.append(balanced_accuracy_score(Y.iloc[test], Y_predict))\n",
        "\n",
        "    neigh7.fit(X.iloc[~X.index.isin(test),:], Y.iloc[~Y.index.isin(test)])\n",
        "    Y_predict = neigh7.predict(X.iloc[X.index.isin(test),:])\n",
        "    scorelistKNN7.append(balanced_accuracy_score(Y.iloc[test], Y_predict))\n",
        "\n",
        "    clf.fit(X.iloc[~X.index.isin(test),:], Y.iloc[~Y.index.isin(test)])\n",
        "    Y_predict = clf.predict(X.iloc[X.index.isin(test),:])\n",
        "    scorelistDT.append(balanced_accuracy_score(Y.iloc[test], Y_predict))\n",
        "\n",
        "    rf.fit(X.iloc[~X.index.isin(test),:], Y.iloc[~Y.index.isin(test)])\n",
        "    Y_predict = rf.predict(X.iloc[X.index.isin(test),:])\n",
        "    scorelistRF.append(balanced_accuracy_score(Y.iloc[test], Y_predict))\n",
        "\n",
        "  return scorelistKNN3, scorelistKNN5, scorelistKNN7, scorelistDT, scorelistRF"
      ],
      "metadata": {
        "id": "2hzS-g2GHOGu"
      },
      "execution_count": 47,
      "outputs": []
    },
    {
      "cell_type": "markdown",
      "source": [
        "### Testes"
      ],
      "metadata": {
        "id": "-7ZlzWiIFDeX"
      }
    },
    {
      "cell_type": "code",
      "source": [
        "#Ler CSVs\n",
        "dflist = []\n",
        "\n",
        "csvnames = ['3s_512.csv','3s_1024.csv','3s_2048.csv','3s_4096.csv','3s8192.csv']\n",
        "\n",
        "for i in csvnames:\n",
        "  dir_path = os.path.join('F:/Documentos/UTFPR/IC/csvs/3s', i)\n",
        "  dflist.append(pd.read_csv(dir_path, sep=',', encoding='utf-8'))\n"
      ],
      "metadata": {
        "id": "FzPdU8ybFJNu"
      },
      "execution_count": 12,
      "outputs": []
    },
    {
      "cell_type": "code",
      "source": [
        "# Executa os algoritmos com as features desejadas e salva os valores de score nas listas\n",
        "\n",
        "knnscores3 = []\n",
        "knnscores5 = []\n",
        "knnscores7 = []\n",
        "dtscores = []\n",
        "rfscores = []\n",
        "seeds = [14, 42, 60, 87, 113, 156, 211, 456, 917, 1001]\n",
        "# seeds = [14, 42, 60]\n",
        "\n",
        "\n",
        "# for seed in seeds:\n",
        "#   knnscores3.append(elbowKNN(dflist, n_neigh = 3, seed = seed, n_songs=500))\n",
        "#   knnscores5.append(elbowKNN(dflist, n_neigh = 5, seed = seed, n_songs=500))\n",
        "#   knnscores7.append(elbowKNN(dflist, n_neigh = 7, seed = seed, n_songs=500))\n",
        "\n",
        "#   dtscores.append(elbowTree(dflist, seed = seed, n_songs=500))\n",
        "#   rfscores.append(elbowRF(dflist, seed = seed, n_songs=500))\n",
        "\n",
        "for seed in seeds:\n",
        "  knn3, knn5, knn7, dt, rf = elbowAll(dflist, seed = seed, n_songs=500)\n",
        "\n",
        "  knnscores3.append(knn3)\n",
        "  knnscores5.append(knn5)\n",
        "  knnscores7.append(knn7)\n",
        "  dtscores.append(dt)\n",
        "  rfscores.append(rf)"
      ],
      "metadata": {
        "id": "cO27pReaFF1T"
      },
      "execution_count": 48,
      "outputs": []
    },
    {
      "cell_type": "code",
      "source": [
        "# Coloca as listas de score em uma outra lista a cria listas com as médias e os sds.\n",
        "\n",
        "scoreslist = []\n",
        "scoresmeans = []\n",
        "scoressds = []\n",
        "\n",
        "scoreslist.append(np.array(knnscores3))\n",
        "scoreslist.append(np.array(knnscores5))\n",
        "scoreslist.append(np.array(knnscores7))\n",
        "scoreslist.append(np.array(dtscores))\n",
        "scoreslist.append(np.array(rfscores))\n",
        "\n",
        "# KNN3 = 0 / KNN5 = 1 / KNN7 = 2 / DT = 3 / RF = 4\n",
        "\n",
        "for score in scoreslist:\n",
        "  scoresmeans.append(np.mean(score, axis=0))\n",
        "  scoressds.append(np.std(score, axis=0))"
      ],
      "metadata": {
        "id": "9FU9i_fAGdyU"
      },
      "execution_count": 49,
      "outputs": []
    },
    {
      "cell_type": "code",
      "source": [
        "#  Plota o gráfico com as médias das seeds e os desvios padrão\n",
        "\n",
        "frame_lenghts = [512, 1024, 2048, 4096, 8192]\n",
        "labels = ['KNN k = 3', 'KNN k = 5', 'KNN k = 7', 'Decision Trees', 'Random Forest']\n",
        "markers = ['o', '^', 's', '*', 'P']\n",
        "\n",
        "for i in range(len(scoresmeans)):\n",
        "  plt.plot(frame_lenghts, scoresmeans[i], label = labels[i], marker = markers[i])\n",
        "  plt.fill_between(frame_lenghts, scoresmeans[i] + scoressds[i], scoresmeans[i] - scoressds[i], alpha = 0.2)\n",
        "\n",
        "plt.legend()\n",
        "plt.grid()\n",
        "plt.ylabel('Balanced Accuracy')\n",
        "plt.xlabel('Frame Lenghts')\n",
        "plt.title('Gráfico de Cotovelo - Features Combinadas | Splits de 3s')\n",
        "\n",
        "# Nome do arquivo pra salvar\n",
        "plt.savefig('3s.pdf')\n",
        "plt.show()"
      ],
      "metadata": {
        "colab": {
          "base_uri": "https://localhost:8080/",
          "height": 472
        },
        "id": "zV9dSdt8WGB4",
        "outputId": "9fc107bb-22f7-4f2a-9296-1663b3dc2ad7"
      },
      "execution_count": 50,
      "outputs": [
        {
          "output_type": "display_data",
          "data": {
            "text/plain": [
              "<Figure size 640x480 with 1 Axes>"
            ],
            "image/png": "[encoded data removed]"
          },
          "metadata": {}
        }
      ]
    },
    {
      "cell_type": "code",
      "source": [
        "print(scoresmeans)"
      ],
      "metadata": {
        "id": "RI7EYZP0Gwsd",
        "outputId": "79d7e9d1-98f5-4649-adb2-628db49cbb96",
        "colab": {
          "base_uri": "https://localhost:8080/"
        }
      },
      "execution_count": 52,
      "outputs": [
        {
          "output_type": "stream",
          "name": "stdout",
          "text": [
            "[array([0.456 , 0.457 , 0.4632, 0.4698, 0.4738]), array([0.4618, 0.4636, 0.475 , 0.4762, 0.4778]), array([0.4584, 0.4642, 0.4734, 0.4772, 0.4782]), array([0.4972, 0.482 , 0.4972, 0.4602, 0.482 ]), array([0.4932, 0.4988, 0.4934, 0.5014, 0.5038])]\n"
          ]
        }
      ]
    },
    {
      "cell_type": "markdown",
      "source": [
        "### Testezao"
      ],
      "metadata": {
        "id": "FvxyVPeSgEqp"
      }
    },
    {
      "cell_type": "code",
      "source": [
        "print(df.iloc[:,df.columns.get_loc('Classe')].shape)\n",
        "print(len(all_rock))\n",
        "dflist[0].shape"
      ],
      "metadata": {
        "id": "AB6TD53hFCyT",
        "outputId": "2daf3738-2170-4f40-9155-8e3c8da52d50",
        "colab": {
          "base_uri": "https://localhost:8080/"
        }
      },
      "execution_count": 36,
      "outputs": [
        {
          "output_type": "stream",
          "name": "stdout",
          "text": [
            "(5000,)\n",
            "1\n"
          ]
        },
        {
          "output_type": "execute_result",
          "data": {
            "text/plain": [
              "(5000, 2114)"
            ]
          },
          "metadata": {},
          "execution_count": 36
        }
      ]
    },
    {
      "cell_type": "code",
      "source": [
        "same_scores = []\n",
        "random_scores = []\n",
        "\n",
        "genres = ['blues', 'classical', 'country', 'disco', 'hiphop', 'jazz', 'metal', 'pop', 'reggae', 'rock']\n",
        "\n",
        "for df in dflist:\n",
        "  all_rock = ['rock' for _ in range(df.shape[0])]\n",
        "  all_random = [random.choice(genres) for _ in range(df.shape[0])]\n",
        "  same_scores.append(balanced_accuracy_score(df.iloc[:,df.columns.get_loc('Classe')], all_rock))\n",
        "  random_scores.append(balanced_accuracy_score(df.iloc[:,df.columns.get_loc('Classe')], all_random))\n",
        "\n",
        "print(same_scores)\n",
        "print(random_scores)\n"
      ],
      "metadata": {
        "id": "J9A27YrNCDUE",
        "outputId": "337792dc-8948-4643-ab29-48216127fc93",
        "colab": {
          "base_uri": "https://localhost:8080/"
        }
      },
      "execution_count": 40,
      "outputs": [
        {
          "output_type": "stream",
          "name": "stdout",
          "text": [
            "[0.1, 0.1, 0.1, 0.1, 0.1]\n",
            "[0.1024, 0.09759999999999999, 0.1026, 0.0968, 0.1004]\n"
          ]
        }
      ]
    },
    {
      "cell_type": "code",
      "source": [
        "all_rock = ['rock']*dflist[0].shape[0]"
      ],
      "metadata": {
        "id": "nF8SLEmyCohX"
      },
      "execution_count": 16,
      "outputs": []
    },
    {
      "cell_type": "code",
      "source": [
        "len(all_rock)"
      ],
      "metadata": {
        "id": "WAEIv2J6CyLf",
        "outputId": "fe529031-5217-40fa-b452-458d4ab74b38",
        "colab": {
          "base_uri": "https://localhost:8080/"
        }
      },
      "execution_count": 18,
      "outputs": [
        {
          "output_type": "execute_result",
          "data": {
            "text/plain": [
              "5000"
            ]
          },
          "metadata": {},
          "execution_count": 18
        }
      ]
    }
  ]
}