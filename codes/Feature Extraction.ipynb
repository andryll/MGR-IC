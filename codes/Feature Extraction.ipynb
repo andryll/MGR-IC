{
  "cells": [
    {
      "cell_type": "markdown",
      "metadata": {
        "id": "view-in-github",
        "colab_type": "text"
      },
      "source": [
        "<a href=\"https://colab.research.google.com/github/andryll/MGR-IC/blob/main/codes/Feature%20Extraction.ipynb\" target=\"_parent\"><img src=\"https://colab.research.google.com/assets/colab-badge.svg\" alt=\"Open In Colab\"/></a>"
      ]
    },
    {
      "cell_type": "code",
      "execution_count": 1,
      "id": "6d4d6e9c",
      "metadata": {
        "id": "6d4d6e9c"
      },
      "outputs": [],
      "source": [
        "# Importando as Bibliotecas\n",
        "\n",
        "import numpy as np\n",
        "import librosa\n",
        "#import IPython.display as ipd\n",
        "import os\n",
        "import pandas as pd\n",
        "from sklearn import preprocessing\n",
        "from sklearn.decomposition import PCA"
      ]
    },
    {
      "cell_type": "code",
      "execution_count": 2,
      "id": "a903890e",
      "metadata": {
        "id": "a903890e"
      },
      "outputs": [],
      "source": [
        "def splitSongs (songList, duration, sr=44100):\n",
        "\n",
        "  # Converta o tamanho da janela de segundos para amostras\n",
        "  window_size_samples = int(duration * sr)\n",
        "\n",
        "  # Inicialize uma lista para armazenar os segmentos\n",
        "  segmentedList = []\n",
        "\n",
        "  # Pega cada música da lista\n",
        "  for y in songList:\n",
        "\n",
        "    # Calcule o número total de segmentos\n",
        "    num_segments = len(y[0]) // window_size_samples\n",
        "\n",
        "    # Divida o áudio em segmentos de 5 segundos e adcione-os na lista\n",
        "    for i in range(num_segments):\n",
        "        start = i * window_size_samples\n",
        "        end = (i + 1) * window_size_samples\n",
        "        segment = (y[0][start:end], y[1], y[2])\n",
        "        segmentedList.append(segment)\n",
        "\n",
        "  # Retorna a nova lista\n",
        "  return segmentedList"
      ]
    },
    {
      "cell_type": "code",
      "execution_count": 6,
      "id": "0cf562c6",
      "metadata": {
        "id": "0cf562c6"
      },
      "outputs": [],
      "source": [
        "def readSongs (genre, numSongs, sr=44100, duration = 30):\n",
        "\n",
        "  # Declarando listas iniciais\n",
        "  songs = []\n",
        "  genrelist = ['blues', 'classical', 'country', 'disco', 'hiphop', 'jazz',\n",
        "                'metal', 'pop', 'reggae', 'rock']\n",
        "\n",
        "  # Se a escolha de gênero não for 'all', substitui a lista pelo gênero escolhido\n",
        "  if genre != 'all':\n",
        "    genrelist = [genre]\n",
        "\n",
        "  #Percorre todos os gêneros da lista\n",
        "  for g in genrelist:\n",
        "    #Pega o caminho para a pasta do gênero escolhido\n",
        "    dir_path = os.path.join('C:/Users/andry/OneDrive/Documentos/GitHub/MGR-IC/songs', g)\n",
        "    #Lista os arquivos da pasta e os embaralha\n",
        "    files = os.listdir(dir_path)\n",
        "    files.sort\n",
        "\n",
        "    # Até o número de musicas desejado ser alcançado, lê os arquivos de áudio com o librosa\n",
        "    for i in range(numSongs):\n",
        "      songs.append(librosa.load(os.path.join(dir_path, files[i]), sr=sr, mono = True, duration = 30))\n",
        "      # Adciona o gênero como uma variável da tupla\n",
        "      songs[-1] = songs[-1] + (g,)\n",
        "\n",
        "  max_len = max(len(song[0]) for song in songs)\n",
        "\n",
        "  # Garante que todas as músicas terão o mesmo tamanho da maior\n",
        "  resized_songs = []\n",
        "  for song in songs:\n",
        "      # Verifica se a música precisa ser redimensionada\n",
        "      if len(song[0]) < max_len:\n",
        "          # Adiciona zeros à direita para igualar o tamanho\n",
        "          padded_audio = librosa.util.pad_center(data = song[0], size = max_len, axis = 0)\n",
        "          resized_songs.append((padded_audio, song[1], song[2]))\n",
        "      else:\n",
        "          resized_songs.append(song)\n",
        "\n",
        "  new_songs = splitSongs (resized_songs, sr=sr, duration = duration)\n",
        "\n",
        "  return new_songs"
      ]
    },
    {
      "cell_type": "markdown",
      "id": "9df06bf4",
      "metadata": {
        "id": "9df06bf4"
      },
      "source": [
        "### Extração das Features\n"
      ]
    },
    {
      "cell_type": "code",
      "execution_count": 4,
      "id": "8b8b8a39",
      "metadata": {
        "id": "8b8b8a39"
      },
      "outputs": [],
      "source": [
        "# Reduz a dimensionalidade dos dados\n",
        "def reduceDimension(dataframe, rate=0.99):\n",
        "  X = dataframe.drop(columns=['Classe']).values.tolist()\n",
        "  Y = dataframe['Classe'].values.tolist()\n",
        "\n",
        "  scaler = preprocessing.StandardScaler()\n",
        "  X_scaled = scaler.fit_transform(X)\n",
        "\n",
        "  pca = PCA(n_components= rate)\n",
        "  X_pca = pca.fit_transform(X_scaled)\n",
        "\n",
        "  df = pd.concat([pd.DataFrame(X_pca), pd.DataFrame({'Classe': Y})], axis=1)\n",
        "\n",
        "  return df"
      ]
    },
    {
      "cell_type": "code",
      "execution_count": 5,
      "id": "8a7a92da",
      "metadata": {
        "id": "8a7a92da"
      },
      "outputs": [],
      "source": [
        "def featureExtraction (songs, feature, sr=44100, frame=512):\n",
        "\n",
        "  featurelist = []\n",
        "\n",
        "  for i in songs:\n",
        "\n",
        "    match feature:\n",
        "      case 'zcr':\n",
        "        zcr = librosa.feature.zero_crossing_rate(i[0], frame_length = frame, hop_length = round(frame/2), center = True)\n",
        "        aux = pd.DataFrame(zcr[0]).transpose()\n",
        "\n",
        "      case 'rms':\n",
        "        rms = librosa.feature.rms(y=i[0], frame_length = frame, hop_length = round(frame/2), center = True)\n",
        "        aux = pd.DataFrame(rms[0]).transpose()\n",
        "\n",
        "      case 'mfcc':\n",
        "        mfcc = librosa.feature.mfcc(y=i[0], sr=sr)\n",
        "        mfcc = (np.array(mfcc).flatten()).tolist()\n",
        "        aux = pd.DataFrame(mfcc).transpose()\n",
        "\n",
        "      case 'centroid':\n",
        "        sctoid = librosa.feature.spectral_centroid(y=i[0], sr=sr, hop_length = round(frame/2), center = True)\n",
        "        aux = pd.DataFrame(sctoid[0]).transpose()\n",
        "\n",
        "\n",
        "      case 'rolloff':\n",
        "        srloff99 = librosa.feature.spectral_rolloff(y=i[0], sr=sr, hop_length = round(frame/2), center = True, roll_percent=0.95)\n",
        "        srloff1 = librosa.feature.spectral_rolloff(y=i[0], sr=sr, hop_length = round(frame/2), center = True, roll_percent=0.05)\n",
        "        aux = pd.concat([pd.DataFrame(srloff1), pd.DataFrame(srloff99)], axis=1)\n",
        "\n",
        "      case 'all':\n",
        "        zcr = librosa.feature.zero_crossing_rate(i[0], frame_length = frame, hop_length = round(frame/2), center = True)\n",
        "        zcrdf = pd.DataFrame(zcr[0]).transpose()\n",
        "\n",
        "        rms = librosa.feature.rms(y=i[0], frame_length = frame, hop_length = round(frame/2), center = True)\n",
        "        rmsdf = pd.DataFrame(rms[0]).transpose()\n",
        "\n",
        "        mfcc = librosa.feature.mfcc(y=i[0], sr=sr)\n",
        "        mfcc = (np.array(mfcc).flatten()).tolist()\n",
        "        mfccdf = pd.DataFrame(mfcc).transpose()\n",
        "\n",
        "        sctoid = librosa.feature.spectral_centroid(y=i[0], sr=sr, hop_length = round(frame/2), center = True)\n",
        "        sctoiddf = pd.DataFrame(sctoid[0]).transpose()\n",
        "\n",
        "        srloff99 = librosa.feature.spectral_rolloff(y=i[0], sr=sr, hop_length = round(frame/2), center = True, roll_percent=0.95)\n",
        "        srloff1 = librosa.feature.spectral_rolloff(y=i[0], sr=sr, hop_length = round(frame/2), center = True, roll_percent=0.05)\n",
        "        srloff99df = pd.DataFrame(srloff99)\n",
        "        srloff1df = pd.DataFrame(srloff1)\n",
        "\n",
        "        aux = pd.concat([zcrdf, rmsdf, mfccdf, sctoiddf, srloff1df, srloff99df], axis=1)\n",
        "\n",
        "      case _:\n",
        "        print('Feature Inválida')\n",
        "\n",
        "    aux['Classe'] = i[2]\n",
        "    featurelist.append(aux)\n",
        "\n",
        "  df = pd.concat(featurelist, axis=0)\n",
        "  df = reduceDimension(df, 0.99)\n",
        "\n",
        "  return df"
      ]
    },
    {
      "cell_type": "markdown",
      "source": [
        "### Execução"
      ],
      "metadata": {
        "id": "k4EC0HNHwlPL"
      },
      "id": "k4EC0HNHwlPL"
    },
    {
      "cell_type": "code",
      "source": [
        "# Lê as músicas\n",
        "songs = readSongs ('all', 50, 44100, 3)\n"
      ],
      "metadata": {
        "id": "rVucptFxwk_N"
      },
      "id": "rVucptFxwk_N",
      "execution_count": 7,
      "outputs": []
    },
    {
      "cell_type": "code",
      "source": [
        "# Extrai as features para os frame lenghts desejados\n",
        "frame_lenghts = [256, 512, 1024, 2048, 4096, 8192]\n",
        "\n",
        "dflist = []\n",
        "for f in frame_lenghts:\n",
        "  dflist.append(featureExtraction(songs, 'all', 44100, frame=f))"
      ],
      "metadata": {
        "id": "JDWBnRzsw_JX",
        "outputId": "4fa6ee77-5dcf-4e71-a1f6-eee6e1f81b55",
        "colab": {
          "base_uri": "https://localhost:8080/",
          "height": 1000
        }
      },
      "id": "JDWBnRzsw_JX",
      "execution_count": 8,
      "outputs": [
        {
          "output_type": "error",
          "ename": "KeyboardInterrupt",
          "evalue": "",
          "traceback": [
            "\u001b[1;31m---------------------------------------------------------------------------\u001b[0m",
            "\u001b[1;31mKeyboardInterrupt\u001b[0m                         Traceback (most recent call last)",
            "Cell \u001b[1;32mIn[8], line 6\u001b[0m\n\u001b[0;32m      4\u001b[0m dflist \u001b[38;5;241m=\u001b[39m []\n\u001b[0;32m      5\u001b[0m \u001b[38;5;28;01mfor\u001b[39;00m f \u001b[38;5;129;01min\u001b[39;00m frame_lenghts:\n\u001b[1;32m----> 6\u001b[0m   dflist\u001b[38;5;241m.\u001b[39mappend(featureExtraction(songs, \u001b[38;5;124m'\u001b[39m\u001b[38;5;124mall\u001b[39m\u001b[38;5;124m'\u001b[39m, \u001b[38;5;241m44100\u001b[39m, frame\u001b[38;5;241m=\u001b[39mf))\n",
            "Cell \u001b[1;32mIn[5], line 46\u001b[0m, in \u001b[0;36mfeatureExtraction\u001b[1;34m(songs, feature, sr, frame)\u001b[0m\n\u001b[0;32m      3\u001b[0m featurelist \u001b[38;5;241m=\u001b[39m []\n\u001b[0;32m      5\u001b[0m \u001b[38;5;28;01mfor\u001b[39;00m i \u001b[38;5;129;01min\u001b[39;00m songs:\n\u001b[0;32m      7\u001b[0m   \u001b[38;5;28;01mmatch\u001b[39;00m feature:\n\u001b[0;32m      8\u001b[0m     \u001b[38;5;28;01mcase\u001b[39;00m \u001b[38;5;124m'\u001b[39m\u001b[38;5;124mzcr\u001b[39m\u001b[38;5;124m'\u001b[39m:\n\u001b[0;32m      9\u001b[0m       zcr \u001b[38;5;241m=\u001b[39m librosa\u001b[38;5;241m.\u001b[39mfeature\u001b[38;5;241m.\u001b[39mzero_crossing_rate(i[\u001b[38;5;241m0\u001b[39m], frame_length \u001b[38;5;241m=\u001b[39m frame, hop_length \u001b[38;5;241m=\u001b[39m \u001b[38;5;28mround\u001b[39m(frame\u001b[38;5;241m/\u001b[39m\u001b[38;5;241m2\u001b[39m), center \u001b[38;5;241m=\u001b[39m \u001b[38;5;28;01mTrue\u001b[39;00m)\n\u001b[0;32m     10\u001b[0m       aux \u001b[38;5;241m=\u001b[39m pd\u001b[38;5;241m.\u001b[39mDataFrame(zcr[\u001b[38;5;241m0\u001b[39m])\u001b[38;5;241m.\u001b[39mtranspose()\n\u001b[0;32m     11\u001b[0m \n\u001b[0;32m     12\u001b[0m     \u001b[38;5;28;01mcase\u001b[39;00m \u001b[38;5;124m'\u001b[39m\u001b[38;5;124mrms\u001b[39m\u001b[38;5;124m'\u001b[39m:\n\u001b[0;32m     13\u001b[0m       rms \u001b[38;5;241m=\u001b[39m librosa\u001b[38;5;241m.\u001b[39mfeature\u001b[38;5;241m.\u001b[39mrms(y\u001b[38;5;241m=\u001b[39mi[\u001b[38;5;241m0\u001b[39m], frame_length \u001b[38;5;241m=\u001b[39m frame, hop_length \u001b[38;5;241m=\u001b[39m \u001b[38;5;28mround\u001b[39m(frame\u001b[38;5;241m/\u001b[39m\u001b[38;5;241m2\u001b[39m), center \u001b[38;5;241m=\u001b[39m \u001b[38;5;28;01mTrue\u001b[39;00m)\n\u001b[0;32m     14\u001b[0m       aux \u001b[38;5;241m=\u001b[39m pd\u001b[38;5;241m.\u001b[39mDataFrame(rms[\u001b[38;5;241m0\u001b[39m])\u001b[38;5;241m.\u001b[39mtranspose()\n\u001b[0;32m     15\u001b[0m \n\u001b[0;32m     16\u001b[0m     \u001b[38;5;28;01mcase\u001b[39;00m \u001b[38;5;124m'\u001b[39m\u001b[38;5;124mmfcc\u001b[39m\u001b[38;5;124m'\u001b[39m:\n\u001b[0;32m     17\u001b[0m       mfcc \u001b[38;5;241m=\u001b[39m librosa\u001b[38;5;241m.\u001b[39mfeature\u001b[38;5;241m.\u001b[39mmfcc(y\u001b[38;5;241m=\u001b[39mi[\u001b[38;5;241m0\u001b[39m], sr\u001b[38;5;241m=\u001b[39msr)\n\u001b[0;32m     18\u001b[0m       mfcc \u001b[38;5;241m=\u001b[39m (np\u001b[38;5;241m.\u001b[39marray(mfcc)\u001b[38;5;241m.\u001b[39mflatten())\u001b[38;5;241m.\u001b[39mtolist()\n\u001b[0;32m     19\u001b[0m       aux \u001b[38;5;241m=\u001b[39m pd\u001b[38;5;241m.\u001b[39mDataFrame(mfcc)\u001b[38;5;241m.\u001b[39mtranspose()\n\u001b[0;32m     20\u001b[0m \n\u001b[0;32m     21\u001b[0m     \u001b[38;5;28;01mcase\u001b[39;00m \u001b[38;5;124m'\u001b[39m\u001b[38;5;124mcentroid\u001b[39m\u001b[38;5;124m'\u001b[39m:\n\u001b[0;32m     22\u001b[0m       sctoid \u001b[38;5;241m=\u001b[39m librosa\u001b[38;5;241m.\u001b[39mfeature\u001b[38;5;241m.\u001b[39mspectral_centroid(y\u001b[38;5;241m=\u001b[39mi[\u001b[38;5;241m0\u001b[39m], sr\u001b[38;5;241m=\u001b[39msr, hop_length \u001b[38;5;241m=\u001b[39m \u001b[38;5;28mround\u001b[39m(frame\u001b[38;5;241m/\u001b[39m\u001b[38;5;241m2\u001b[39m), center \u001b[38;5;241m=\u001b[39m \u001b[38;5;28;01mTrue\u001b[39;00m)\n\u001b[0;32m     23\u001b[0m       aux \u001b[38;5;241m=\u001b[39m pd\u001b[38;5;241m.\u001b[39mDataFrame(sctoid[\u001b[38;5;241m0\u001b[39m])\u001b[38;5;241m.\u001b[39mtranspose()\n\u001b[0;32m     24\u001b[0m \n\u001b[0;32m     25\u001b[0m \n\u001b[0;32m     26\u001b[0m     \u001b[38;5;28;01mcase\u001b[39;00m \u001b[38;5;124m'\u001b[39m\u001b[38;5;124mrolloff\u001b[39m\u001b[38;5;124m'\u001b[39m:\n\u001b[0;32m     27\u001b[0m       srloff99 \u001b[38;5;241m=\u001b[39m librosa\u001b[38;5;241m.\u001b[39mfeature\u001b[38;5;241m.\u001b[39mspectral_rolloff(y\u001b[38;5;241m=\u001b[39mi[\u001b[38;5;241m0\u001b[39m], sr\u001b[38;5;241m=\u001b[39msr, hop_length \u001b[38;5;241m=\u001b[39m \u001b[38;5;28mround\u001b[39m(frame\u001b[38;5;241m/\u001b[39m\u001b[38;5;241m2\u001b[39m), center \u001b[38;5;241m=\u001b[39m \u001b[38;5;28;01mTrue\u001b[39;00m, roll_percent\u001b[38;5;241m=\u001b[39m\u001b[38;5;241m0.95\u001b[39m)\n\u001b[0;32m     28\u001b[0m       srloff1 \u001b[38;5;241m=\u001b[39m librosa\u001b[38;5;241m.\u001b[39mfeature\u001b[38;5;241m.\u001b[39mspectral_rolloff(y\u001b[38;5;241m=\u001b[39mi[\u001b[38;5;241m0\u001b[39m], sr\u001b[38;5;241m=\u001b[39msr, hop_length \u001b[38;5;241m=\u001b[39m \u001b[38;5;28mround\u001b[39m(frame\u001b[38;5;241m/\u001b[39m\u001b[38;5;241m2\u001b[39m), center \u001b[38;5;241m=\u001b[39m \u001b[38;5;28;01mTrue\u001b[39;00m, roll_percent\u001b[38;5;241m=\u001b[39m\u001b[38;5;241m0.05\u001b[39m)\n\u001b[0;32m     29\u001b[0m       aux \u001b[38;5;241m=\u001b[39m pd\u001b[38;5;241m.\u001b[39mconcat([pd\u001b[38;5;241m.\u001b[39mDataFrame(srloff1), pd\u001b[38;5;241m.\u001b[39mDataFrame(srloff99)], axis\u001b[38;5;241m=\u001b[39m\u001b[38;5;241m1\u001b[39m)\n\u001b[0;32m     30\u001b[0m \n\u001b[0;32m     31\u001b[0m     \u001b[38;5;28;01mcase\u001b[39;00m \u001b[38;5;124m'\u001b[39m\u001b[38;5;124mall\u001b[39m\u001b[38;5;124m'\u001b[39m:\n\u001b[0;32m     32\u001b[0m       zcr \u001b[38;5;241m=\u001b[39m librosa\u001b[38;5;241m.\u001b[39mfeature\u001b[38;5;241m.\u001b[39mzero_crossing_rate(i[\u001b[38;5;241m0\u001b[39m], frame_length \u001b[38;5;241m=\u001b[39m frame, hop_length \u001b[38;5;241m=\u001b[39m \u001b[38;5;28mround\u001b[39m(frame\u001b[38;5;241m/\u001b[39m\u001b[38;5;241m2\u001b[39m), center \u001b[38;5;241m=\u001b[39m \u001b[38;5;28;01mTrue\u001b[39;00m)\n\u001b[0;32m     33\u001b[0m       zcrdf \u001b[38;5;241m=\u001b[39m pd\u001b[38;5;241m.\u001b[39mDataFrame(zcr[\u001b[38;5;241m0\u001b[39m])\u001b[38;5;241m.\u001b[39mtranspose()\n\u001b[0;32m     34\u001b[0m \n\u001b[0;32m     35\u001b[0m       rms \u001b[38;5;241m=\u001b[39m librosa\u001b[38;5;241m.\u001b[39mfeature\u001b[38;5;241m.\u001b[39mrms(y\u001b[38;5;241m=\u001b[39mi[\u001b[38;5;241m0\u001b[39m], frame_length \u001b[38;5;241m=\u001b[39m frame, hop_length \u001b[38;5;241m=\u001b[39m \u001b[38;5;28mround\u001b[39m(frame\u001b[38;5;241m/\u001b[39m\u001b[38;5;241m2\u001b[39m), center \u001b[38;5;241m=\u001b[39m \u001b[38;5;28;01mTrue\u001b[39;00m)\n\u001b[0;32m     36\u001b[0m       rmsdf \u001b[38;5;241m=\u001b[39m pd\u001b[38;5;241m.\u001b[39mDataFrame(rms[\u001b[38;5;241m0\u001b[39m])\u001b[38;5;241m.\u001b[39mtranspose()\n\u001b[0;32m     37\u001b[0m \n\u001b[0;32m     38\u001b[0m       mfcc \u001b[38;5;241m=\u001b[39m librosa\u001b[38;5;241m.\u001b[39mfeature\u001b[38;5;241m.\u001b[39mmfcc(y\u001b[38;5;241m=\u001b[39mi[\u001b[38;5;241m0\u001b[39m], sr\u001b[38;5;241m=\u001b[39msr)\n\u001b[0;32m     39\u001b[0m       mfcc \u001b[38;5;241m=\u001b[39m (np\u001b[38;5;241m.\u001b[39marray(mfcc)\u001b[38;5;241m.\u001b[39mflatten())\u001b[38;5;241m.\u001b[39mtolist()\n\u001b[0;32m     40\u001b[0m       mfccdf \u001b[38;5;241m=\u001b[39m pd\u001b[38;5;241m.\u001b[39mDataFrame(mfcc)\u001b[38;5;241m.\u001b[39mtranspose()\n\u001b[0;32m     41\u001b[0m \n\u001b[0;32m     42\u001b[0m       sctoid \u001b[38;5;241m=\u001b[39m librosa\u001b[38;5;241m.\u001b[39mfeature\u001b[38;5;241m.\u001b[39mspectral_centroid(y\u001b[38;5;241m=\u001b[39mi[\u001b[38;5;241m0\u001b[39m], sr\u001b[38;5;241m=\u001b[39msr, hop_length \u001b[38;5;241m=\u001b[39m \u001b[38;5;28mround\u001b[39m(frame\u001b[38;5;241m/\u001b[39m\u001b[38;5;241m2\u001b[39m), center \u001b[38;5;241m=\u001b[39m \u001b[38;5;28;01mTrue\u001b[39;00m)\n\u001b[0;32m     43\u001b[0m       sctoiddf \u001b[38;5;241m=\u001b[39m pd\u001b[38;5;241m.\u001b[39mDataFrame(sctoid[\u001b[38;5;241m0\u001b[39m])\u001b[38;5;241m.\u001b[39mtranspose()\n\u001b[0;32m     44\u001b[0m \n\u001b[0;32m     45\u001b[0m       srloff99 \u001b[38;5;241m=\u001b[39m librosa\u001b[38;5;241m.\u001b[39mfeature\u001b[38;5;241m.\u001b[39mspectral_rolloff(y\u001b[38;5;241m=\u001b[39mi[\u001b[38;5;241m0\u001b[39m], sr\u001b[38;5;241m=\u001b[39msr, hop_length \u001b[38;5;241m=\u001b[39m \u001b[38;5;28mround\u001b[39m(frame\u001b[38;5;241m/\u001b[39m\u001b[38;5;241m2\u001b[39m), center \u001b[38;5;241m=\u001b[39m \u001b[38;5;28;01mTrue\u001b[39;00m, roll_percent\u001b[38;5;241m=\u001b[39m\u001b[38;5;241m0.95\u001b[39m)\n\u001b[1;32m---> 46\u001b[0m       srloff1 \u001b[38;5;241m=\u001b[39m librosa\u001b[38;5;241m.\u001b[39mfeature\u001b[38;5;241m.\u001b[39mspectral_rolloff(y\u001b[38;5;241m=\u001b[39mi[\u001b[38;5;241m0\u001b[39m], sr\u001b[38;5;241m=\u001b[39msr, hop_length \u001b[38;5;241m=\u001b[39m \u001b[38;5;28mround\u001b[39m(frame\u001b[38;5;241m/\u001b[39m\u001b[38;5;241m2\u001b[39m), center \u001b[38;5;241m=\u001b[39m \u001b[38;5;28;01mTrue\u001b[39;00m, roll_percent\u001b[38;5;241m=\u001b[39m\u001b[38;5;241m0.05\u001b[39m)\n\u001b[0;32m     47\u001b[0m       srloff99df \u001b[38;5;241m=\u001b[39m pd\u001b[38;5;241m.\u001b[39mDataFrame(srloff99)\n\u001b[0;32m     48\u001b[0m       srloff1df \u001b[38;5;241m=\u001b[39m pd\u001b[38;5;241m.\u001b[39mDataFrame(srloff1)\n\u001b[0;32m     49\u001b[0m \n\u001b[0;32m     50\u001b[0m       aux \u001b[38;5;241m=\u001b[39m pd\u001b[38;5;241m.\u001b[39mconcat([zcrdf, rmsdf, mfccdf, sctoiddf, srloff1df, srloff99df], axis\u001b[38;5;241m=\u001b[39m\u001b[38;5;241m1\u001b[39m)\n\u001b[0;32m     51\u001b[0m \n\u001b[0;32m     52\u001b[0m     \u001b[38;5;28;01mcase\u001b[39;00m\u001b[38;5;250m \u001b[39m\u001b[38;5;28;01m_\u001b[39;00m:\n\u001b[0;32m     53\u001b[0m       \u001b[38;5;28mprint\u001b[39m(\u001b[38;5;124m'\u001b[39m\u001b[38;5;124mFeature Inválida\u001b[39m\u001b[38;5;124m'\u001b[39m)\n\u001b[0;32m     55\u001b[0m   aux[\u001b[38;5;124m'\u001b[39m\u001b[38;5;124mClasse\u001b[39m\u001b[38;5;124m'\u001b[39m] \u001b[38;5;241m=\u001b[39m i[\u001b[38;5;241m2\u001b[39m]\n\u001b[0;32m     56\u001b[0m   featurelist\u001b[38;5;241m.\u001b[39mappend(aux)\n",
            "File \u001b[1;32m~\\anaconda3\\Lib\\site-packages\\librosa\\feature\\spectral.py:636\u001b[0m, in \u001b[0;36mspectral_rolloff\u001b[1;34m(y, sr, S, n_fft, hop_length, win_length, window, center, pad_mode, freq, roll_percent)\u001b[0m\n\u001b[0;32m    633\u001b[0m \u001b[38;5;28;01mif\u001b[39;00m \u001b[38;5;129;01mnot\u001b[39;00m \u001b[38;5;241m0.0\u001b[39m \u001b[38;5;241m<\u001b[39m roll_percent \u001b[38;5;241m<\u001b[39m \u001b[38;5;241m1.0\u001b[39m:\n\u001b[0;32m    634\u001b[0m     \u001b[38;5;28;01mraise\u001b[39;00m ParameterError(\u001b[38;5;124m\"\u001b[39m\u001b[38;5;124mroll_percent must lie in the range (0, 1)\u001b[39m\u001b[38;5;124m\"\u001b[39m)\n\u001b[1;32m--> 636\u001b[0m S, n_fft \u001b[38;5;241m=\u001b[39m _spectrogram(\n\u001b[0;32m    637\u001b[0m     y\u001b[38;5;241m=\u001b[39my,\n\u001b[0;32m    638\u001b[0m     S\u001b[38;5;241m=\u001b[39mS,\n\u001b[0;32m    639\u001b[0m     n_fft\u001b[38;5;241m=\u001b[39mn_fft,\n\u001b[0;32m    640\u001b[0m     hop_length\u001b[38;5;241m=\u001b[39mhop_length,\n\u001b[0;32m    641\u001b[0m     win_length\u001b[38;5;241m=\u001b[39mwin_length,\n\u001b[0;32m    642\u001b[0m     window\u001b[38;5;241m=\u001b[39mwindow,\n\u001b[0;32m    643\u001b[0m     center\u001b[38;5;241m=\u001b[39mcenter,\n\u001b[0;32m    644\u001b[0m     pad_mode\u001b[38;5;241m=\u001b[39mpad_mode,\n\u001b[0;32m    645\u001b[0m )\n\u001b[0;32m    647\u001b[0m \u001b[38;5;28;01mif\u001b[39;00m \u001b[38;5;129;01mnot\u001b[39;00m np\u001b[38;5;241m.\u001b[39misrealobj(S):\n\u001b[0;32m    648\u001b[0m     \u001b[38;5;28;01mraise\u001b[39;00m ParameterError(\n\u001b[0;32m    649\u001b[0m         \u001b[38;5;124m\"\u001b[39m\u001b[38;5;124mSpectral rolloff is only defined \u001b[39m\u001b[38;5;124m\"\u001b[39m \u001b[38;5;124m\"\u001b[39m\u001b[38;5;124mwith real-valued input\u001b[39m\u001b[38;5;124m\"\u001b[39m\n\u001b[0;32m    650\u001b[0m     )\n",
            "File \u001b[1;32m~\\anaconda3\\Lib\\site-packages\\librosa\\core\\spectrum.py:2822\u001b[0m, in \u001b[0;36m_spectrogram\u001b[1;34m(y, S, n_fft, hop_length, power, win_length, window, center, pad_mode)\u001b[0m\n\u001b[0;32m   2816\u001b[0m     \u001b[38;5;28;01mif\u001b[39;00m y \u001b[38;5;129;01mis\u001b[39;00m \u001b[38;5;28;01mNone\u001b[39;00m:\n\u001b[0;32m   2817\u001b[0m         \u001b[38;5;28;01mraise\u001b[39;00m ParameterError(\n\u001b[0;32m   2818\u001b[0m             \u001b[38;5;124m\"\u001b[39m\u001b[38;5;124mInput signal must be provided to compute a spectrogram\u001b[39m\u001b[38;5;124m\"\u001b[39m\n\u001b[0;32m   2819\u001b[0m         )\n\u001b[0;32m   2820\u001b[0m     S \u001b[38;5;241m=\u001b[39m (\n\u001b[0;32m   2821\u001b[0m         np\u001b[38;5;241m.\u001b[39mabs(\n\u001b[1;32m-> 2822\u001b[0m             stft(\n\u001b[0;32m   2823\u001b[0m                 y,\n\u001b[0;32m   2824\u001b[0m                 n_fft\u001b[38;5;241m=\u001b[39mn_fft,\n\u001b[0;32m   2825\u001b[0m                 hop_length\u001b[38;5;241m=\u001b[39mhop_length,\n\u001b[0;32m   2826\u001b[0m                 win_length\u001b[38;5;241m=\u001b[39mwin_length,\n\u001b[0;32m   2827\u001b[0m                 center\u001b[38;5;241m=\u001b[39mcenter,\n\u001b[0;32m   2828\u001b[0m                 window\u001b[38;5;241m=\u001b[39mwindow,\n\u001b[0;32m   2829\u001b[0m                 pad_mode\u001b[38;5;241m=\u001b[39mpad_mode,\n\u001b[0;32m   2830\u001b[0m             )\n\u001b[0;32m   2831\u001b[0m         )\n\u001b[0;32m   2832\u001b[0m         \u001b[38;5;241m*\u001b[39m\u001b[38;5;241m*\u001b[39m power\n\u001b[0;32m   2833\u001b[0m     )\n\u001b[0;32m   2835\u001b[0m \u001b[38;5;28;01mreturn\u001b[39;00m S, n_fft\n",
            "File \u001b[1;32m~\\anaconda3\\Lib\\site-packages\\librosa\\core\\spectrum.py:378\u001b[0m, in \u001b[0;36mstft\u001b[1;34m(y, n_fft, hop_length, win_length, window, center, dtype, pad_mode, out)\u001b[0m\n\u001b[0;32m    375\u001b[0m \u001b[38;5;28;01mfor\u001b[39;00m bl_s \u001b[38;5;129;01min\u001b[39;00m \u001b[38;5;28mrange\u001b[39m(\u001b[38;5;241m0\u001b[39m, y_frames\u001b[38;5;241m.\u001b[39mshape[\u001b[38;5;241m-\u001b[39m\u001b[38;5;241m1\u001b[39m], n_columns):\n\u001b[0;32m    376\u001b[0m     bl_t \u001b[38;5;241m=\u001b[39m \u001b[38;5;28mmin\u001b[39m(bl_s \u001b[38;5;241m+\u001b[39m n_columns, y_frames\u001b[38;5;241m.\u001b[39mshape[\u001b[38;5;241m-\u001b[39m\u001b[38;5;241m1\u001b[39m])\n\u001b[1;32m--> 378\u001b[0m     stft_matrix[\u001b[38;5;241m.\u001b[39m\u001b[38;5;241m.\u001b[39m\u001b[38;5;241m.\u001b[39m, bl_s \u001b[38;5;241m+\u001b[39m off_start : bl_t \u001b[38;5;241m+\u001b[39m off_start] \u001b[38;5;241m=\u001b[39m fft\u001b[38;5;241m.\u001b[39mrfft(\n\u001b[0;32m    379\u001b[0m         fft_window \u001b[38;5;241m*\u001b[39m y_frames[\u001b[38;5;241m.\u001b[39m\u001b[38;5;241m.\u001b[39m\u001b[38;5;241m.\u001b[39m, bl_s:bl_t], axis\u001b[38;5;241m=\u001b[39m\u001b[38;5;241m-\u001b[39m\u001b[38;5;241m2\u001b[39m\n\u001b[0;32m    380\u001b[0m     )\n\u001b[0;32m    381\u001b[0m \u001b[38;5;28;01mreturn\u001b[39;00m stft_matrix\n",
            "File \u001b[1;32m<__array_function__ internals>:200\u001b[0m, in \u001b[0;36mrfft\u001b[1;34m(*args, **kwargs)\u001b[0m\n",
            "File \u001b[1;32m~\\anaconda3\\Lib\\site-packages\\numpy\\fft\\_pocketfft.py:409\u001b[0m, in \u001b[0;36mrfft\u001b[1;34m(a, n, axis, norm)\u001b[0m\n\u001b[0;32m    407\u001b[0m     n \u001b[38;5;241m=\u001b[39m a\u001b[38;5;241m.\u001b[39mshape[axis]\n\u001b[0;32m    408\u001b[0m inv_norm \u001b[38;5;241m=\u001b[39m _get_forward_norm(n, norm)\n\u001b[1;32m--> 409\u001b[0m output \u001b[38;5;241m=\u001b[39m _raw_fft(a, n, axis, \u001b[38;5;28;01mTrue\u001b[39;00m, \u001b[38;5;28;01mTrue\u001b[39;00m, inv_norm)\n\u001b[0;32m    410\u001b[0m \u001b[38;5;28;01mreturn\u001b[39;00m output\n",
            "File \u001b[1;32m~\\anaconda3\\Lib\\site-packages\\numpy\\fft\\_pocketfft.py:73\u001b[0m, in \u001b[0;36m_raw_fft\u001b[1;34m(a, n, axis, is_real, is_forward, inv_norm)\u001b[0m\n\u001b[0;32m     71\u001b[0m \u001b[38;5;28;01melse\u001b[39;00m:\n\u001b[0;32m     72\u001b[0m     a \u001b[38;5;241m=\u001b[39m swapaxes(a, axis, \u001b[38;5;241m-\u001b[39m\u001b[38;5;241m1\u001b[39m)\n\u001b[1;32m---> 73\u001b[0m     r \u001b[38;5;241m=\u001b[39m pfi\u001b[38;5;241m.\u001b[39mexecute(a, is_real, is_forward, fct)\n\u001b[0;32m     74\u001b[0m     r \u001b[38;5;241m=\u001b[39m swapaxes(r, axis, \u001b[38;5;241m-\u001b[39m\u001b[38;5;241m1\u001b[39m)\n\u001b[0;32m     75\u001b[0m \u001b[38;5;28;01mreturn\u001b[39;00m r\n",
            "\u001b[1;31mKeyboardInterrupt\u001b[0m: "
          ]
        }
      ]
    }
  ],
  "metadata": {
    "kernelspec": {
      "display_name": "Python 3 (ipykernel)",
      "language": "python",
      "name": "python3"
    },
    "language_info": {
      "codemirror_mode": {
        "name": "ipython",
        "version": 3
      },
      "file_extension": ".py",
      "mimetype": "text/x-python",
      "name": "python",
      "nbconvert_exporter": "python",
      "pygments_lexer": "ipython3",
      "version": "3.9.13"
    },
    "colab": {
      "provenance": [],
      "include_colab_link": true
    }
  },
  "nbformat": 4,
  "nbformat_minor": 5
}