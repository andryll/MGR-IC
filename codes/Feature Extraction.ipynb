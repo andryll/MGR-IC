{
  "cells": [
    {
      "cell_type": "markdown",
      "metadata": {
        "id": "view-in-github",
        "colab_type": "text"
      },
      "source": [
        "<a href=\"https://colab.research.google.com/github/andryll/MGR-IC/blob/main/codes/Feature%20Extraction.ipynb\" target=\"_parent\"><img src=\"https://colab.research.google.com/assets/colab-badge.svg\" alt=\"Open In Colab\"/></a>"
      ]
    },
    {
      "cell_type": "code",
      "execution_count": 3,
      "id": "6d4d6e9c",
      "metadata": {
        "id": "6d4d6e9c"
      },
      "outputs": [],
      "source": [
        "# Importando as Bibliotecas\n",
        "\n",
        "import numpy as np\n",
        "import librosa\n",
        "#import IPython.display as ipd\n",
        "import os\n",
        "import pandas as pd\n",
        "from sklearn import preprocessing\n",
        "from sklearn.decomposition import PCA"
      ]
    },
    {
      "cell_type": "code",
      "execution_count": 4,
      "id": "a903890e",
      "metadata": {
        "id": "a903890e"
      },
      "outputs": [],
      "source": [
        "def splitSongs (songList, duration, sr=44100):\n",
        "\n",
        "  # Converta o tamanho da janela de segundos para amostras\n",
        "  window_size_samples = int(duration * sr)\n",
        "\n",
        "  # Inicialize uma lista para armazenar os segmentos\n",
        "  segmentedList = []\n",
        "\n",
        "  # Pega cada música da lista\n",
        "  for y in songList:\n",
        "\n",
        "    # Calcule o número total de segmentos\n",
        "    num_segments = len(y[0]) // window_size_samples\n",
        "\n",
        "    # Divida o áudio em segmentos de 5 segundos e adcione-os na lista\n",
        "    for i in range(num_segments):\n",
        "        start = i * window_size_samples\n",
        "        end = (i + 1) * window_size_samples\n",
        "        segment = (y[0][start:end], y[1], y[2])\n",
        "        segmentedList.append(segment)\n",
        "\n",
        "  # Retorna a nova lista\n",
        "  return segmentedList"
      ]
    },
    {
      "cell_type": "code",
      "execution_count": 11,
      "id": "0cf562c6",
      "metadata": {
        "id": "0cf562c6"
      },
      "outputs": [],
      "source": [
        "def readSongs (genre, numSongs, sr=44100, duration = 30):\n",
        "\n",
        "  # Declarando listas iniciais\n",
        "  songs = []\n",
        "  genrelist = ['blues', 'classical', 'country', 'disco', 'hiphop', 'jazz',\n",
        "                'metal', 'pop', 'reggae', 'rock']\n",
        "\n",
        "  # Se a escolha de gênero não for 'all', substitui a lista pelo gênero escolhido\n",
        "  if genre != 'all':\n",
        "    genrelist = [genre]\n",
        "\n",
        "  #Percorre todos os gêneros da lista\n",
        "  for g in genrelist:\n",
        "    #Pega o caminho para a pasta do gênero escolhido\n",
        "    dir_path = os.path.join('MGR-IC/songs', g)\n",
        "    #Lista os arquivos da pasta e os embaralha\n",
        "    files = os.listdir(dir_path)\n",
        "    files.sort\n",
        "\n",
        "    # Até o número de musicas desejado ser alcançado, lê os arquivos de áudio com o librosa\n",
        "    for i in range(numSongs):\n",
        "      songs.append(librosa.load(os.path.join(dir_path, files[i]), sr=sr, mono = True, duration = 30))\n",
        "      # Adciona o gênero como uma variável da tupla\n",
        "      songs[-1] = songs[-1] + (g,)\n",
        "\n",
        "  max_len = max(len(song[0]) for song in songs)\n",
        "\n",
        "  # Garante que todas as músicas terão o mesmo tamanho da maior\n",
        "  resized_songs = []\n",
        "  for song in songs:\n",
        "      # Verifica se a música precisa ser redimensionada\n",
        "      if len(song[0]) < max_len:\n",
        "          # Adiciona zeros à direita para igualar o tamanho\n",
        "          padded_audio = librosa.util.pad_center(data = song[0], size = max_len, axis = 0)\n",
        "          resized_songs.append((padded_audio, song[1], song[2]))\n",
        "      else:\n",
        "          resized_songs.append(song)\n",
        "\n",
        "  new_songs = splitSongs (resized_songs, sr=sr, duration = duration)\n",
        "\n",
        "  return new_songs"
      ]
    },
    {
      "cell_type": "markdown",
      "id": "9df06bf4",
      "metadata": {
        "id": "9df06bf4"
      },
      "source": [
        "### Extração das Features\n"
      ]
    },
    {
      "cell_type": "code",
      "execution_count": 18,
      "id": "8b8b8a39",
      "metadata": {
        "id": "8b8b8a39"
      },
      "outputs": [],
      "source": [
        "# Reduz a dimensionalidade dos dados\n",
        "def reduceDimension(dataframe, rate=0.99):\n",
        "  X = dataframe.drop(columns=['Classe']).values.tolist()\n",
        "  Y = dataframe['Classe'].values.tolist()\n",
        "\n",
        "  scaler = preprocessing.StandardScaler()\n",
        "  X_scaled = scaler.fit_transform(X)\n",
        "\n",
        "  pca = PCA(n_components= rate)\n",
        "  X_pca = pca.fit_transform(X_scaled)\n",
        "\n",
        "  df = pd.concat([pd.DataFrame(X_pca), pd.DataFrame({'Classe': Y})], axis=1)\n",
        "\n",
        "  return df"
      ]
    },
    {
      "cell_type": "code",
      "execution_count": 8,
      "id": "8a7a92da",
      "metadata": {
        "id": "8a7a92da"
      },
      "outputs": [],
      "source": [
        "def featureExtraction (songs, feature, sr=44100, frame=512):\n",
        "\n",
        "  featurelist = []\n",
        "\n",
        "  for i in songs:\n",
        "\n",
        "    match feature:\n",
        "      case 'zcr':\n",
        "        zcr = librosa.feature.zero_crossing_rate(i[0], frame_length = frame, hop_length = round(frame/2), center = True)\n",
        "        aux = pd.DataFrame(zcr[0]).transpose()\n",
        "\n",
        "      case 'rms':\n",
        "        rms = librosa.feature.rms(y=i[0], frame_length = frame, hop_length = round(frame/2), center = True)\n",
        "        aux = pd.DataFrame(rms[0]).transpose()\n",
        "\n",
        "      case 'mfcc':\n",
        "        mfcc = librosa.feature.mfcc(y=i[0], sr=sr)\n",
        "        mfcc = (np.array(mfcc).flatten()).tolist()\n",
        "        aux = pd.DataFrame(mfcc).transpose()\n",
        "\n",
        "      case 'centroid':\n",
        "        sctoid = librosa.feature.spectral_centroid(y=i[0], sr=sr, hop_length = round(frame/2), center = True)\n",
        "        aux = pd.DataFrame(sctoid[0]).transpose()\n",
        "\n",
        "\n",
        "      case 'rolloff':\n",
        "        srloff99 = librosa.feature.spectral_rolloff(y=i[0], sr=sr, hop_length = round(frame/2), center = True, roll_percent=0.95)\n",
        "        srloff1 = librosa.feature.spectral_rolloff(y=i[0], sr=sr, hop_length = round(frame/2), center = True, roll_percent=0.05)\n",
        "        aux = pd.concat([pd.DataFrame(srloff1), pd.DataFrame(srloff99)], axis=1)\n",
        "\n",
        "      case 'all':\n",
        "        zcr = librosa.feature.zero_crossing_rate(i[0], frame_length = frame, hop_length = round(frame/2), center = True)\n",
        "        zcrdf = pd.DataFrame(zcr[0]).transpose()\n",
        "\n",
        "        rms = librosa.feature.rms(y=i[0], frame_length = frame, hop_length = round(frame/2), center = True)\n",
        "        rmsdf = pd.DataFrame(rms[0]).transpose()\n",
        "\n",
        "        mfcc = librosa.feature.mfcc(y=i[0], sr=sr)\n",
        "        mfcc = (np.array(mfcc).flatten()).tolist()\n",
        "        mfccdf = pd.DataFrame(mfcc).transpose()\n",
        "\n",
        "        sctoid = librosa.feature.spectral_centroid(y=i[0], sr=sr, hop_length = round(frame/2), center = True)\n",
        "        sctoiddf = pd.DataFrame(sctoid[0]).transpose()\n",
        "\n",
        "        srloff99 = librosa.feature.spectral_rolloff(y=i[0], sr=sr, hop_length = round(frame/2), center = True, roll_percent=0.95)\n",
        "        srloff1 = librosa.feature.spectral_rolloff(y=i[0], sr=sr, hop_length = round(frame/2), center = True, roll_percent=0.05)\n",
        "        srloff99df = pd.DataFrame(srloff99)\n",
        "        srloff1df = pd.DataFrame(srloff1)\n",
        "\n",
        "        aux = pd.concat([zcrdf, rmsdf, mfccdf, sctoiddf, srloff1df, srloff99df], axis=1)\n",
        "\n",
        "      case _:\n",
        "        print('Feature Inválida')\n",
        "\n",
        "    aux['Classe'] = i[2]\n",
        "    featurelist.append(aux)\n",
        "\n",
        "  df = pd.concat(featurelist, axis=0)\n",
        "  df = reduceDimension(df, 0.99)\n",
        "\n",
        "  return df"
      ]
    },
    {
      "cell_type": "markdown",
      "source": [
        "### Execução"
      ],
      "metadata": {
        "id": "k4EC0HNHwlPL"
      },
      "id": "k4EC0HNHwlPL"
    },
    {
      "cell_type": "code",
      "source": [
        "# Lê as músicas\n",
        "songs = readSongs ('all', 50, 44100, 3)\n"
      ],
      "metadata": {
        "id": "rVucptFxwk_N"
      },
      "id": "rVucptFxwk_N",
      "execution_count": 12,
      "outputs": []
    },
    {
      "cell_type": "code",
      "source": [
        "# Extrai as features para os frame lenghts desejados\n",
        "frame_lenghts = [512, 1024, 2048, 4096, 8192]\n",
        "\n",
        "dflist = []\n",
        "for f in frame_lenghts:\n",
        "  dflist.append(featureExtraction(songs, 'all', 44100, frame=f))"
      ],
      "metadata": {
        "id": "JDWBnRzsw_JX"
      },
      "id": "JDWBnRzsw_JX",
      "execution_count": 19,
      "outputs": []
    },
    {
      "cell_type": "code",
      "source": [
        "csvnames = ['3s_512.csv','3s_1024.csv','3s_2048.csv','3s_4096.csv','3s8192.csv']\n",
        "\n",
        "for i in range(len(dflist)):\n",
        "  dflist[i].to_csv(csvnames[i], sep=',', index=False, encoding='utf-8')"
      ],
      "metadata": {
        "id": "YmR8TItBCuo7"
      },
      "id": "YmR8TItBCuo7",
      "execution_count": 20,
      "outputs": []
    }
  ],
  "metadata": {
    "kernelspec": {
      "display_name": "Python 3 (ipykernel)",
      "language": "python",
      "name": "python3"
    },
    "language_info": {
      "codemirror_mode": {
        "name": "ipython",
        "version": 3
      },
      "file_extension": ".py",
      "mimetype": "text/x-python",
      "name": "python",
      "nbconvert_exporter": "python",
      "pygments_lexer": "ipython3",
      "version": "3.9.13"
    },
    "colab": {
      "provenance": [],
      "include_colab_link": true
    }
  },
  "nbformat": 4,
  "nbformat_minor": 5
}