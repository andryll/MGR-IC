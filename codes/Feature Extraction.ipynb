{
 "cells": [
  {
   "cell_type": "markdown",
   "id": "572eec27",
   "metadata": {},
   "source": [
    "Importando as bibliotecas necessárias"
   ]
  },
  {
   "cell_type": "code",
   "execution_count": null,
   "id": "aa1d325e",
   "metadata": {},
   "outputs": [],
   "source": [
    "conda install -c conda-forge librosa"
   ]
  },
  {
   "cell_type": "code",
   "execution_count": 1,
   "id": "6d4d6e9c",
   "metadata": {},
   "outputs": [
    {
     "ename": "ModuleNotFoundError",
     "evalue": "No module named 'librosa'",
     "output_type": "error",
     "traceback": [
      "\u001b[1;31m---------------------------------------------------------------------------\u001b[0m",
      "\u001b[1;31mModuleNotFoundError\u001b[0m                       Traceback (most recent call last)",
      "\u001b[1;32m~\\AppData\\Local\\Temp\\ipykernel_28700\\50911982.py\u001b[0m in \u001b[0;36m<module>\u001b[1;34m\u001b[0m\n\u001b[0;32m      1\u001b[0m \u001b[1;32mimport\u001b[0m \u001b[0mnumpy\u001b[0m \u001b[1;32mas\u001b[0m \u001b[0mnp\u001b[0m\u001b[1;33m\u001b[0m\u001b[1;33m\u001b[0m\u001b[0m\n\u001b[1;32m----> 2\u001b[1;33m \u001b[1;32mimport\u001b[0m \u001b[0mlibrosa\u001b[0m\u001b[1;33m\u001b[0m\u001b[1;33m\u001b[0m\u001b[0m\n\u001b[0m\u001b[0;32m      3\u001b[0m \u001b[1;32mimport\u001b[0m \u001b[0mIPython\u001b[0m\u001b[1;33m.\u001b[0m\u001b[0mdisplay\u001b[0m \u001b[1;32mas\u001b[0m \u001b[0mipd\u001b[0m\u001b[1;33m\u001b[0m\u001b[1;33m\u001b[0m\u001b[0m\n\u001b[0;32m      4\u001b[0m \u001b[1;32mimport\u001b[0m \u001b[0mmatplotlib\u001b[0m\u001b[1;33m.\u001b[0m\u001b[0mpyplot\u001b[0m \u001b[1;32mas\u001b[0m \u001b[0mplt\u001b[0m\u001b[1;33m\u001b[0m\u001b[1;33m\u001b[0m\u001b[0m\n",
      "\u001b[1;31mModuleNotFoundError\u001b[0m: No module named 'librosa'"
     ]
    }
   ],
   "source": [
    "import numpy as np\n",
    "import librosa\n",
    "import IPython.display as ipd\n",
    "import matplotlib.pyplot as plt"
   ]
  },
  {
   "cell_type": "markdown",
   "id": "16e671ea",
   "metadata": {},
   "source": [
    "Montando o drive e importando algumas músicas\n"
   ]
  },
  {
   "cell_type": "code",
   "execution_count": null,
   "id": "a903890e",
   "metadata": {},
   "outputs": [],
   "source": [
    "from google.colab import drive\n",
    "drive.mount('/content/drive')"
   ]
  },
  {
   "cell_type": "code",
   "execution_count": null,
   "id": "0cf562c6",
   "metadata": {},
   "outputs": [],
   "source": [
    "import os\n",
    "dir_path = '/content/drive/MyDrive/Musicas_IC/'\n",
    "\n",
    "files = os.listdir(dir_path)\n",
    "\n",
    "songs = []\n",
    "for f in files:\n",
    "  print(f)\n",
    "  songs.append(librosa.load(os.path.join(dir_path, f), sr=44100, mono = True))\n",
    "\n",
    "sr = 44100"
   ]
  },
  {
   "cell_type": "code",
   "execution_count": null,
   "id": "bf27ba75",
   "metadata": {},
   "outputs": [],
   "source": [
    "songs"
   ]
  },
  {
   "cell_type": "code",
   "execution_count": null,
   "id": "f772c5b6",
   "metadata": {},
   "outputs": [],
   "source": [
    "song0, sr = librosa.load('/content/drive/MyDrive/Musicas_IC/rock.00088.wav', sr=44100, mono = True)\n",
    "song1, sr = librosa.load('/content/drive/MyDrive/Musicas_IC/rock.00089.wav', sr=44100, mono = True)\n",
    "song2, sr = librosa.load('/content/drive/MyDrive/Musicas_IC/rock.00090.wav', sr=44100, mono = True)\n",
    "song3, sr = librosa.load('/content/drive/MyDrive/Musicas_IC/rock.00091.wav', sr=44100, mono = True)\n",
    "song4, sr = librosa.load('/content/drive/MyDrive/Musicas_IC/rock.00092.wav', sr=44100, mono = True)\n",
    "song5, sr = librosa.load('/content/drive/MyDrive/Musicas_IC/rock.00093.wav', sr=44100, mono = True)\n",
    "song6, sr = librosa.load('/content/drive/MyDrive/Musicas_IC/rock.00094.wav', sr=44100, mono = True)\n",
    "song7, sr = librosa.load('/content/drive/MyDrive/Musicas_IC/rock.00095.wav', sr=44100, mono = True)\n",
    "song8, sr = librosa.load('/content/drive/MyDrive/Musicas_IC/rock.00096.wav', sr=44100, mono = True)\n",
    "song9, sr = librosa.load('/content/drive/MyDrive/Musicas_IC/rock.00097.wav', sr=44100, mono = True)"
   ]
  },
  {
   "cell_type": "code",
   "execution_count": null,
   "id": "d110bbd3",
   "metadata": {},
   "outputs": [],
   "source": [
    "ipd.Audio(data=song0, rate=sr)"
   ]
  },
  {
   "cell_type": "markdown",
   "id": "9df06bf4",
   "metadata": {},
   "source": [
    "# Extração das Features\n",
    "### Time Domain Features (TDF)\n",
    "\n",
    "\n",
    "> Zero Crossing Rate\n",
    "\n",
    "> Root Mean Square Energy\n",
    "\n",
    "\n",
    "\n",
    "### Frequency Domain Features (FDF)\n",
    "\n",
    "> MFCC\n",
    "\n",
    "> Spectral Centroid\n",
    "\n",
    "> Spectral Rolloff"
   ]
  },
  {
   "cell_type": "code",
   "execution_count": null,
   "id": "8b8b8a39",
   "metadata": {},
   "outputs": [],
   "source": [
    "# Extraindo inicialmente a ZCR da primeira música (song0)\n",
    "#   > Usando frame length 2048, hop length 512 e centralizando o feixe\n",
    "zcr0 = librosa.feature.zero_crossing_rate(song0, frame_length = 2048, hop_length = 512, center = True)\n",
    "\n",
    "rmse0 = librosa.feature.rms(y=song0)\n"
   ]
  },
  {
   "cell_type": "code",
   "execution_count": null,
   "id": "e721a3f4",
   "metadata": {},
   "outputs": [],
   "source": [
    "rmse0 == rmse0[0]"
   ]
  },
  {
   "cell_type": "code",
   "execution_count": null,
   "id": "8a7a92da",
   "metadata": {},
   "outputs": [],
   "source": [
    "# Printando diagramas\n",
    "S, phase = librosa.magphase(librosa.stft(y = song0))\n",
    "times = librosa.times_like(rmse0, sr=sr)\n",
    "plt.plot(times, rmse0[0], label='RMS Energy')\n",
    "plt.xticks = []\n",
    "plt.legend()\n",
    "plt.title('Root Mean Square Energy')\n",
    "plt.ylabel('Amplitude')\n",
    "plt.xlabel('Tempo (s)')\n",
    "plt.show()\n",
    "\n",
    "display(rmse0)\n",
    "\n",
    "print(zcr0.shape)\n",
    "plt.plot(zcr0[0], label = 'ZCR')\n",
    "plt.legend()\n",
    "plt.title('Zero Crossing Rate')"
   ]
  }
 ],
 "metadata": {
  "kernelspec": {
   "display_name": "Python 3 (ipykernel)",
   "language": "python",
   "name": "python3"
  },
  "language_info": {
   "codemirror_mode": {
    "name": "ipython",
    "version": 3
   },
   "file_extension": ".py",
   "mimetype": "text/x-python",
   "name": "python",
   "nbconvert_exporter": "python",
   "pygments_lexer": "ipython3",
   "version": "3.9.13"
  }
 },
 "nbformat": 4,
 "nbformat_minor": 5
}
