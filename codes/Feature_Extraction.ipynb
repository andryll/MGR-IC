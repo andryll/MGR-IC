{
  "cells": [
    {
      "cell_type": "markdown",
      "metadata": {
        "id": "view-in-github",
        "colab_type": "text"
      },
      "source": [
        "<a href=\"https://colab.research.google.com/github/andryll/MGR-IC/blob/main/codes/Feature_Extraction.ipynb\" target=\"_parent\"><img src=\"https://colab.research.google.com/assets/colab-badge.svg\" alt=\"Open In Colab\"/></a>"
      ]
    },
    {
      "cell_type": "code",
      "execution_count": null,
      "id": "6d4d6e9c",
      "metadata": {
        "id": "6d4d6e9c"
      },
      "outputs": [],
      "source": [
        "# Importando as Bibliotecas\n",
        "\n",
        "import numpy as np\n",
        "import librosa\n",
        "#import IPython.display as ipd\n",
        "import os\n",
        "import pandas as pd\n",
        "from sklearn import preprocessing\n",
        "from sklearn.decomposition import PCA"
      ]
    },
    {
      "cell_type": "code",
      "execution_count": null,
      "id": "a903890e",
      "metadata": {
        "id": "a903890e"
      },
      "outputs": [],
      "source": [
        "def splitSongs (songList, duration, sr=44100):\n",
        "\n",
        "  # Converta o tamanho da janela de segundos para amostras\n",
        "  window_size_samples = int(duration * sr)\n",
        "\n",
        "  # Inicialize uma lista para armazenar os segmentos\n",
        "  segmentedList = []\n",
        "\n",
        "  # Pega cada música da lista\n",
        "  for y in songList:\n",
        "\n",
        "    # Calcule o número total de segmentos\n",
        "    num_segments = len(y[0]) // window_size_samples\n",
        "\n",
        "    # Divida o áudio em segmentos de 5 segundos e adcione-os na lista\n",
        "    for i in range(num_segments):\n",
        "        start = i * window_size_samples\n",
        "        end = (i + 1) * window_size_samples\n",
        "        segment = (y[0][start:end], y[1], y[2])\n",
        "        segmentedList.append(segment)\n",
        "\n",
        "  # Retorna a nova lista\n",
        "  return segmentedList"
      ]
    },
    {
      "cell_type": "code",
      "execution_count": null,
      "id": "0cf562c6",
      "metadata": {
        "id": "0cf562c6"
      },
      "outputs": [],
      "source": [
        "def readSongs (genre, numSongs, sr=44100, duration = 30):\n",
        "\n",
        "  # Declarando listas iniciais\n",
        "  songs = []\n",
        "  genrelist = ['blues', 'classical', 'country', 'disco', 'hiphop', 'jazz',\n",
        "                'metal', 'pop', 'reggae', 'rock']\n",
        "\n",
        "  # Se a escolha de gênero não for 'all', substitui a lista pelo gênero escolhido\n",
        "  if genre != 'all':\n",
        "    genrelist = [genre]\n",
        "\n",
        "  #Percorre todos os gêneros da lista\n",
        "  for g in genrelist:\n",
        "    #Pega o caminho para a pasta do gênero escolhido\n",
        "    dir_path = os.path.join('C:/Users/andry/OneDrive/Documentos/GitHub/MGR-IC/songs', g)\n",
        "    #Lista os arquivos da pasta e os embaralha\n",
        "    files = os.listdir(dir_path)\n",
        "    files.sort\n",
        "\n",
        "    # Até o número de musicas desejado ser alcançado, lê os arquivos de áudio com o librosa\n",
        "    for i in range(numSongs):\n",
        "      songs.append(librosa.load(os.path.join(dir_path, files[i]), sr=sr, mono = True, duration = 30))\n",
        "      # Adciona o gênero como uma variável da tupla\n",
        "      songs[-1] = songs[-1] + (g,)\n",
        "\n",
        "  max_len = max(len(song[0]) for song in songs)\n",
        "\n",
        "  # Garante que todas as músicas terão o mesmo tamanho da maior\n",
        "  resized_songs = []\n",
        "  for song in songs:\n",
        "      # Verifica se a música precisa ser redimensionada\n",
        "      if len(song[0]) < max_len:\n",
        "          # Adiciona zeros à direita para igualar o tamanho\n",
        "          padded_audio = librosa.util.pad_center(data = song[0], size = max_len, axis = 0)\n",
        "          resized_songs.append((padded_audio, song[1], song[2]))\n",
        "      else:\n",
        "          resized_songs.append(song)\n",
        "\n",
        "  new_songs = splitSongs (resized_songs, sr=sr, duration = duration)\n",
        "\n",
        "  return new_songs"
      ]
    },
    {
      "cell_type": "markdown",
      "id": "9df06bf4",
      "metadata": {
        "id": "9df06bf4"
      },
      "source": [
        "### Extração das Features\n"
      ]
    },
    {
      "cell_type": "code",
      "execution_count": null,
      "id": "8a7a92da",
      "metadata": {
        "id": "8a7a92da"
      },
      "outputs": [],
      "source": [
        "def featureExtraction (songs, sr=44100, frame=512):\n",
        "\n",
        "  colunas = ['Chroma mean C', 'Chroma sd2 C','Chroma mean C#', 'Chroma sd2 C#', 'Chroma mean D', 'Chroma sd2 D', 'Chroma mean D#', 'Chroma sd2 D#',\n",
        "             'Chroma mean E', 'Chroma sd2 E', 'Chroma mean F', 'Chroma sd2 F', 'Chroma mean F#', 'Chroma sd2 F#', 'Chroma mean G', 'Chroma sd2 G',\n",
        "             'Chroma mean Ab', 'Chroma sd2 Ab', 'Chroma mean A', 'Chroma sd2 A', 'Chroma mean Bb', 'Chroma sd2 Bb', 'Chroma mean B', 'Chroma sd2 B',\n",
        "             'RMS mean', 'RMS sd2', 'SpC mean', 'SpC sd2', 'SpBw mean', 'SpBw sd2', 'SpR99 mean', 'SpR99 sd2', 'SpR01 mean', 'SpR01 sd2', 'ZCR mean',\n",
        "             'ZCR sd2', 'MFCC1 mean', 'MFCC1 sd2', 'MFCC2 mean', 'MFCC2 sd2', 'MFCC3 mean', 'MFCC3 sd2', 'MFCC4 mean', 'MFCC4 sd2', 'MFCC5 mean',\n",
        "             'MFCC5 sd2', 'MFCC6 mean', 'MFCC6 sd2', 'MFCC7 mean', 'MFCC7 sd2', 'MFCC8 mean', 'MFCC8 sd2', 'MFCC9 mean', 'MFCC9 sd2', 'MFCC10 mean',\n",
        "             'MFCC10 sd2', 'MFCC11 mean', 'MFCC11 sd2', 'MFCC12 mean', 'MFCC12 sd2', 'MFCC13 mean', 'MFCC13 sd2', 'MFCC14 mean', 'MFCC14 sd2', 'MFCC15 mean',\n",
        "             'MFCC15 sd2', 'MFCC16 mean', 'MFCC16 sd2', 'MFCC17 mean', 'MFCC17 sd2', 'MFCC18 mean', 'MFCC18 sd2', 'MFCC19 mean', 'MFCC19 sd2', 'MFCC20 mean',\n",
        "             'MFCC20 sd2', 'tempo', 'Classe']\n",
        "\n",
        "  df = pd.DataFrame(columns=colunas)\n",
        "\n",
        "  for y in songs:\n",
        "\n",
        "    #Chroma\n",
        "    chromas = librosa.feature.chroma_stft(y=y[0], sr=y[1])\n",
        "    chroma_mean = np.mean(chromas, axis=1)\n",
        "    chroma_sd2 = np.std(chromas, axis=1)**2\n",
        "\n",
        "    #RMS\n",
        "    rms = librosa.feature.rms(y=y[0], frame_length=frame, hop_length=int(frame/2))\n",
        "    rms_mean = np.mean(rms)\n",
        "    rms_sd2 = np.std(rms)**2\n",
        "\n",
        "    #Spectral Centroid\n",
        "    centroid = librosa.feature.spectral_centroid(y=y[0], sr=y[1], hop_length=int(frame/2), n_fft=frame)\n",
        "    centroid_mean = np.mean(centroid)\n",
        "    centroid_sd2 = np.std(centroid)**2\n",
        "\n",
        "    #Spectral Bandwidth\n",
        "    bandwidth = librosa.feature.spectral_bandwidth(y=y[0], sr = y[1], n_fft=frame, hop_length=int(frame/2))\n",
        "    bandwidth_mean = np.mean(bandwidth)\n",
        "    bandwidth_sd2 = np.std(bandwidth)**2\n",
        "\n",
        "    #Spectral Rolloff\n",
        "    roll99 = librosa.feature.spectral_rolloff(y=y[0], sr=y[1], n_fft=frame, hop_length=int(frame/2), roll_percent=0.99)\n",
        "    roll99_mean = np.mean(roll99)\n",
        "    roll99_sd2 = np.std(roll99)**2\n",
        "\n",
        "    roll01 = librosa.feature.spectral_rolloff(y=y[0], sr=y[1], n_fft=frame, hop_length=int(frame/2), roll_percent=0.01)\n",
        "    roll01_mean = np.mean(roll01)\n",
        "    roll01_sd2 = np.std(roll01)**2\n",
        "\n",
        "    #ZCR\n",
        "    zcr = librosa.feature.zero_crossing_rate(y=y[0], frame_length=frame, hop_length=int(frame/2))\n",
        "    zcr_mean = np.mean(zcr)\n",
        "    zcr_sd2 = np.std(zcr)**2\n",
        "\n",
        "    #MFCC\n",
        "    mfcc = librosa.feature.mfcc(y=y[0], sr=y[1], n_mfcc=20)\n",
        "    mfcc_mean = np.mean(mfcc, axis=1)\n",
        "    mfcc_sd2 = np.std(mfcc, axis=1)**2\n",
        "    #Harmony\n",
        "\n",
        "    #tempo\n",
        "    tempo = librosa.feature.tempo(y=y[0], sr=y[1], hop_length=int(frame/2))\n",
        "\n",
        "    #Adcionando ao DF\n",
        "\n",
        "    df.loc[len(df)] = [chroma_mean[0], chroma_sd2[0], chroma_mean[1], chroma_sd2[1], chroma_mean[2], chroma_sd2[2], chroma_mean[3], chroma_sd2[3],\n",
        "                      chroma_mean[4], chroma_sd2[4], chroma_mean[5], chroma_sd2[5], chroma_mean[6], chroma_sd2[6], chroma_mean[7], chroma_sd2[7],\n",
        "                      chroma_mean[8], chroma_sd2[8], chroma_mean[9], chroma_sd2[9], chroma_mean[10], chroma_sd2[10], chroma_mean[11], chroma_sd2[11],\n",
        "                      rms_mean, rms_sd2, centroid_mean, centroid_sd2, bandwidth_mean, bandwidth_sd2, roll99_mean, roll99_sd2, roll01_mean, roll01_sd2,\n",
        "                      zcr_mean, zcr_sd2, mfcc_mean[0], mfcc_sd2[0], mfcc_mean[1], mfcc_sd2[1], mfcc_mean[2], mfcc_sd2[2], mfcc_mean[3], mfcc_sd2[3],\n",
        "                      mfcc_mean[4], mfcc_sd2[4], mfcc_mean[5], mfcc_sd2[5], mfcc_mean[6], mfcc_sd2[6], mfcc_mean[7], mfcc_sd2[7], mfcc_mean[8], mfcc_sd2[8],\n",
        "                      mfcc_mean[9], mfcc_sd2[9], mfcc_mean[10], mfcc_sd2[10], mfcc_mean[11], mfcc_sd2[11], mfcc_mean[12], mfcc_sd2[12], mfcc_mean[13], mfcc_sd2[13],\n",
        "                      mfcc_mean[14], mfcc_sd2[14], mfcc_mean[15], mfcc_sd2[15], mfcc_mean[16], mfcc_sd2[16], mfcc_mean[17], mfcc_sd2[17], mfcc_mean[18], mfcc_sd2[18],\n",
        "                      mfcc_mean[19], mfcc_sd2[19], tempo[0], y[2]]\n",
        "\n",
        "\n",
        "  return df"
      ]
    },
    {
      "cell_type": "markdown",
      "source": [
        "### Execução"
      ],
      "metadata": {
        "id": "k4EC0HNHwlPL"
      },
      "id": "k4EC0HNHwlPL"
    },
    {
      "cell_type": "code",
      "source": [
        "# Lê as músicas\n",
        "songs = readSongs ('all', 100, 44100, 5)\n"
      ],
      "metadata": {
        "id": "rVucptFxwk_N"
      },
      "id": "rVucptFxwk_N",
      "execution_count": null,
      "outputs": []
    },
    {
      "cell_type": "code",
      "source": [
        "len(songs)"
      ],
      "metadata": {
        "colab": {
          "base_uri": "https://localhost:8080/"
        },
        "id": "51VQD_GVOq9X",
        "outputId": "73256f49-0fdf-441f-bc8a-d3823b506978"
      },
      "id": "51VQD_GVOq9X",
      "execution_count": null,
      "outputs": [
        {
          "output_type": "execute_result",
          "data": {
            "text/plain": [
              "6000"
            ]
          },
          "metadata": {},
          "execution_count": 7
        }
      ]
    },
    {
      "cell_type": "code",
      "source": [
        "df = featureExtraction (songs, sr=44100, frame=1024)"
      ],
      "metadata": {
        "id": "t0UEMiKpbmOk"
      },
      "id": "t0UEMiKpbmOk",
      "execution_count": null,
      "outputs": []
    },
    {
      "cell_type": "code",
      "source": [
        "df.head()"
      ],
      "metadata": {
        "id": "LNpNehpgd5l1",
        "outputId": "22ba934a-0e34-47df-d05b-24ceaeb73ca9",
        "colab": {
          "base_uri": "https://localhost:8080/",
          "height": 273
        }
      },
      "id": "LNpNehpgd5l1",
      "execution_count": null,
      "outputs": [
        {
          "output_type": "execute_result",
          "data": {
            "text/plain": [
              "   Chroma mean C  Chroma sd2 C  Chroma mean C#  Chroma sd2 C#  Chroma mean D  \\\n",
              "0       0.394617      0.105338        0.443642       0.088150       0.481578   \n",
              "1       0.428290      0.113275        0.476215       0.106603       0.494223   \n",
              "2       0.357212      0.096538        0.378870       0.071623       0.492932   \n",
              "3       0.395143      0.086771        0.413099       0.078591       0.496900   \n",
              "4       0.405898      0.121835        0.433755       0.109411       0.463097   \n",
              "\n",
              "   Chroma sd2 D  Chroma mean D#  Chroma sd2 D#  Chroma mean E  Chroma sd2 E  \\\n",
              "0      0.101544        0.346441       0.061531       0.370519      0.082360   \n",
              "1      0.107198        0.379621       0.076511       0.357802      0.066731   \n",
              "2      0.101273        0.352712       0.061301       0.321471      0.066488   \n",
              "3      0.105141        0.345685       0.054382       0.359460      0.067951   \n",
              "4      0.106878        0.305630       0.067156       0.281570      0.061102   \n",
              "\n",
              "   ...  MFCC17 mean  MFCC17 sd2  MFCC18 mean  MFCC18 sd2  MFCC19 mean  \\\n",
              "0  ...     5.050471   36.993397    -8.289567   33.612530    -2.478076   \n",
              "1  ...     6.498300   29.181923    -3.217815   54.156834     3.200929   \n",
              "2  ...     4.673268   32.282803    -7.692242   36.558689     0.692331   \n",
              "3  ...     4.546683   32.767582    -5.488396   24.877171     1.453244   \n",
              "4  ...     5.317678   26.526995    -4.582438   36.219418     2.514524   \n",
              "\n",
              "   MFCC19 sd2  MFCC20 mean  MFCC20 sd2       tempo  Classe  \n",
              "0   38.674591    -2.092990   34.718590  126.048018   blues  \n",
              "1   68.362213     0.460429   26.820696  123.046875   blues  \n",
              "2   38.365929     0.794478   35.058079  126.048018   blues  \n",
              "3   28.945955    -0.223831   27.314598  126.048018   blues  \n",
              "4   36.389427    -0.436270   27.635517  123.046875   blues  \n",
              "\n",
              "[5 rows x 78 columns]"
            ],
            "text/html": [
              "<div>\n",
              "<style scoped>\n",
              "    .dataframe tbody tr th:only-of-type {\n",
              "        vertical-align: middle;\n",
              "    }\n",
              "\n",
              "    .dataframe tbody tr th {\n",
              "        vertical-align: top;\n",
              "    }\n",
              "\n",
              "    .dataframe thead th {\n",
              "        text-align: right;\n",
              "    }\n",
              "</style>\n",
              "<table border=\"1\" class=\"dataframe\">\n",
              "  <thead>\n",
              "    <tr style=\"text-align: right;\">\n",
              "      <th></th>\n",
              "      <th>Chroma mean C</th>\n",
              "      <th>Chroma sd2 C</th>\n",
              "      <th>Chroma mean C#</th>\n",
              "      <th>Chroma sd2 C#</th>\n",
              "      <th>Chroma mean D</th>\n",
              "      <th>Chroma sd2 D</th>\n",
              "      <th>Chroma mean D#</th>\n",
              "      <th>Chroma sd2 D#</th>\n",
              "      <th>Chroma mean E</th>\n",
              "      <th>Chroma sd2 E</th>\n",
              "      <th>...</th>\n",
              "      <th>MFCC17 mean</th>\n",
              "      <th>MFCC17 sd2</th>\n",
              "      <th>MFCC18 mean</th>\n",
              "      <th>MFCC18 sd2</th>\n",
              "      <th>MFCC19 mean</th>\n",
              "      <th>MFCC19 sd2</th>\n",
              "      <th>MFCC20 mean</th>\n",
              "      <th>MFCC20 sd2</th>\n",
              "      <th>tempo</th>\n",
              "      <th>Classe</th>\n",
              "    </tr>\n",
              "  </thead>\n",
              "  <tbody>\n",
              "    <tr>\n",
              "      <th>0</th>\n",
              "      <td>0.394617</td>\n",
              "      <td>0.105338</td>\n",
              "      <td>0.443642</td>\n",
              "      <td>0.088150</td>\n",
              "      <td>0.481578</td>\n",
              "      <td>0.101544</td>\n",
              "      <td>0.346441</td>\n",
              "      <td>0.061531</td>\n",
              "      <td>0.370519</td>\n",
              "      <td>0.082360</td>\n",
              "      <td>...</td>\n",
              "      <td>5.050471</td>\n",
              "      <td>36.993397</td>\n",
              "      <td>-8.289567</td>\n",
              "      <td>33.612530</td>\n",
              "      <td>-2.478076</td>\n",
              "      <td>38.674591</td>\n",
              "      <td>-2.092990</td>\n",
              "      <td>34.718590</td>\n",
              "      <td>126.048018</td>\n",
              "      <td>blues</td>\n",
              "    </tr>\n",
              "    <tr>\n",
              "      <th>1</th>\n",
              "      <td>0.428290</td>\n",
              "      <td>0.113275</td>\n",
              "      <td>0.476215</td>\n",
              "      <td>0.106603</td>\n",
              "      <td>0.494223</td>\n",
              "      <td>0.107198</td>\n",
              "      <td>0.379621</td>\n",
              "      <td>0.076511</td>\n",
              "      <td>0.357802</td>\n",
              "      <td>0.066731</td>\n",
              "      <td>...</td>\n",
              "      <td>6.498300</td>\n",
              "      <td>29.181923</td>\n",
              "      <td>-3.217815</td>\n",
              "      <td>54.156834</td>\n",
              "      <td>3.200929</td>\n",
              "      <td>68.362213</td>\n",
              "      <td>0.460429</td>\n",
              "      <td>26.820696</td>\n",
              "      <td>123.046875</td>\n",
              "      <td>blues</td>\n",
              "    </tr>\n",
              "    <tr>\n",
              "      <th>2</th>\n",
              "      <td>0.357212</td>\n",
              "      <td>0.096538</td>\n",
              "      <td>0.378870</td>\n",
              "      <td>0.071623</td>\n",
              "      <td>0.492932</td>\n",
              "      <td>0.101273</td>\n",
              "      <td>0.352712</td>\n",
              "      <td>0.061301</td>\n",
              "      <td>0.321471</td>\n",
              "      <td>0.066488</td>\n",
              "      <td>...</td>\n",
              "      <td>4.673268</td>\n",
              "      <td>32.282803</td>\n",
              "      <td>-7.692242</td>\n",
              "      <td>36.558689</td>\n",
              "      <td>0.692331</td>\n",
              "      <td>38.365929</td>\n",
              "      <td>0.794478</td>\n",
              "      <td>35.058079</td>\n",
              "      <td>126.048018</td>\n",
              "      <td>blues</td>\n",
              "    </tr>\n",
              "    <tr>\n",
              "      <th>3</th>\n",
              "      <td>0.395143</td>\n",
              "      <td>0.086771</td>\n",
              "      <td>0.413099</td>\n",
              "      <td>0.078591</td>\n",
              "      <td>0.496900</td>\n",
              "      <td>0.105141</td>\n",
              "      <td>0.345685</td>\n",
              "      <td>0.054382</td>\n",
              "      <td>0.359460</td>\n",
              "      <td>0.067951</td>\n",
              "      <td>...</td>\n",
              "      <td>4.546683</td>\n",
              "      <td>32.767582</td>\n",
              "      <td>-5.488396</td>\n",
              "      <td>24.877171</td>\n",
              "      <td>1.453244</td>\n",
              "      <td>28.945955</td>\n",
              "      <td>-0.223831</td>\n",
              "      <td>27.314598</td>\n",
              "      <td>126.048018</td>\n",
              "      <td>blues</td>\n",
              "    </tr>\n",
              "    <tr>\n",
              "      <th>4</th>\n",
              "      <td>0.405898</td>\n",
              "      <td>0.121835</td>\n",
              "      <td>0.433755</td>\n",
              "      <td>0.109411</td>\n",
              "      <td>0.463097</td>\n",
              "      <td>0.106878</td>\n",
              "      <td>0.305630</td>\n",
              "      <td>0.067156</td>\n",
              "      <td>0.281570</td>\n",
              "      <td>0.061102</td>\n",
              "      <td>...</td>\n",
              "      <td>5.317678</td>\n",
              "      <td>26.526995</td>\n",
              "      <td>-4.582438</td>\n",
              "      <td>36.219418</td>\n",
              "      <td>2.514524</td>\n",
              "      <td>36.389427</td>\n",
              "      <td>-0.436270</td>\n",
              "      <td>27.635517</td>\n",
              "      <td>123.046875</td>\n",
              "      <td>blues</td>\n",
              "    </tr>\n",
              "  </tbody>\n",
              "</table>\n",
              "<p>5 rows × 78 columns</p>\n",
              "</div>"
            ]
          },
          "metadata": {},
          "execution_count": 7
        }
      ]
    },
    {
      "cell_type": "code",
      "source": [
        "# Extrai as features para os frame lenghts desejados\n",
        "frame_lenghts = [2048]\n",
        "\n",
        "dflist = []\n",
        "for f in frame_lenghts:\n",
        "  dflist.append(featureExtraction(songs, sr=44100, frame=f))"
      ],
      "metadata": {
        "id": "JDWBnRzsw_JX"
      },
      "id": "JDWBnRzsw_JX",
      "execution_count": null,
      "outputs": []
    },
    {
      "cell_type": "code",
      "source": [
        "csvnames = ['C:/Users/andry/OneDrive/Documentos/GitHub/MGR-IC/ft2/5s/2048.csv']\n",
        "\n",
        "for i in range(len(dflist)):\n",
        "  dflist[i].to_csv(csvnames[i], sep=',', index=False, encoding='utf-8')"
      ],
      "metadata": {
        "id": "YmR8TItBCuo7"
      },
      "id": "YmR8TItBCuo7",
      "execution_count": null,
      "outputs": []
    },
    {
      "cell_type": "code",
      "source": [
        "song = songs[1]\n",
        "chroma = librosa.feature.chroma_stft(y=song[0], sr=song[1], n_chroma=7)\n",
        "media_linhas = np.mean(chroma, axis=1)\n",
        "sd2 = np.std(chroma, axis=1)**2"
      ],
      "metadata": {
        "id": "2qmgn45_HyEs"
      },
      "id": "2qmgn45_HyEs",
      "execution_count": null,
      "outputs": []
    },
    {
      "cell_type": "markdown",
      "source": [
        "testes\n"
      ],
      "metadata": {
        "id": "0VdKs7Htb9dv"
      },
      "id": "0VdKs7Htb9dv"
    },
    {
      "cell_type": "code",
      "source": [
        "y = songs[0]"
      ],
      "metadata": {
        "id": "i_lr46mGcByj"
      },
      "id": "i_lr46mGcByj",
      "execution_count": null,
      "outputs": []
    },
    {
      "cell_type": "code",
      "source": [
        "mfcc = librosa.feature.mfcc(y=y[0], sr=y[1], n_mfcc=1)\n",
        "mfcc_mean = np.mean(mfcc, axis=1)\n",
        "mfcc_sd2 = np.std(mfcc, axis=1)**2"
      ],
      "metadata": {
        "id": "mYBLRFpgb9Au"
      },
      "id": "mYBLRFpgb9Au",
      "execution_count": null,
      "outputs": []
    },
    {
      "cell_type": "code",
      "source": [
        "print(mfcc[0])\n",
        "print(mfcc_mean)\n",
        "print(mfcc_sd2)"
      ],
      "metadata": {
        "id": "RpEkMJXZcNL7",
        "outputId": "e48a1090-ff36-4f26-ef20-3242242e2de4",
        "colab": {
          "base_uri": "https://localhost:8080/"
        }
      },
      "id": "RpEkMJXZcNL7",
      "execution_count": null,
      "outputs": [
        {
          "output_type": "stream",
          "name": "stdout",
          "text": [
            "[-295.968    -267.769    -272.59293  -274.07364  -254.844    -248.00186\n",
            " -257.27258  -236.8465   -209.52164  -195.36836  -193.91954  -201.15587\n",
            " -208.49152  -217.48143  -220.31299  -229.15175  -237.50916  -235.11224\n",
            " -204.97357  -165.62881  -134.8848   -135.20251  -140.4343   -147.03319\n",
            " -156.01283  -162.22961  -170.40063  -174.96335  -178.44388  -182.18405\n",
            " -184.1194   -186.4304   -195.13515  -206.31529  -218.41792  -229.37566\n",
            " -243.00058  -258.2851   -269.83215  -276.14615  -280.82596  -281.2742\n",
            " -285.29468  -292.38565  -292.42172  -279.51764  -269.06232  -233.37662\n",
            " -194.95859  -175.44894  -169.63867  -175.29509  -184.95369  -192.6736\n",
            " -208.46025  -222.73727  -232.04514  -234.34319  -229.12773  -167.16847\n",
            " -108.883286  -93.86536   -94.41638   -92.21026   -91.127594  -98.62343\n",
            " -112.41419  -123.3189   -133.372    -138.81578  -138.49747  -147.90909\n",
            " -157.73442  -160.91415  -162.80179  -166.48657  -175.16296  -180.97989\n",
            " -192.89488  -208.74475  -219.05556  -226.60493  -239.32886  -245.07\n",
            " -243.93655  -214.07994  -195.05159  -179.6546   -173.2991   -162.22021\n",
            " -150.50642  -135.54515  -124.63674  -122.14158  -126.781075 -134.14581\n",
            " -131.49884  -135.03685  -141.10608  -144.80156  -145.14476  -133.91103\n",
            " -131.67754  -140.33817  -149.01518  -157.40887  -168.51558  -190.20007\n",
            " -209.819    -204.2377   -191.72977  -180.24013  -174.26031  -175.09514\n",
            " -178.49644  -184.04752  -187.93443  -191.71204  -195.83334  -214.67572\n",
            " -229.68674  -236.99734  -235.31137  -233.49693  -231.34035  -229.73586\n",
            " -231.70396  -234.88333  -239.27904  -240.91388  -239.28471  -222.04073\n",
            " -208.48383  -203.81465  -207.74658  -220.36746  -233.35896  -239.7024\n",
            " -241.24443  -246.52533  -246.6875   -218.04956  -158.96881  -119.36619\n",
            " -115.64214  -123.350914 -125.01485  -123.06673  -128.7361   -139.03157\n",
            " -154.80331  -162.35088  -168.50551  -177.31381  -184.31378  -187.69753\n",
            " -192.4581   -191.53479  -194.05269  -196.18336  -204.33281  -206.95299\n",
            " -208.2391   -211.58055  -217.80768  -218.52827  -215.36183  -211.92734\n",
            " -209.72166  -202.37047  -200.20293  -209.92857  -204.92686  -190.17757\n",
            " -184.30565  -188.10513  -194.46623  -200.25873  -200.96439  -207.05885\n",
            " -206.45563  -198.57343  -195.07489  -193.00536  -190.18759  -175.80295\n",
            " -157.98964  -154.56966  -167.34772  -180.36646  -191.72052  -203.05496\n",
            " -199.77621  -195.99706  -199.43605  -201.22455  -206.61954  -211.59262\n",
            " -212.47276  -216.47899  -222.3948   -220.9403   -218.13863  -219.32152\n",
            " -220.03188  -222.34357  -223.89268  -222.89278  -230.2775   -241.77069\n",
            " -250.92151  -257.61835  -248.50226  -228.24246  -203.0382   -200.7908\n",
            " -208.03734  -221.50189  -236.36006  -243.25858  -245.76997  -249.88783\n",
            " -252.45692  -209.73193  -147.707    -129.01205  -121.03418  -109.97495\n",
            " -104.20932  -112.119644 -117.962494 -132.31396  -134.02711  -143.46776\n",
            " -154.01247  -160.13461  -160.75058  -165.10796  -167.11021  -168.78793\n",
            " -173.90735  -182.22684  -182.73906  -182.97212  -184.42282  -183.17297\n",
            " -193.49994  -211.36356  -221.88905  -229.73007  -239.78835  -214.49603\n",
            " -199.80838  -202.90887  -200.36452  -194.33849  -184.66505  -182.79723\n",
            " -191.06042  -204.15921  -217.45613  -220.01414  -224.60495  -231.03363\n",
            " -235.4641   -219.05316  -192.95102  -182.91685  -163.56586  -148.3753\n",
            " -144.534    -143.83333  -155.95673  -170.48752  -168.02196  -171.34375\n",
            " -173.70367  -183.44084  -189.62114  -196.2618   -200.93782  -202.14748\n",
            " -201.79803  -203.69038  -206.98926  -201.7784   -195.71603  -201.08498\n",
            " -229.80406  -254.34843  -261.35925  -260.83966  -245.7975   -232.69868\n",
            " -228.18112  -227.03116  -227.42908  -212.48468  -195.92874  -193.77243\n",
            " -204.41234  -215.3413   -223.53879  -233.92032  -235.17216  -205.0538\n",
            " -164.89787  -155.63435  -128.9957    -99.7451    -98.60293  -107.18\n",
            " -118.59105  -125.67415  -137.15866  -143.1169   -153.79642  -162.39978\n",
            " -167.6983   -173.154    -184.30084  -193.04497  -202.79004  -206.92935\n",
            " -209.33063  -216.2691   -219.83742  -223.35248  -225.72551  -222.53061\n",
            " -225.60056  -228.849    -232.74023  -235.62085  -234.71443  -226.39401\n",
            " -227.00696  -220.64409  -215.25165  -202.39163  -189.11386  -185.19318\n",
            " -180.58842  -189.197    -198.66106  -204.45132  -209.1817   -210.17773\n",
            " -206.92389  -188.08308  -173.89066  -163.35802  -155.57042  -152.97115\n",
            " -157.64375  -167.68059  -174.75635  -186.38963  -187.8273   -193.29996\n",
            " -204.01254  -208.75978  -217.41017  -221.12286  -220.71161  -216.25148\n",
            " -221.69879  -228.47615  -229.35641  -232.80952  -231.76248  -233.45383\n",
            " -230.9586   -233.35889  -240.02205  -245.93488  -243.52284  -219.52255\n",
            " -195.43225  -178.40913  -164.2829   -164.78375  -168.08948  -180.67642\n",
            " -198.7491   -196.53418  -190.31772  -205.56229  -220.16968  -219.9275\n",
            " -193.28822  -128.26387   -95.17923   -99.67289  -102.140785 -107.7898\n",
            " -114.88157  -119.37028  -131.58936  -149.48958  -162.59811  -166.70607\n",
            " -168.11961  -174.89148  -179.00443  -184.36862  -201.36095  -207.20338\n",
            " -212.68724  -222.15857  -232.03296  -233.1345   -231.89124  -239.63928\n",
            " -248.45235  -254.98592  -260.3119   -262.32144  -253.86641  -236.80334\n",
            " -209.68579  -188.22884  -171.49673  -168.64717  -172.73439  -186.26929\n",
            " -197.80373  -197.67236  -194.94615  -198.25116  -174.11574 ]\n",
            "[-194.2992]\n",
            "[1662.098]\n"
          ]
        }
      ]
    },
    {
      "cell_type": "code",
      "source": [
        "from scipy.fft import fft\n",
        "fft1 = np.abs(librosa.stft(y[0], hop_length=len(y[0])+1, n_fft=len(y[0])))"
      ],
      "metadata": {
        "id": "5M5RdKh6nItn"
      },
      "id": "5M5RdKh6nItn",
      "execution_count": null,
      "outputs": []
    },
    {
      "cell_type": "code",
      "source": [
        "fft1.shape"
      ],
      "metadata": {
        "id": "02wkBCkTndu-",
        "outputId": "93937711-f53c-46e2-d153-bae2c1640eb6",
        "colab": {
          "base_uri": "https://localhost:8080/"
        }
      },
      "id": "02wkBCkTndu-",
      "execution_count": null,
      "outputs": [
        {
          "output_type": "execute_result",
          "data": {
            "text/plain": [
              "(110251, 1)"
            ]
          },
          "metadata": {},
          "execution_count": 75
        }
      ]
    },
    {
      "cell_type": "code",
      "source": [
        "chromas = librosa.feature.chroma_stft(S = fft1, sr=y[1], n_chroma=12)\n"
      ],
      "metadata": {
        "id": "c4AIpj8CdDP1"
      },
      "id": "c4AIpj8CdDP1",
      "execution_count": null,
      "outputs": []
    },
    {
      "cell_type": "code",
      "source": [
        "chromas"
      ],
      "metadata": {
        "id": "MRIo7IodnRUA",
        "outputId": "72e1f530-49ec-44d6-8332-06bf8d342cfd",
        "colab": {
          "base_uri": "https://localhost:8080/"
        }
      },
      "id": "MRIo7IodnRUA",
      "execution_count": null,
      "outputs": [
        {
          "output_type": "execute_result",
          "data": {
            "text/plain": [
              "array([[0.77770185],\n",
              "       [0.6270082 ],\n",
              "       [1.        ],\n",
              "       [0.62530345],\n",
              "       [0.5400539 ],\n",
              "       [0.5885072 ],\n",
              "       [0.59842217],\n",
              "       [0.7263661 ],\n",
              "       [0.5338205 ],\n",
              "       [0.76299137],\n",
              "       [0.81919956],\n",
              "       [0.8668951 ]], dtype=float32)"
            ]
          },
          "metadata": {},
          "execution_count": 78
        }
      ]
    }
  ],
  "metadata": {
    "kernelspec": {
      "display_name": "Python 3 (ipykernel)",
      "language": "python",
      "name": "python3"
    },
    "language_info": {
      "codemirror_mode": {
        "name": "ipython",
        "version": 3
      },
      "file_extension": ".py",
      "mimetype": "text/x-python",
      "name": "python",
      "nbconvert_exporter": "python",
      "pygments_lexer": "ipython3",
      "version": "3.9.13"
    },
    "colab": {
      "provenance": [],
      "include_colab_link": true
    }
  },
  "nbformat": 4,
  "nbformat_minor": 5
}