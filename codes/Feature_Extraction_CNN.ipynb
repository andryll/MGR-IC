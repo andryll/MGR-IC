{
  "cells": [
    {
      "cell_type": "markdown",
      "metadata": {
        "id": "view-in-github",
        "colab_type": "text"
      },
      "source": [
        "<a href=\"https://colab.research.google.com/github/andryll/MGR-IC/blob/main/codes/Feature_Extraction_CNN.ipynb\" target=\"_parent\"><img src=\"https://colab.research.google.com/assets/colab-badge.svg\" alt=\"Open In Colab\"/></a>"
      ]
    },
    {
      "cell_type": "code",
      "source": [
        "pip uninstall h5py\n"
      ],
      "metadata": {
        "colab": {
          "base_uri": "https://localhost:8080/"
        },
        "id": "LL1S_fEj6GM8",
        "outputId": "fed0996a-bb68-4545-946e-9df8edf7ab53"
      },
      "id": "LL1S_fEj6GM8",
      "execution_count": null,
      "outputs": [
        {
          "output_type": "stream",
          "name": "stdout",
          "text": [
            "^C\n",
            "Note: you may need to restart the kernel to use updated packages.\n"
          ]
        }
      ]
    },
    {
      "cell_type": "markdown",
      "metadata": {
        "id": "view-in-github"
      },
      "source": [
        "<a href=\"https://colab.research.google.com/github/andryll/MGR-IC/blob/main/codes/Feature_Extraction_v2.ipynb\" target=\"_parent\"><img src=\"https://colab.research.google.com/assets/colab-badge.svg\" alt=\"Open In Colab\"/></a>"
      ],
      "id": "view-in-github"
    },
    {
      "cell_type": "code",
      "execution_count": null,
      "id": "6d4d6e9c",
      "metadata": {
        "id": "6d4d6e9c"
      },
      "outputs": [],
      "source": [
        "# Importando as Bibliotecas\n",
        "\n",
        "import numpy as np\n",
        "import librosa\n",
        "#import IPython.display as ipd\n",
        "import os\n",
        "import pandas as pd\n",
        "\n",
        "import librosa.display\n",
        "import matplotlib.pyplot as plt\n",
        "import io\n",
        "from PIL import Image\n",
        "from keras.utils import to_categorical\n",
        "import random\n"
      ]
    },
    {
      "cell_type": "code",
      "execution_count": null,
      "id": "a903890e",
      "metadata": {
        "id": "a903890e"
      },
      "outputs": [],
      "source": [
        "def splitSongs (songList, duration, sr=44100):\n",
        "\n",
        "  # Converta o tamanho da janela de segundos para amostras\n",
        "  window_size_samples = int(duration * sr)\n",
        "\n",
        "  # Inicialize uma lista para armazenar os segmentos\n",
        "  segmentedList = []\n",
        "\n",
        "  # Pega cada música da lista\n",
        "  for y in songList:\n",
        "\n",
        "    # Calcule o número total de segmentos\n",
        "    num_segments = len(y[0]) // window_size_samples\n",
        "\n",
        "    # Divida o áudio em segmentos de 5 segundos e adcione-os na lista\n",
        "    for i in range(num_segments):\n",
        "        start = i * window_size_samples\n",
        "        end = (i + 1) * window_size_samples\n",
        "        segment = (y[0][start:end], y[1], y[2])\n",
        "        segmentedList.append(segment)\n",
        "\n",
        "  # Retorna a nova lista\n",
        "  return segmentedList"
      ]
    },
    {
      "cell_type": "code",
      "execution_count": null,
      "id": "0cf562c6",
      "metadata": {
        "id": "0cf562c6"
      },
      "outputs": [],
      "source": [
        "def readSongs (genre, numSongs, sr=44100, duration = 30):\n",
        "\n",
        "  # Declarando listas iniciais\n",
        "  songs = []\n",
        "  genrelist = ['blues', 'classical', 'country', 'disco', 'hiphop', 'jazz',\n",
        "                'metal', 'pop', 'reggae', 'rock']\n",
        "\n",
        "  # Se a escolha de gênero não for 'all', substitui a lista pelo gênero escolhido\n",
        "  if genre != 'all':\n",
        "    genrelist = [genre]\n",
        "\n",
        "  #Percorre todos os gêneros da lista\n",
        "  for g in genrelist:\n",
        "    #Pega o caminho para a pasta do gênero escolhido\n",
        "    dir_path = os.path.join('C:/Users/andry/OneDrive/Documentos/GitHub/MGR-IC/songs', g)\n",
        "    #Lista os arquivos da pasta e os embaralha\n",
        "    files = os.listdir(dir_path)\n",
        "    files.sort\n",
        "\n",
        "    # Até o número de musicas desejado ser alcançado, lê os arquivos de áudio com o librosa\n",
        "    for i in range(numSongs):\n",
        "      songs.append(librosa.load(os.path.join(dir_path, files[i]), sr=sr, mono = True, duration = 30))\n",
        "      # Adciona o gênero como uma variável da tupla\n",
        "      songs[-1] = songs[-1] + (g,)\n",
        "\n",
        "  max_len = max(len(song[0]) for song in songs)\n",
        "\n",
        "  # Garante que todas as músicas terão o mesmo tamanho da maior\n",
        "  resized_songs = []\n",
        "  for song in songs:\n",
        "      # Verifica se a música precisa ser redimensionada\n",
        "      if len(song[0]) < max_len:\n",
        "          # Adiciona zeros à direita para igualar o tamanho\n",
        "          padded_audio = librosa.util.pad_center(data = song[0], size = max_len, axis = 0)\n",
        "          resized_songs.append((padded_audio, song[1], song[2]))\n",
        "      else:\n",
        "          resized_songs.append(song)\n",
        "\n",
        "  new_songs = splitSongs (resized_songs, sr=sr, duration = duration)\n",
        "\n",
        "  return new_songs"
      ]
    },
    {
      "cell_type": "markdown",
      "id": "9df06bf4",
      "metadata": {
        "id": "9df06bf4"
      },
      "source": [
        "### Extração das Features\n"
      ]
    },
    {
      "cell_type": "code",
      "execution_count": null,
      "id": "8a7a92da",
      "metadata": {
        "id": "8a7a92da"
      },
      "outputs": [],
      "source": [
        "def featureExtraction (songs, sr=44100):\n",
        "\n",
        "  colunas = ['spectogram', 'Classe']\n",
        "\n",
        "  df = pd.DataFrame(columns=colunas)\n",
        "\n",
        "  for y in songs:\n",
        "\n",
        "    S = librosa.feature.melspectrogram(y=y[0], sr=y[1])\n",
        "    S_dB = librosa.power_to_db(S, ref=np.max)\n",
        "\n",
        "    # Criar uma figura do matplotlib para o espectrograma\n",
        "    dpi=100\n",
        "    size = 254\n",
        "    figsize = (size/dpi, size/dpi)\n",
        "    plt.figure(figsize=figsize, dpi=dpi)\n",
        "    librosa.display.specshow(S_dB, sr=y[1])\n",
        "    plt.tight_layout()\n",
        "\n",
        "    # Salvar o espectrograma em um buffer de memória\n",
        "    buf = io.BytesIO()\n",
        "    plt.savefig(buf, format='png', bbox_inches='tight', pad_inches=0)\n",
        "    plt.close()\n",
        "    buf.seek(0)\n",
        "\n",
        "    img = Image.open(buf).convert(\"RGB\")\n",
        "    img_array = np.array(img)/255\n",
        "\n",
        "    #Adcionando ao DF\n",
        "\n",
        "    df.loc[len(df)] = [img_array, y[2]]\n",
        "\n",
        "  return df"
      ]
    },
    {
      "cell_type": "markdown",
      "source": [
        "### Execução"
      ],
      "metadata": {
        "id": "k4EC0HNHwlPL"
      },
      "id": "k4EC0HNHwlPL"
    },
    {
      "cell_type": "code",
      "source": [
        "# Lê as músicas\n",
        "songs = readSongs ('all', 10, 44100, 5)\n"
      ],
      "metadata": {
        "id": "rVucptFxwk_N"
      },
      "id": "rVucptFxwk_N",
      "execution_count": null,
      "outputs": []
    },
    {
      "cell_type": "code",
      "source": [
        "len(songs)"
      ],
      "metadata": {
        "colab": {
          "base_uri": "https://localhost:8080/"
        },
        "id": "51VQD_GVOq9X",
        "outputId": "68c59dd7-9ea5-4fd2-b717-c2da0bfb91e0"
      },
      "id": "51VQD_GVOq9X",
      "execution_count": null,
      "outputs": [
        {
          "output_type": "execute_result",
          "data": {
            "text/plain": [
              "600"
            ]
          },
          "metadata": {},
          "execution_count": 20
        }
      ]
    },
    {
      "cell_type": "code",
      "source": [
        "songs[0][0]\n",
        "\n",
        "y= songs[0]\n",
        "\n",
        "S = librosa.feature.melspectrogram(y=y[0], sr=y[1])\n",
        "S_dB = librosa.power_to_db(S, ref=np.max)\n",
        "\n",
        "# Criar uma figura do matplotlib para o espectrograma\n",
        "dpi=100\n",
        "size = 254\n",
        "figsize = (size/dpi, size/dpi)\n",
        "plt.figure(figsize=figsize, dpi=dpi)\n",
        "librosa.display.specshow(S_dB, sr=y[1])\n",
        "plt.tight_layout()\n",
        "\n",
        "# Salvar o espectrograma em um buffer de memória\n",
        "buf = io.BytesIO()\n",
        "plt.savefig(buf, format='png', bbox_inches='tight', pad_inches=0)\n",
        "plt.close()\n",
        "buf.seek(0)\n",
        "\n",
        "img = Image.open(buf).convert(\"RGB\")\n",
        "img_array = np.array(img)/255"
      ],
      "metadata": {
        "id": "4oszHQbB1BYr"
      },
      "id": "4oszHQbB1BYr",
      "execution_count": null,
      "outputs": []
    },
    {
      "cell_type": "code",
      "source": [
        "df = featureExtraction (songs, sr=44100)"
      ],
      "metadata": {
        "id": "t0UEMiKpbmOk"
      },
      "id": "t0UEMiKpbmOk",
      "execution_count": null,
      "outputs": []
    },
    {
      "cell_type": "code",
      "source": [
        "df['Classe'] = pd.factorize(df['Classe'])\n",
        "display(df)"
      ],
      "metadata": {
        "id": "LNpNehpgd5l1",
        "outputId": "1c97a58b-9396-4642-d066-aa91d6322665",
        "colab": {
          "base_uri": "https://localhost:8080/",
          "height": 423
        }
      },
      "id": "LNpNehpgd5l1",
      "execution_count": null,
      "outputs": [
        {
          "output_type": "display_data",
          "data": {
            "text/plain": [
              "                                            spectogram  Classe\n",
              "0    [[[0.0, 0.0, 0.0], [0.0, 0.0, 0.0], [0.0, 0.0,...       0\n",
              "1    [[[0.0, 0.0, 0.0], [0.0, 0.0, 0.0], [0.0, 0.0,...       0\n",
              "2    [[[0.0, 0.0, 0.0], [0.0, 0.0, 0.0], [0.0, 0.0,...       0\n",
              "3    [[[0.0, 0.0, 0.0], [0.0, 0.0, 0.0], [0.0, 0.0,...       0\n",
              "4    [[[0.0, 0.0, 0.0], [0.0, 0.0, 0.0], [0.0, 0.0,...       0\n",
              "..                                                 ...     ...\n",
              "595  [[[0.0, 0.0, 0.0], [0.0, 0.0, 0.0], [0.0, 0.0,...       9\n",
              "596  [[[0.0, 0.0, 0.0], [0.0, 0.0, 0.0], [0.0, 0.0,...       9\n",
              "597  [[[0.0, 0.0, 0.0], [0.0, 0.0, 0.0], [0.0, 0.0,...       9\n",
              "598  [[[0.0, 0.0, 0.0], [0.0, 0.0, 0.0], [0.0, 0.0,...       9\n",
              "599  [[[0.0, 0.0, 0.0], [0.0, 0.0, 0.0], [0.0, 0.0,...       9\n",
              "\n",
              "[600 rows x 2 columns]"
            ],
            "text/html": [
              "<div>\n",
              "<style scoped>\n",
              "    .dataframe tbody tr th:only-of-type {\n",
              "        vertical-align: middle;\n",
              "    }\n",
              "\n",
              "    .dataframe tbody tr th {\n",
              "        vertical-align: top;\n",
              "    }\n",
              "\n",
              "    .dataframe thead th {\n",
              "        text-align: right;\n",
              "    }\n",
              "</style>\n",
              "<table border=\"1\" class=\"dataframe\">\n",
              "  <thead>\n",
              "    <tr style=\"text-align: right;\">\n",
              "      <th></th>\n",
              "      <th>spectogram</th>\n",
              "      <th>Classe</th>\n",
              "    </tr>\n",
              "  </thead>\n",
              "  <tbody>\n",
              "    <tr>\n",
              "      <th>0</th>\n",
              "      <td>[[[0.0, 0.0, 0.0], [0.0, 0.0, 0.0], [0.0, 0.0,...</td>\n",
              "      <td>0</td>\n",
              "    </tr>\n",
              "    <tr>\n",
              "      <th>1</th>\n",
              "      <td>[[[0.0, 0.0, 0.0], [0.0, 0.0, 0.0], [0.0, 0.0,...</td>\n",
              "      <td>0</td>\n",
              "    </tr>\n",
              "    <tr>\n",
              "      <th>2</th>\n",
              "      <td>[[[0.0, 0.0, 0.0], [0.0, 0.0, 0.0], [0.0, 0.0,...</td>\n",
              "      <td>0</td>\n",
              "    </tr>\n",
              "    <tr>\n",
              "      <th>3</th>\n",
              "      <td>[[[0.0, 0.0, 0.0], [0.0, 0.0, 0.0], [0.0, 0.0,...</td>\n",
              "      <td>0</td>\n",
              "    </tr>\n",
              "    <tr>\n",
              "      <th>4</th>\n",
              "      <td>[[[0.0, 0.0, 0.0], [0.0, 0.0, 0.0], [0.0, 0.0,...</td>\n",
              "      <td>0</td>\n",
              "    </tr>\n",
              "    <tr>\n",
              "      <th>...</th>\n",
              "      <td>...</td>\n",
              "      <td>...</td>\n",
              "    </tr>\n",
              "    <tr>\n",
              "      <th>595</th>\n",
              "      <td>[[[0.0, 0.0, 0.0], [0.0, 0.0, 0.0], [0.0, 0.0,...</td>\n",
              "      <td>9</td>\n",
              "    </tr>\n",
              "    <tr>\n",
              "      <th>596</th>\n",
              "      <td>[[[0.0, 0.0, 0.0], [0.0, 0.0, 0.0], [0.0, 0.0,...</td>\n",
              "      <td>9</td>\n",
              "    </tr>\n",
              "    <tr>\n",
              "      <th>597</th>\n",
              "      <td>[[[0.0, 0.0, 0.0], [0.0, 0.0, 0.0], [0.0, 0.0,...</td>\n",
              "      <td>9</td>\n",
              "    </tr>\n",
              "    <tr>\n",
              "      <th>598</th>\n",
              "      <td>[[[0.0, 0.0, 0.0], [0.0, 0.0, 0.0], [0.0, 0.0,...</td>\n",
              "      <td>9</td>\n",
              "    </tr>\n",
              "    <tr>\n",
              "      <th>599</th>\n",
              "      <td>[[[0.0, 0.0, 0.0], [0.0, 0.0, 0.0], [0.0, 0.0,...</td>\n",
              "      <td>9</td>\n",
              "    </tr>\n",
              "  </tbody>\n",
              "</table>\n",
              "<p>600 rows × 2 columns</p>\n",
              "</div>"
            ]
          },
          "metadata": {}
        }
      ]
    },
    {
      "cell_type": "code",
      "source": [
        "csvnames = ['C:/Users/andry/OneDrive/Documentos/GitHub/MGR-IC/ft2/5s/spec.csv']\n",
        "\n",
        "df.to_csv(csvnames[0], sep=',', index=False, encoding='utf-8')"
      ],
      "metadata": {
        "id": "YmR8TItBCuo7"
      },
      "id": "YmR8TItBCuo7",
      "execution_count": null,
      "outputs": []
    }
  ],
  "metadata": {
    "kernelspec": {
      "display_name": "Python 3 (ipykernel)",
      "language": "python",
      "name": "python3"
    },
    "language_info": {
      "codemirror_mode": {
        "name": "ipython",
        "version": 3
      },
      "file_extension": ".py",
      "mimetype": "text/x-python",
      "name": "python",
      "nbconvert_exporter": "python",
      "pygments_lexer": "ipython3",
      "version": "3.9.13"
    },
    "colab": {
      "provenance": [],
      "include_colab_link": true
    }
  },
  "nbformat": 4,
  "nbformat_minor": 5
}