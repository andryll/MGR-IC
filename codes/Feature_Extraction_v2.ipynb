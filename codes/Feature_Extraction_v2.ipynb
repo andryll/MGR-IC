{
  "cells": [
    {
      "cell_type": "markdown",
      "metadata": {
        "id": "view-in-github",
        "colab_type": "text"
      },
      "source": [
        "<a href=\"https://colab.research.google.com/github/andryll/MGR-IC/blob/main/codes/Feature_Extraction_v2.ipynb\" target=\"_parent\"><img src=\"https://colab.research.google.com/assets/colab-badge.svg\" alt=\"Open In Colab\"/></a>"
      ]
    },
    {
      "cell_type": "code",
      "execution_count": 1,
      "id": "6d4d6e9c",
      "metadata": {
        "id": "6d4d6e9c"
      },
      "outputs": [],
      "source": [
        "# Importando as Bibliotecas\n",
        "\n",
        "import numpy as np\n",
        "import librosa\n",
        "#import IPython.display as ipd\n",
        "import os\n",
        "import pandas as pd\n",
        "from sklearn import preprocessing\n",
        "from sklearn.decomposition import PCA"
      ]
    },
    {
      "cell_type": "code",
      "execution_count": 2,
      "id": "a903890e",
      "metadata": {
        "id": "a903890e"
      },
      "outputs": [],
      "source": [
        "def splitSongs (songList, duration, sr=44100):\n",
        "\n",
        "  # Converta o tamanho da janela de segundos para amostras\n",
        "  window_size_samples = int(duration * sr)\n",
        "\n",
        "  # Inicialize uma lista para armazenar os segmentos\n",
        "  segmentedList = []\n",
        "\n",
        "  # Pega cada música da lista\n",
        "  for y in songList:\n",
        "\n",
        "    # Calcule o número total de segmentos\n",
        "    num_segments = len(y[0]) // window_size_samples\n",
        "\n",
        "    # Divida o áudio em segmentos de 5 segundos e adcione-os na lista\n",
        "    for i in range(num_segments):\n",
        "        start = i * window_size_samples\n",
        "        end = (i + 1) * window_size_samples\n",
        "        segment = (y[0][start:end], y[1], y[2])\n",
        "        segmentedList.append(segment)\n",
        "\n",
        "  # Retorna a nova lista\n",
        "  return segmentedList"
      ]
    },
    {
      "cell_type": "code",
      "execution_count": 5,
      "id": "0cf562c6",
      "metadata": {
        "id": "0cf562c6"
      },
      "outputs": [],
      "source": [
        "def readSongs (genre, numSongs, sr=44100, duration = 30):\n",
        "\n",
        "  # Declarando listas iniciais\n",
        "  songs = []\n",
        "  genrelist = ['blues', 'classical', 'country', 'disco', 'hiphop', 'jazz',\n",
        "                'metal', 'pop', 'reggae', 'rock']\n",
        "\n",
        "  # Se a escolha de gênero não for 'all', substitui a lista pelo gênero escolhido\n",
        "  if genre != 'all':\n",
        "    genrelist = [genre]\n",
        "\n",
        "  #Percorre todos os gêneros da lista\n",
        "  for g in genrelist:\n",
        "    #Pega o caminho para a pasta do gênero escolhido\n",
        "    dir_path = os.path.join('F:/Documentos/UTFPR/IC/songs', g)\n",
        "    #Lista os arquivos da pasta e os embaralha\n",
        "    files = os.listdir(dir_path)\n",
        "    files.sort\n",
        "\n",
        "    # Até o número de musicas desejado ser alcançado, lê os arquivos de áudio com o librosa\n",
        "    for i in range(numSongs):\n",
        "      songs.append(librosa.load(os.path.join(dir_path, files[i]), sr=sr, mono = True, duration = 30))\n",
        "      # Adciona o gênero como uma variável da tupla\n",
        "      songs[-1] = songs[-1] + (g,)\n",
        "\n",
        "  max_len = max(len(song[0]) for song in songs)\n",
        "\n",
        "  # Garante que todas as músicas terão o mesmo tamanho da maior\n",
        "  resized_songs = []\n",
        "  for song in songs:\n",
        "      # Verifica se a música precisa ser redimensionada\n",
        "      if len(song[0]) < max_len:\n",
        "          # Adiciona zeros à direita para igualar o tamanho\n",
        "          padded_audio = librosa.util.pad_center(data = song[0], size = max_len, axis = 0)\n",
        "          resized_songs.append((padded_audio, song[1], song[2]))\n",
        "      else:\n",
        "          resized_songs.append(song)\n",
        "\n",
        "  new_songs = splitSongs (resized_songs, sr=sr, duration = duration)\n",
        "\n",
        "  return new_songs"
      ]
    },
    {
      "cell_type": "markdown",
      "id": "9df06bf4",
      "metadata": {
        "id": "9df06bf4"
      },
      "source": [
        "### Extração das Features\n"
      ]
    },
    {
      "cell_type": "code",
      "execution_count": null,
      "id": "8a7a92da",
      "metadata": {
        "id": "8a7a92da"
      },
      "outputs": [],
      "source": [
        "def featureExtraction (songs, feature, sr=44100, frame=512):\n",
        "  #Chroma\n",
        "  chroma = librosa.feature.chroma_stft(y=y, sr=sr)\n",
        "  #RMS\n",
        "  rms = librosa.feature.rms(y=y, frame_length=frame, hop_length=frame/2)\n",
        "  #Spectral Centroid\n",
        "  centroid = librosa.feature.spectral_centroid(y=y, sr=sr, hop_length=frame/2, n_fft=frame, )\n",
        "  #Spectral Rolloff\n",
        "  roll99 = librosa.feature.spectral_rolloff(y=y, sr=sr, n_fft=frame, hop_length=frame/2, roll_percent=0.99)\n",
        "  roll01 = librosa.feature.spectral_rolloff(y=y, sr=sr, n_fft=frame, hop_length=frame/2, roll_percent=0.01)\n",
        "  #ZCR\n",
        "  zcr = librosa.feature.zero_crossing_rate(y=y, frame_length=frame, hop_length=frame/2)\n",
        "  #MFCC\n",
        "  mfcc = librosa.feature.mfcc(y=y, sr=sr, n_mfcc=20)\n",
        "  #Harmony\n",
        "\n",
        "  #tempo\n",
        "  tempo = librosa.feature.tempo(y=y, sr=sr, hop_length=frame/2)\n",
        "\n",
        "  return df"
      ]
    },
    {
      "cell_type": "markdown",
      "source": [
        "### Execução"
      ],
      "metadata": {
        "id": "k4EC0HNHwlPL"
      },
      "id": "k4EC0HNHwlPL"
    },
    {
      "cell_type": "code",
      "source": [
        "# Lê as músicas\n",
        "songs = readSongs ('all', 1, 44100, 30)\n"
      ],
      "metadata": {
        "id": "rVucptFxwk_N"
      },
      "id": "rVucptFxwk_N",
      "execution_count": 6,
      "outputs": []
    },
    {
      "cell_type": "code",
      "source": [
        "# Extrai as features para os frame lenghts desejados\n",
        "frame_lenghts = [256, 512, 1024, 2048, 4096, 8192]\n",
        "\n",
        "dflist = []\n",
        "for f in frame_lenghts:\n",
        "  dflist.append(featureExtraction(songs, 'all', 44100, frame=f))"
      ],
      "metadata": {
        "id": "JDWBnRzsw_JX"
      },
      "id": "JDWBnRzsw_JX",
      "execution_count": null,
      "outputs": []
    },
    {
      "cell_type": "code",
      "source": [
        "csvnames = ['512.csv','1024.csv','2048.csv','4096.csv','8192.csv']\n",
        "\n",
        "for i in range(len(dflist)):\n",
        "  dflist[i].to_csv(csvnames[i], sep=',', index=False, encoding='utf-8')"
      ],
      "metadata": {
        "id": "YmR8TItBCuo7"
      },
      "id": "YmR8TItBCuo7",
      "execution_count": null,
      "outputs": []
    },
    {
      "cell_type": "code",
      "source": [
        "song\n",
        "chroma = librosa.feature.chroma_stft(y=song[0], sr=song[1], n_chroma=7)\n",
        "media_linhas = np.mean(chroma, axis=1)\n",
        "sd2 = np.std(chroma, axis=1)**2"
      ],
      "metadata": {
        "id": "2qmgn45_HyEs"
      },
      "id": "2qmgn45_HyEs",
      "execution_count": 20,
      "outputs": []
    },
    {
      "cell_type": "code",
      "source": [
        "print(media_linhas)\n",
        "print(sd2)"
      ],
      "metadata": {
        "colab": {
          "base_uri": "https://localhost:8080/"
        },
        "id": "rjGAoqcTH-BD",
        "outputId": "3003a6e6-e7ca-490b-8a53-adde6e13bf3b"
      },
      "id": "rjGAoqcTH-BD",
      "execution_count": 21,
      "outputs": [
        {
          "output_type": "stream",
          "name": "stdout",
          "text": [
            "[0.47524655 0.54116124 0.4977941  0.54429436 0.4182635  0.4914444\n",
            " 0.52466947]\n",
            "[0.07518348 0.10307483 0.09651286 0.10222084 0.06550278 0.08501279\n",
            " 0.10831227]\n"
          ]
        }
      ]
    }
  ],
  "metadata": {
    "kernelspec": {
      "display_name": "Python 3 (ipykernel)",
      "language": "python",
      "name": "python3"
    },
    "language_info": {
      "codemirror_mode": {
        "name": "ipython",
        "version": 3
      },
      "file_extension": ".py",
      "mimetype": "text/x-python",
      "name": "python",
      "nbconvert_exporter": "python",
      "pygments_lexer": "ipython3",
      "version": "3.9.13"
    },
    "colab": {
      "provenance": [],
      "include_colab_link": true
    }
  },
  "nbformat": 4,
  "nbformat_minor": 5
}