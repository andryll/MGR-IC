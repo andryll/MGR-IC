{
  "nbformat": 4,
  "nbformat_minor": 0,
  "metadata": {
    "colab": {
      "provenance": [],
      "authorship_tag": "ABX9TyNAwd3pse6s1YClEOyxqcEQ",
      "include_colab_link": true
    },
    "kernelspec": {
      "name": "python3",
      "display_name": "Python 3"
    },
    "language_info": {
      "name": "python"
    }
  },
  "cells": [
    {
      "cell_type": "markdown",
      "metadata": {
        "id": "view-in-github",
        "colab_type": "text"
      },
      "source": [
        "<a href=\"https://colab.research.google.com/github/andryll/MGR-IC/blob/main/codes/MGR.ipynb\" target=\"_parent\"><img src=\"https://colab.research.google.com/assets/colab-badge.svg\" alt=\"Open In Colab\"/></a>"
      ]
    },
    {
      "cell_type": "code",
      "execution_count": 2,
      "metadata": {
        "id": "BsCBbqujAw3n"
      },
      "outputs": [],
      "source": [
        "import numpy as np\n",
        "import librosa\n",
        "import IPython.display as ipd\n",
        "import matplotlib.pyplot as plt\n",
        "import os\n",
        "import pandas as pd"
      ]
    },
    {
      "cell_type": "code",
      "source": [
        "!git clone https://github.com/andryll/MGR-IC.git"
      ],
      "metadata": {
        "colab": {
          "base_uri": "https://localhost:8080/"
        },
        "id": "9dnS8dYgBCN-",
        "outputId": "a70020cf-84f8-4f83-e028-5864ebfe9e55"
      },
      "execution_count": 3,
      "outputs": [
        {
          "output_type": "stream",
          "name": "stdout",
          "text": [
            "Cloning into 'MGR-IC'...\n",
            "remote: Enumerating objects: 1044, done.\u001b[K\n",
            "remote: Counting objects: 100% (45/45), done.\u001b[K\n",
            "remote: Compressing objects: 100% (43/43), done.\u001b[K\n",
            "remote: Total 1044 (delta 14), reused 8 (delta 0), pack-reused 999\u001b[K\n",
            "Receiving objects: 100% (1044/1044), 1.13 GiB | 29.92 MiB/s, done.\n",
            "Resolving deltas: 100% (14/14), done.\n",
            "Updating files: 100% (1004/1004), done.\n"
          ]
        }
      ]
    },
    {
      "cell_type": "code",
      "source": [
        "def readSongs (genre, numSongs, sr):\n",
        "  dir_path = os.path.join('/content/MGR-IC/songs/',genre)\n",
        "\n",
        "  files = os.listdir(dir_path)\n",
        "  files.sort\n",
        "\n",
        "  songs = []\n",
        "\n",
        "  for i in range(numSongs):\n",
        "    songs.append(librosa.load(os.path.join(dir_path, files[i]), sr=sr, mono = True))\n",
        "    songs[-1] = songs[-1] + (genre,)\n",
        " # print(songs)\n",
        "\n",
        "  return songs\n",
        "\n",
        "\n",
        "def featureExtraction (songs, feature, sr):\n",
        "\n",
        "  zcrlist = []\n",
        "  rmslist = []\n",
        "  mfcclist = []\n",
        "  sctoidlist = []\n",
        "  srlofflist99 = []\n",
        "  srlofflist1 = []\n",
        "\n",
        "  for i in songs:\n",
        "\n",
        "    match feature:\n",
        "      case 'zcr':\n",
        "        zcr = librosa.feature.zero_crossing_rate(i[0], frame_length = 2048, hop_length = 512, center = True)\n",
        "        aux = pd.DataFrame(zcr[0]).transpose()\n",
        "        aux['Classe'] = i[2]\n",
        "        zcrlist.append(aux)\n",
        "\n",
        "      case 'rms':\n",
        "        rms = librosa.feature.rms(y=i[0], frame_length = 2048, hop_length = 512, center = True)\n",
        "        aux = pd.DataFrame(rms[0]).transpose()\n",
        "        aux['Classe'] = i[2]\n",
        "        rmslist.append(aux)\n",
        "\n",
        "      case 'mfcc':\n",
        "        mfcc = librosa.feature.mfcc(y=i[0], sr=sr)\n",
        "        aux = pd.DataFrame(mfcc).transpose()\n",
        "        aux['Classe'] = i[2]\n",
        "        mfcclist.append(aux)\n",
        "\n",
        "      case 'centroid':\n",
        "        sctoid = librosa.feature.spectral_centroid(y=i[0], sr=sr, hop_length = 512, center = True)\n",
        "        aux = pd.DataFrame(sctoid[0]).transpose()\n",
        "        aux['Classe'] = i[2]\n",
        "        sctoidlist.append(aux)\n",
        "\n",
        "      case 'rolloff':\n",
        "        srloff99 = librosa.feature.spectral_rolloff(y=i[0], sr=sr, hop_length = 512, center = True, roll_percent=0.95)\n",
        "        srloff1 = librosa.feature.spectral_rolloff(y=i[0], sr=sr, hop_length = 512, center = True, roll_percent=0.05)\n",
        "        aux = pd.DataFrame(srloff99).transpose()\n",
        "        aux['Classe'] = i[2]\n",
        "        srlofflist99.append(aux)\n",
        "        aux = pd.DataFrame(srloff1).transpose()\n",
        "        aux['Classe'] = i[2]\n",
        "        srlofflist1.append(aux)\n",
        "\n",
        "      case 'all':\n",
        "        zcr = librosa.feature.zero_crossing_rate(i[0], frame_length = 2048, hop_length = 512, center = True)\n",
        "        aux = pd.DataFrame(zcr[0]).transpose()\n",
        "        aux['Classe'] = i[2]\n",
        "        zcrlist.append(aux)\n",
        "\n",
        "        rms = librosa.feature.rms(y=i[0], frame_length = 2048, hop_length = 512, center = True)\n",
        "        aux = pd.DataFrame(rms[0]).transpose()\n",
        "        aux['Classe'] = i[2]\n",
        "        rmslist.append(aux)\n",
        "\n",
        "        mfcc = librosa.feature.mfcc(y=i[0], sr=sr)\n",
        "        aux = pd.DataFrame(mfcc).transpose()\n",
        "        aux['Classe'] = i[2]\n",
        "        mfcclist.append(aux)\n",
        "\n",
        "        sctoid = librosa.feature.spectral_centroid(y=i[0], sr=sr, hop_length = 512, center = True)\n",
        "        aux = pd.DataFrame(sctoid[0]).transpose()\n",
        "        aux['Classe'] = i[2]\n",
        "        sctoidlist.append(aux)\n",
        "\n",
        "        srloff99 = librosa.feature.spectral_rolloff(y=i[0], sr=sr, hop_length = 512, center = True, roll_percent=0.95)\n",
        "        srloff1 = librosa.feature.spectral_rolloff(y=i[0], sr=sr, hop_length = 512, center = True, roll_percent=0.05)\n",
        "        aux = pd.DataFrame(srloff99[0]).transpose()\n",
        "        aux['Classe'] = i[2]\n",
        "        srlofflist99.append(aux)\n",
        "        aux = pd.DataFrame(srloff1[0]).transpose()\n",
        "        aux['Classe'] = i[2]\n",
        "        srlofflist1.append(aux)\n",
        "\n",
        "      case _:\n",
        "        print('Feature Inválida')\n",
        "\n",
        "  match feature:\n",
        "    case 'zcr':\n",
        "      dfzcr = pd.concat(zcrlist, axis=0)\n",
        "      return dfzcr\n",
        "\n",
        "    case 'rms':\n",
        "      dfrms = pd.concat(rmslist, axis=0)\n",
        "      return dfrms\n",
        "\n",
        "    case 'mfcc':\n",
        "      dfmfcc = pd.concat(mfcclist, axis=0)\n",
        "      return dfmfcc\n",
        "\n",
        "    case 'centroid':\n",
        "      dfcentroid = pd.concat(sctoidlist, axis=0)\n",
        "      return dfcentroid\n",
        "\n",
        "    case 'roloff':\n",
        "      dfrolloff01 = pd.concat(sclofflist1, axis=0)\n",
        "      dfrolloff99 = pd.concat(sclofflist99, axis=0)\n",
        "      return [dfrolloff01, dfrolloff99]\n",
        "\n",
        "    case 'all':\n",
        "      dfzcr = pd.concat(zcrlist, axis=0)\n",
        "      dfrms = pd.concat(rmslist, axis=0)\n",
        "      dfmfcc = pd.concat(mfcclist, axis=0)\n",
        "      dfcentroid = pd.concat(sctoidlist, axis=0)\n",
        "      dfrolloff01 = pd.concat(sclofflist1, axis=0)\n",
        "      dfrolloff99 = pd.concat(sclofflist99, axis=0)\n",
        "      return dfzcr, dfrms, dfmfcc, dfcentroid, dfrolloff01, dfrolloff99\n",
        "\n"
      ],
      "metadata": {
        "id": "XHkUp22yBYNr"
      },
      "execution_count": 66,
      "outputs": []
    },
    {
      "cell_type": "code",
      "source": [
        "songs = readSongs ('rock', 10, 44100)\n",
        "[df, df2] = featureExtraction (songs, 'rolloff', 44100)\n",
        "df.head()\n",
        "df2.head()"
      ],
      "metadata": {
        "colab": {
          "base_uri": "https://localhost:8080/",
          "height": 227
        },
        "id": "in7QyzU8CTOz",
        "outputId": "cb6cb98c-b7ce-422f-c6bc-44a1c5c57640"
      },
      "execution_count": 67,
      "outputs": [
        {
          "output_type": "error",
          "ename": "TypeError",
          "evalue": "ignored",
          "traceback": [
            "\u001b[0;31m---------------------------------------------------------------------------\u001b[0m",
            "\u001b[0;31mTypeError\u001b[0m                                 Traceback (most recent call last)",
            "\u001b[0;32m<ipython-input-67-1e675d550197>\u001b[0m in \u001b[0;36m<cell line: 2>\u001b[0;34m()\u001b[0m\n\u001b[1;32m      1\u001b[0m \u001b[0msongs\u001b[0m \u001b[0;34m=\u001b[0m \u001b[0mreadSongs\u001b[0m \u001b[0;34m(\u001b[0m\u001b[0;34m'rock'\u001b[0m\u001b[0;34m,\u001b[0m \u001b[0;36m10\u001b[0m\u001b[0;34m,\u001b[0m \u001b[0;36m44100\u001b[0m\u001b[0;34m)\u001b[0m\u001b[0;34m\u001b[0m\u001b[0;34m\u001b[0m\u001b[0m\n\u001b[0;32m----> 2\u001b[0;31m \u001b[0;34m[\u001b[0m\u001b[0mdf\u001b[0m\u001b[0;34m,\u001b[0m \u001b[0mdf2\u001b[0m\u001b[0;34m]\u001b[0m \u001b[0;34m=\u001b[0m \u001b[0mfeatureExtraction\u001b[0m \u001b[0;34m(\u001b[0m\u001b[0msongs\u001b[0m\u001b[0;34m,\u001b[0m \u001b[0;34m'rolloff'\u001b[0m\u001b[0;34m,\u001b[0m \u001b[0;36m44100\u001b[0m\u001b[0;34m)\u001b[0m\u001b[0;34m\u001b[0m\u001b[0;34m\u001b[0m\u001b[0m\n\u001b[0m\u001b[1;32m      3\u001b[0m \u001b[0mdf\u001b[0m\u001b[0;34m.\u001b[0m\u001b[0mhead\u001b[0m\u001b[0;34m(\u001b[0m\u001b[0;34m)\u001b[0m\u001b[0;34m\u001b[0m\u001b[0;34m\u001b[0m\u001b[0m\n\u001b[1;32m      4\u001b[0m \u001b[0mdf2\u001b[0m\u001b[0;34m.\u001b[0m\u001b[0mhead\u001b[0m\u001b[0;34m(\u001b[0m\u001b[0;34m)\u001b[0m\u001b[0;34m\u001b[0m\u001b[0;34m\u001b[0m\u001b[0m\n",
            "\u001b[0;31mTypeError\u001b[0m: cannot unpack non-iterable NoneType object"
          ]
        }
      ]
    }
  ]
}