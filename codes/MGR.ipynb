{
  "nbformat": 4,
  "nbformat_minor": 0,
  "metadata": {
    "colab": {
      "provenance": [],
      "authorship_tag": "ABX9TyPgE7dvmOIeVImtVRjSl3xx",
      "include_colab_link": true
    },
    "kernelspec": {
      "name": "python3",
      "display_name": "Python 3"
    },
    "language_info": {
      "name": "python"
    }
  },
  "cells": [
    {
      "cell_type": "markdown",
      "metadata": {
        "id": "view-in-github",
        "colab_type": "text"
      },
      "source": [
        "<a href=\"https://colab.research.google.com/github/andryll/MGR-IC/blob/main/codes/MGR.ipynb\" target=\"_parent\"><img src=\"https://colab.research.google.com/assets/colab-badge.svg\" alt=\"Open In Colab\"/></a>"
      ]
    },
    {
      "cell_type": "markdown",
      "source": [
        "###Setup\n"
      ],
      "metadata": {
        "id": "CJ_IoRXIcgLQ"
      }
    },
    {
      "cell_type": "code",
      "execution_count": 20,
      "metadata": {
        "id": "BsCBbqujAw3n"
      },
      "outputs": [],
      "source": [
        "import numpy as np\n",
        "import librosa\n",
        "import IPython.display as ipd\n",
        "import matplotlib.pyplot as plt\n",
        "import os\n",
        "import pandas as pd\n",
        "from sklearn.model_selection import train_test_split\n",
        "from sklearn import neighbors\n",
        "from sklearn import tree\n",
        "from sklearn import ensemble\n",
        "from sklearn import metrics\n",
        "from sklearn import preprocessing\n",
        "from sklearn.model_selection import StratifiedKFold\n",
        "from sklearn.metrics import f1_score\n",
        "from sklearn.metrics import balanced_accuracy_score\n",
        "from sklearn.decomposition import PCA"
      ]
    },
    {
      "cell_type": "code",
      "source": [
        "!git clone https://github.com/andryll/MGR-IC.git"
      ],
      "metadata": {
        "colab": {
          "base_uri": "https://localhost:8080/"
        },
        "id": "9dnS8dYgBCN-",
        "outputId": "f3e55282-48ae-48e7-be08-73045d98c997"
      },
      "execution_count": 2,
      "outputs": [
        {
          "output_type": "stream",
          "name": "stdout",
          "text": [
            "Cloning into 'MGR-IC'...\n",
            "remote: Enumerating objects: 1064, done.\u001b[K\n",
            "remote: Counting objects: 100% (65/65), done.\u001b[K\n",
            "remote: Compressing objects: 100% (63/63), done.\u001b[K\n",
            "remote: Total 1064 (delta 20), reused 8 (delta 0), pack-reused 999\u001b[K\n",
            "Receiving objects: 100% (1064/1064), 1.13 GiB | 30.94 MiB/s, done.\n",
            "Resolving deltas: 100% (20/20), done.\n",
            "Updating files: 100% (1004/1004), done.\n"
          ]
        }
      ]
    },
    {
      "cell_type": "markdown",
      "source": [
        "###Leitura das Músicas"
      ],
      "metadata": {
        "id": "iMiDuVXXIGHN"
      }
    },
    {
      "cell_type": "code",
      "source": [
        "def readSongs (genre, numSongs, sr=44100):\n",
        "\n",
        "  genrelist = ['blues', 'classical', 'country', 'disco', 'hiphop', 'jazz',\n",
        "                'metal', 'pop', 'reggae', 'rock']\n",
        "\n",
        "  if genre != 'all':\n",
        "    genrelist = [genre]\n",
        "\n",
        "  songs = []\n",
        "\n",
        "  for g in genrelist:\n",
        "\n",
        "    dir_path = os.path.join('/content/MGR-IC/songs/', g)\n",
        "\n",
        "    files = os.listdir(dir_path)\n",
        "    files.sort\n",
        "\n",
        "    for i in range(numSongs):\n",
        "      songs.append(librosa.load(os.path.join(dir_path, files[i]), sr=sr, mono = True))\n",
        "      songs[-1] = songs[-1] + (g,)\n",
        " # print(songs)\n",
        "\n",
        "  min_len = min(len(song[0]) for song in songs)\n",
        "\n",
        "  min_songs = []\n",
        "  for song in songs:\n",
        "      if len(song[0]) > min_len:\n",
        "        start_trim = int((len(song[0]) - min_len) / 2)\n",
        "        end_trim = len(song[0]) - start_trim\n",
        "        trimmed_audio = librosa.util.normalize(song[0][start_trim:end_trim])\n",
        "        min_songs.append(trimmed_audio)\n",
        "      else:\n",
        "        min_songs.append(song[0])\n",
        "\n",
        "  new_songs = []\n",
        "  for i in range(len(songs)):\n",
        "    tupla = (min_songs[i], songs[i][1], songs[i][2])\n",
        "    new_songs.append(tupla)\n",
        "\n",
        "  return new_songs\n"
      ],
      "metadata": {
        "id": "XHkUp22yBYNr"
      },
      "execution_count": 2,
      "outputs": []
    },
    {
      "cell_type": "markdown",
      "source": [
        "###Extração das Features"
      ],
      "metadata": {
        "id": "2CLppMQ9IMRY"
      }
    },
    {
      "cell_type": "code",
      "source": [
        "def featureExtraction (songs, feature, sr=44100, frame=512):\n",
        "\n",
        "  zcrlist = []\n",
        "  rmslist = []\n",
        "  mfcclist = []\n",
        "  sctoidlist = []\n",
        "  srlofflist99 = []\n",
        "  srlofflist1 = []\n",
        "\n",
        "  for i in songs:\n",
        "\n",
        "    match feature:\n",
        "      case 'zcr':\n",
        "        zcr = librosa.feature.zero_crossing_rate(i[0], frame_length = frame, hop_length = round(frame/2), center = True)\n",
        "        aux = pd.DataFrame(zcr[0]).transpose()\n",
        "        aux['Classe'] = i[2]\n",
        "        zcrlist.append(aux)\n",
        "\n",
        "      case 'rms':\n",
        "        rms = librosa.feature.rms(y=i[0], frame_length = frame, hop_length = round(frame/2), center = True)\n",
        "        aux = pd.DataFrame(rms[0]).transpose()\n",
        "        aux['Classe'] = i[2]\n",
        "        rmslist.append(aux)\n",
        "\n",
        "      case 'mfcc':\n",
        "        mfcc = librosa.feature.mfcc(y=i[0], sr=sr)\n",
        "        mfcc = (np.array(mfcc).flatten()).tolist()\n",
        "        aux = pd.DataFrame(mfcc).transpose()\n",
        "        aux['Classe'] = i[2]\n",
        "        mfcclist.append(aux)\n",
        "\n",
        "      case 'centroid':\n",
        "        sctoid = librosa.feature.spectral_centroid(y=i[0], sr=sr, hop_length = round(frame/2), center = True)\n",
        "        aux = pd.DataFrame(sctoid[0]).transpose()\n",
        "        aux['Classe'] = i[2]\n",
        "        sctoidlist.append(aux)\n",
        "\n",
        "      case 'rolloff':\n",
        "        srloff99 = librosa.feature.spectral_rolloff(y=i[0], sr=sr, hop_length = round(frame/2), center = True, roll_percent=0.95)\n",
        "        srloff1 = librosa.feature.spectral_rolloff(y=i[0], sr=sr, hop_length = round(frame/2), center = True, roll_percent=0.05)\n",
        "        aux = pd.DataFrame(srloff99).transpose()\n",
        "        aux['Classe'] = i[2]\n",
        "        srlofflist99.append(aux)\n",
        "        aux = pd.DataFrame(srloff1).transpose()\n",
        "        aux['Classe'] = i[2]\n",
        "        srlofflist1.append(aux)\n",
        "\n",
        "      case 'all':\n",
        "        zcr = librosa.feature.zero_crossing_rate(i[0], frame_length = frame, hop_length = round(frame/2), center = True)\n",
        "        aux = pd.DataFrame(zcr[0]).transpose()\n",
        "        aux['Classe'] = i[2]\n",
        "        zcrlist.append(aux)\n",
        "\n",
        "        rms = librosa.feature.rms(y=i[0], frame_length = frame, hop_length = round(frame/2), center = True)\n",
        "        aux = pd.DataFrame(rms[0]).transpose()\n",
        "        aux['Classe'] = i[2]\n",
        "        rmslist.append(aux)\n",
        "\n",
        "        mfcc = librosa.feature.mfcc(y=i[0], sr=sr)\n",
        "        mfcc = preprocessing.StandardScaler().fit_transform(mfcc)\n",
        "        pca = PCA(n_components = 240000)\n",
        "        mfcc = pca.fit_transform(mfcc)\n",
        "        aux = pd.DataFrame(mfcc).transpose()\n",
        "        aux = pd.DataFrame(mfcc).transpose()\n",
        "        aux['Classe'] = i[2]\n",
        "        mfcclist.append(aux)\n",
        "\n",
        "        sctoid = librosa.feature.spectral_centroid(y=i[0], sr=sr, hop_length = round(frame/2), center = True)\n",
        "        aux = pd.DataFrame(sctoid[0]).transpose()\n",
        "        aux['Classe'] = i[2]\n",
        "        sctoidlist.append(aux)\n",
        "\n",
        "        srloff99 = librosa.feature.spectral_rolloff(y=i[0], sr=sr, hop_length = round(frame/2), center = True, roll_percent=0.95)\n",
        "        srloff1 = librosa.feature.spectral_rolloff(y=i[0], sr=sr, hop_length = round(frame/2), center = True, roll_percent=0.05)\n",
        "        aux = pd.DataFrame(srloff99[0]).transpose()\n",
        "        aux['Classe'] = i[2]\n",
        "        srlofflist99.append(aux)\n",
        "        aux = pd.DataFrame(srloff1[0]).transpose()\n",
        "        aux['Classe'] = i[2]\n",
        "        srlofflist1.append(aux)\n",
        "\n",
        "      case _:\n",
        "        print('Feature Inválida')\n",
        "\n",
        "  match feature:\n",
        "    case 'zcr':\n",
        "      dfzcr = pd.concat(zcrlist, axis=0)\n",
        "      return dfzcr\n",
        "\n",
        "    case 'rms':\n",
        "      dfrms = pd.concat(rmslist, axis=0)\n",
        "      return dfrms\n",
        "\n",
        "    case 'mfcc':\n",
        "      dfmfcc = pd.concat(mfcclist, axis=0)\n",
        "      return dfmfcc\n",
        "\n",
        "    case 'centroid':\n",
        "      dfcentroid = pd.concat(sctoidlist, axis=0)\n",
        "      return dfcentroid\n",
        "\n",
        "    case 'roloff':\n",
        "      dfrolloff01 = pd.concat(sclofflist1, axis=0)\n",
        "      dfrolloff99 = pd.concat(sclofflist99, axis=0)\n",
        "      return [dfrolloff01, dfrolloff99]\n",
        "\n",
        "    case 'all':\n",
        "      dfzcr = pd.concat(zcrlist, axis=0)\n",
        "      dfrms = pd.concat(rmslist, axis=0)\n",
        "      dfmfcc = pd.concat(mfcclist, axis=0)\n",
        "      dfcentroid = pd.concat(sctoidlist, axis=0)\n",
        "      dfrolloff01 = pd.concat(sclofflist1, axis=0)\n",
        "      dfrolloff99 = pd.concat(sclofflist99, axis=0)\n",
        "      return dfzcr, dfrms, dfmfcc, dfcentroid, dfrolloff01, dfrolloff99"
      ],
      "metadata": {
        "id": "9zx1VmhqIEpO"
      },
      "execution_count": 69,
      "outputs": []
    },
    {
      "cell_type": "markdown",
      "source": [
        "### Gráfico Cotovelo"
      ],
      "metadata": {
        "id": "_PhwFMqOffFb"
      }
    },
    {
      "cell_type": "code",
      "source": [
        "def KFoldCrossValidation(dataframe, n_splits, seed):\n",
        "\n",
        "    target = 'Classe'\n",
        "    X_columns = dataframe.columns[dataframe.columns != target]\n",
        "    X = dataframe[X_columns]\n",
        "    Y = dataframe[target]\n",
        "\n",
        "    skf = StratifiedKFold(n_splits = n_splits, shuffle=True, random_state = seed)\n",
        "\n",
        "    X_train_list = []\n",
        "    X_test_list = []\n",
        "    Y_train_list = []\n",
        "    Y_test_list = []\n",
        "\n",
        "    for train_index, test_index in skf.split(X, Y):\n",
        "        X_train, X_test = X.iloc[train_index], X.iloc[test_index]\n",
        "        Y_train, Y_test = Y.iloc[train_index], Y.iloc[test_index]\n",
        "\n",
        "        # Armazenar os vetores de treino e teste nas listas\n",
        "        X_train_list.append(X_train.values.tolist())\n",
        "        X_test_list.append(X_test.values.tolist())\n",
        "        Y_train_list.append(Y_train.to_list())\n",
        "        Y_test_list.append(Y_test.to_list())\n",
        "\n",
        "    return X_train_list, X_test_list, Y_train_list, Y_test_list"
      ],
      "metadata": {
        "id": "J7hizmFIkuom"
      },
      "execution_count": 4,
      "outputs": []
    },
    {
      "cell_type": "code",
      "source": [
        "def elbowKNN(dflist, n_neigh, seed):\n",
        "\n",
        "\n",
        "  scorelist = []\n",
        "\n",
        "  for df in dflist:\n",
        "    neigh = neighbors.KNeighborsClassifier(n_neighbors= n_neigh)\n",
        "\n",
        "    X_train, X_test, Y_train, Y_test = KFoldCrossValidation(df, n_splits = 10, seed = seed)\n",
        "\n",
        "    auxlist = []\n",
        "\n",
        "    for i in range(10):\n",
        "\n",
        "        neigh.fit(X_train[i], Y_train[i])\n",
        "        Y_predict = neigh.predict(X_test[i])\n",
        "        #auxlist.append(f1_score(Y_test[i], Y_predict, average='weighted'))\n",
        "        auxlist.append(balanced_accuracy_score(Y_test[i], Y_predict))\n",
        "\n",
        "    scorelist.append(np.mean(np.array(auxlist), axis = 0))\n",
        "\n",
        "  return scorelist"
      ],
      "metadata": {
        "id": "Vy3caKRJfdvm"
      },
      "execution_count": 5,
      "outputs": []
    },
    {
      "cell_type": "code",
      "source": [
        "def elbowTree(dflist, seed):\n",
        "\n",
        "  scorelist = []\n",
        "\n",
        "  for df in dflist:\n",
        "    clf = tree.DecisionTreeClassifier(random_state = seed)\n",
        "\n",
        "    X_train, X_test, Y_train, Y_test = KFoldCrossValidation(df, n_splits = 10, seed = seed)\n",
        "\n",
        "    auxlist = []\n",
        "\n",
        "    for i in range(10):\n",
        "\n",
        "        clf.fit(X_train[i], Y_train[i])\n",
        "        Y_predict = clf.predict(X_test[i])\n",
        "        # auxlist.append(f1_score(Y_test[i], Y_predict, average='weighted'))\n",
        "        auxlist.append(balanced_accuracy_score(Y_test[i], Y_predict))\n",
        "\n",
        "    scorelist.append(np.mean(np.array(auxlist), axis = 0))\n",
        "\n",
        "  return scorelist\n"
      ],
      "metadata": {
        "id": "Q67MZgp2RA_b"
      },
      "execution_count": 6,
      "outputs": []
    },
    {
      "cell_type": "code",
      "source": [
        "def elbowRF(dflist, seed):\n",
        "\n",
        "  scorelist = []\n",
        "\n",
        "  for df in dflist:\n",
        "    rf = ensemble.RandomForestClassifier(random_state = seed)\n",
        "\n",
        "    X_train, X_test, Y_train, Y_test = KFoldCrossValidation(df, n_splits = 10, seed = seed)\n",
        "\n",
        "    auxlist = []\n",
        "\n",
        "    for i in range(10):\n",
        "\n",
        "        rf.fit(X_train[i], Y_train[i])\n",
        "        Y_predict = rf.predict(X_test[i])\n",
        "        # auxlist.append(f1_score(Y_test[i], Y_predict, average='weighted'))\n",
        "        auxlist.append(balanced_accuracy_score(Y_test[i], Y_predict))\n",
        "\n",
        "    scorelist.append(np.mean(np.array(auxlist), axis = 0))\n",
        "\n",
        "  return scorelist"
      ],
      "metadata": {
        "id": "9ISMGsNCR4Nf"
      },
      "execution_count": 7,
      "outputs": []
    },
    {
      "cell_type": "markdown",
      "source": [
        "### Testes"
      ],
      "metadata": {
        "id": "BN-PVw4CZ-9p"
      }
    },
    {
      "cell_type": "code",
      "source": [
        "songs = readSongs ('all', 50, 44100)\n",
        "# [df, df2] = featureExtraction (songs, 'rolloff', 44100)\n",
        "# df.head()\n",
        "# df2.head()"
      ],
      "metadata": {
        "id": "in7QyzU8CTOz"
      },
      "execution_count": 8,
      "outputs": []
    },
    {
      "cell_type": "code",
      "source": [
        "frame_lenghts = [256, 512, 1024, 2048, 4096, 8192]\n",
        "\n",
        "dflist = []\n",
        "for f in frame_lenghts:\n",
        "  dflist.append(featureExtraction(songs, 'rms', 44100, frame=f))\n",
        "\n",
        "#dflist[3].head()"
      ],
      "metadata": {
        "id": "C2PBQJjreFIF"
      },
      "execution_count": 22,
      "outputs": []
    },
    {
      "cell_type": "code",
      "source": [
        "# knnscores = []\n",
        "# seed = 60\n",
        "\n",
        "# knnscores.append(elbowKNN(dflist, n_neigh = 3, seed = seed))\n",
        "# knnscores.append(elbowKNN(dflist, n_neigh = 5, seed = seed))\n",
        "# knnscores.append(elbowKNN(dflist, n_neigh = 7, seed = seed))\n",
        "\n",
        "# dtscores = elbowTree(dflist, seed = seed)\n",
        "# rfscores = elbowRF(dflist, seed = seed)"
      ],
      "metadata": {
        "id": "w6hHLnlBIMUS"
      },
      "execution_count": null,
      "outputs": []
    },
    {
      "cell_type": "code",
      "source": [
        "# plt.plot(frame_lenghts, knnscores[0], label = 'KNN k = 3', marker = 'o')\n",
        "# plt.plot(frame_lenghts, knnscores[1], label = 'KNN k = 5', marker = '^')\n",
        "# plt.plot(frame_lenghts, knnscores[2], label = 'KNN k = 7', marker = 's')\n",
        "# plt.plot(frame_lenghts, dtscores, label = 'Decision Trees', marker = '*')\n",
        "# plt.plot(frame_lenghts, rfscores, label = 'Random Forest', marker = 'P')\n",
        "\n",
        "# plt.legend()\n",
        "# plt.grid()\n",
        "# plt.ylabel('Acurácia')\n",
        "# plt.xlabel('Frame Lenghts')\n",
        "# plt.title('Gráfico de Cotovelo')\n",
        "# plt.show()\n"
      ],
      "metadata": {
        "id": "Zdq-DX5dTqj8"
      },
      "execution_count": null,
      "outputs": []
    },
    {
      "cell_type": "code",
      "source": [
        "knnscores3 = []\n",
        "knnscores5 = []\n",
        "knnscores7 = []\n",
        "dtscores = []\n",
        "rfscores = []\n",
        "seeds = [14, 42, 60, 87, 113, 156, 211, 456, 917, 1001]\n",
        "\n",
        "for seed in seeds:\n",
        "  knnscores3.append(elbowKNN(dflist, n_neigh = 3, seed = seed))\n",
        "  knnscores5.append(elbowKNN(dflist, n_neigh = 5, seed = seed))\n",
        "  knnscores7.append(elbowKNN(dflist, n_neigh = 7, seed = seed))\n",
        "\n",
        "  dtscores.append(elbowTree(dflist, seed = seed))\n",
        "  rfscores.append(elbowRF(dflist, seed = seed))"
      ],
      "metadata": {
        "id": "7OMC2nsEiULt"
      },
      "execution_count": 23,
      "outputs": []
    },
    {
      "cell_type": "code",
      "source": [
        "scoreslist = []\n",
        "scoresmeans = []\n",
        "scoressds = []\n",
        "\n",
        "scoreslist.append(np.array(knnscores3))\n",
        "scoreslist.append(np.array(knnscores5))\n",
        "scoreslist.append(np.array(knnscores7))\n",
        "scoreslist.append(np.array(dtscores))\n",
        "scoreslist.append(np.array(rfscores))\n",
        "\n",
        "# KNN3 = 0 / KNN5 = 1 / KNN7 = 2 / DT = 3 / RF = 4\n",
        "\n",
        "for score in scoreslist:\n",
        "  scoresmeans.append(np.mean(score, axis=0))\n",
        "  scoressds.append(np.std(score, axis=0))\n"
      ],
      "metadata": {
        "id": "miCi5hkYdcPB"
      },
      "execution_count": 24,
      "outputs": []
    },
    {
      "cell_type": "code",
      "source": [
        "plt.plot(frame_lenghts, scoresmeans[0], label = 'KNN k = 3', marker = 'o')\n",
        "plt.plot(frame_lenghts, scoresmeans[1], label = 'KNN k = 5', marker = '^')\n",
        "plt.plot(frame_lenghts, scoresmeans[2], label = 'KNN k = 7', marker = 's')\n",
        "plt.plot(frame_lenghts, scoresmeans[3], label = 'Decision Trees', marker = '*')\n",
        "plt.plot(frame_lenghts, scoresmeans[4], label = 'Random Forest', marker = 'P')\n",
        "\n",
        "plt.fill_between(frame_lenghts, scoresmeans[0] + scoressds[0], scoresmeans[0] - scoressds[0], alpha = 0.2)\n",
        "plt.fill_between(frame_lenghts, scoresmeans[1] + scoressds[1], scoresmeans[1] - scoressds[1], alpha = 0.2)\n",
        "plt.fill_between(frame_lenghts, scoresmeans[2] + scoressds[2], scoresmeans[2] - scoressds[2], alpha = 0.2)\n",
        "plt.fill_between(frame_lenghts, scoresmeans[3] + scoressds[3], scoresmeans[3] - scoressds[3], alpha = 0.2)\n",
        "plt.fill_between(frame_lenghts, scoresmeans[4] + scoressds[4], scoresmeans[4] - scoressds[4], alpha = 0.2)\n",
        "\n",
        "plt.legend()\n",
        "plt.grid()\n",
        "plt.ylabel('Balanced Accuracy')\n",
        "plt.xlabel('Frame Lenghts')\n",
        "plt.title('Gráfico de Cotovelo - RMS')\n",
        "plt.savefig('rms.pdf')\n",
        "plt.show()\n"
      ],
      "metadata": {
        "id": "c2-oKdK8fHTZ",
        "outputId": "69630128-2157-440d-848a-6fa93085b18e",
        "colab": {
          "base_uri": "https://localhost:8080/",
          "height": 472
        }
      },
      "execution_count": 25,
      "outputs": [
        {
          "output_type": "display_data",
          "data": {
            "text/plain": [
              "<Figure size 640x480 with 1 Axes>"
            ],
            "image/png": "[encoded data removed]"
          },
          "metadata": {}
        }
      ]
    },
    {
      "cell_type": "code",
      "source": [
        "  dfmfcc = featureExtraction(songs, 'mfcc', 44100, frame=1024)\n"
      ],
      "metadata": {
        "id": "VOwyn6YPgvd_"
      },
      "execution_count": 72,
      "outputs": []
    },
    {
      "cell_type": "code",
      "source": [
        "knnscores3 = []\n",
        "knnscores5 = []\n",
        "knnscores7 = []\n",
        "dtscores = []\n",
        "rfscores = []\n",
        "seeds = [14, 42, 60, 87, 113, 156, 211, 456, 917, 1001]\n",
        "\n",
        "for seed in seeds:\n",
        "  knnscores3.append(elbowKNN([dfmfcc], n_neigh = 3, seed = seed))\n",
        "  knnscores5.append(elbowKNN([dfmfcc], n_neigh = 5, seed = seed))\n",
        "  knnscores7.append(elbowKNN([dfmfcc], n_neigh = 7, seed = seed))\n",
        "\n",
        "  dtscores.append(elbowTree([dfmfcc], seed = seed))\n",
        "  rfscores.append(elbowRF([dfmfcc], seed = seed))"
      ],
      "metadata": {
        "id": "AU8r_78TqAcp"
      },
      "execution_count": null,
      "outputs": []
    }
  ]
}